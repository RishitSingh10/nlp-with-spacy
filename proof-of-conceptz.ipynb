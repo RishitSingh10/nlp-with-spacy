{
 "cells": [
  {
   "cell_type": "markdown",
   "id": "aafd40ff",
   "metadata": {},
   "source": [
    "# 01"
   ]
  },
  {
   "cell_type": "code",
   "execution_count": 6,
   "id": "16b99e9a",
   "metadata": {},
   "outputs": [],
   "source": [
    "import pandas as pd\n",
    "\n",
    "df = (pd.read_csv(\"Questions.csv\", nrows = 1_000_000,\n",
    "                 encoding = \"ISO-8859-1\", usecols = ['Title', 'Id']))\n",
    "titles = [_  for _ in df['Title'] ]"
   ]
  },
  {
   "cell_type": "code",
   "execution_count": 2,
   "id": "e0a11a98",
   "metadata": {},
   "outputs": [
    {
     "data": {
      "text/plain": [
       "['Where does Console.WriteLine go in ASP.NET?',\n",
       " 'Should try...catch go inside or outside a loop?']"
      ]
     },
     "execution_count": 2,
     "metadata": {},
     "output_type": "execute_result"
    }
   ],
   "source": [
    "def has_golang(text):\n",
    "    return \" go \" in text\n",
    "\n",
    "g = (title for title in titles if has_golang(title))\n",
    "[next(g) for i in range(2)]"
   ]
  },
  {
   "cell_type": "code",
   "execution_count": 3,
   "id": "867feb02",
   "metadata": {},
   "outputs": [
    {
     "name": "stdout",
     "output_type": "stream",
     "text": [
      "Collecting en-core-web-sm==3.7.1\n",
      "  Downloading https://github.com/explosion/spacy-models/releases/download/en_core_web_sm-3.7.1/en_core_web_sm-3.7.1-py3-none-any.whl (12.8 MB)\n",
      "     ---------------------------------------- 0.0/12.8 MB ? eta -:--:--\n",
      "     ---------------------------------------- 0.0/12.8 MB ? eta -:--:--\n",
      "     --------------------------------------- 0.0/12.8 MB 217.9 kB/s eta 0:00:59\n",
      "     --------------------------------------- 0.1/12.8 MB 491.5 kB/s eta 0:00:26\n",
      "      --------------------------------------- 0.3/12.8 MB 1.5 MB/s eta 0:00:09\n",
      "     - -------------------------------------- 0.6/12.8 MB 3.0 MB/s eta 0:00:05\n",
      "     ----- ---------------------------------- 1.9/12.8 MB 7.1 MB/s eta 0:00:02\n",
      "     -------- ------------------------------- 2.8/12.8 MB 8.8 MB/s eta 0:00:02\n",
      "     --------- ------------------------------ 3.1/12.8 MB 8.6 MB/s eta 0:00:02\n",
      "     ------------ --------------------------- 4.0/12.8 MB 10.2 MB/s eta 0:00:01\n",
      "     -------------- ------------------------- 4.5/12.8 MB 10.3 MB/s eta 0:00:01\n",
      "     --------------- ------------------------ 5.1/12.8 MB 10.2 MB/s eta 0:00:01\n",
      "     ----------------- ---------------------- 5.5/12.8 MB 10.1 MB/s eta 0:00:01\n",
      "     ------------------ --------------------- 6.0/12.8 MB 10.1 MB/s eta 0:00:01\n",
      "     ------------------- -------------------- 6.3/12.8 MB 10.1 MB/s eta 0:00:01\n",
      "     -------------------- ------------------- 6.7/12.8 MB 10.2 MB/s eta 0:00:01\n",
      "     ---------------------- ----------------- 7.1/12.8 MB 9.9 MB/s eta 0:00:01\n",
      "     ----------------------- ---------------- 7.6/12.8 MB 9.9 MB/s eta 0:00:01\n",
      "     ------------------------- -------------- 8.0/12.8 MB 9.9 MB/s eta 0:00:01\n",
      "     -------------------------- ------------- 8.4/12.8 MB 10.0 MB/s eta 0:00:01\n",
      "     --------------------------- ------------ 8.9/12.8 MB 10.0 MB/s eta 0:00:01\n",
      "     ----------------------------- ---------- 9.3/12.8 MB 9.8 MB/s eta 0:00:01\n",
      "     ------------------------------ --------- 9.7/12.8 MB 9.9 MB/s eta 0:00:01\n",
      "     ------------------------------- -------- 10.2/12.8 MB 9.8 MB/s eta 0:00:01\n",
      "     -------------------------------- ------ 10.7/12.8 MB 11.5 MB/s eta 0:00:01\n",
      "     --------------------------------- ----- 11.2/12.8 MB 11.3 MB/s eta 0:00:01\n",
      "     ----------------------------------- --- 11.6/12.8 MB 10.7 MB/s eta 0:00:01\n",
      "     ------------------------------------ -- 12.0/12.8 MB 10.6 MB/s eta 0:00:01\n",
      "     --------------------------------------  12.5/12.8 MB 10.2 MB/s eta 0:00:01\n",
      "     --------------------------------------  12.8/12.8 MB 10.2 MB/s eta 0:00:01\n",
      "     ---------------------------------------- 12.8/12.8 MB 9.9 MB/s eta 0:00:00\n",
      "Requirement already satisfied: spacy<3.8.0,>=3.7.2 in c:\\users\\rishit\\.conda\\envs\\myenv\\lib\\site-packages (from en-core-web-sm==3.7.1) (3.7.4)\n",
      "Requirement already satisfied: spacy-legacy<3.1.0,>=3.0.11 in c:\\users\\rishit\\.conda\\envs\\myenv\\lib\\site-packages (from spacy<3.8.0,>=3.7.2->en-core-web-sm==3.7.1) (3.0.12)\n",
      "Requirement already satisfied: spacy-loggers<2.0.0,>=1.0.0 in c:\\users\\rishit\\.conda\\envs\\myenv\\lib\\site-packages (from spacy<3.8.0,>=3.7.2->en-core-web-sm==3.7.1) (1.0.5)\n",
      "Requirement already satisfied: murmurhash<1.1.0,>=0.28.0 in c:\\users\\rishit\\.conda\\envs\\myenv\\lib\\site-packages (from spacy<3.8.0,>=3.7.2->en-core-web-sm==3.7.1) (1.0.10)\n",
      "Requirement already satisfied: cymem<2.1.0,>=2.0.2 in c:\\users\\rishit\\.conda\\envs\\myenv\\lib\\site-packages (from spacy<3.8.0,>=3.7.2->en-core-web-sm==3.7.1) (2.0.8)\n",
      "Requirement already satisfied: preshed<3.1.0,>=3.0.2 in c:\\users\\rishit\\.conda\\envs\\myenv\\lib\\site-packages (from spacy<3.8.0,>=3.7.2->en-core-web-sm==3.7.1) (3.0.9)\n",
      "Requirement already satisfied: thinc<8.3.0,>=8.2.2 in c:\\users\\rishit\\.conda\\envs\\myenv\\lib\\site-packages (from spacy<3.8.0,>=3.7.2->en-core-web-sm==3.7.1) (8.2.3)\n",
      "Requirement already satisfied: wasabi<1.2.0,>=0.9.1 in c:\\users\\rishit\\.conda\\envs\\myenv\\lib\\site-packages (from spacy<3.8.0,>=3.7.2->en-core-web-sm==3.7.1) (1.1.2)\n",
      "Requirement already satisfied: srsly<3.0.0,>=2.4.3 in c:\\users\\rishit\\.conda\\envs\\myenv\\lib\\site-packages (from spacy<3.8.0,>=3.7.2->en-core-web-sm==3.7.1) (2.4.8)\n",
      "Requirement already satisfied: catalogue<2.1.0,>=2.0.6 in c:\\users\\rishit\\.conda\\envs\\myenv\\lib\\site-packages (from spacy<3.8.0,>=3.7.2->en-core-web-sm==3.7.1) (2.0.10)\n",
      "Requirement already satisfied: weasel<0.4.0,>=0.1.0 in c:\\users\\rishit\\.conda\\envs\\myenv\\lib\\site-packages (from spacy<3.8.0,>=3.7.2->en-core-web-sm==3.7.1) (0.3.4)\n",
      "Requirement already satisfied: typer<0.10.0,>=0.3.0 in c:\\users\\rishit\\.conda\\envs\\myenv\\lib\\site-packages (from spacy<3.8.0,>=3.7.2->en-core-web-sm==3.7.1) (0.9.0)\n",
      "Requirement already satisfied: smart-open<7.0.0,>=5.2.1 in c:\\users\\rishit\\.conda\\envs\\myenv\\lib\\site-packages (from spacy<3.8.0,>=3.7.2->en-core-web-sm==3.7.1) (6.4.0)\n",
      "Requirement already satisfied: tqdm<5.0.0,>=4.38.0 in c:\\users\\rishit\\.conda\\envs\\myenv\\lib\\site-packages (from spacy<3.8.0,>=3.7.2->en-core-web-sm==3.7.1) (4.65.0)\n",
      "Requirement already satisfied: requests<3.0.0,>=2.13.0 in c:\\users\\rishit\\.conda\\envs\\myenv\\lib\\site-packages (from spacy<3.8.0,>=3.7.2->en-core-web-sm==3.7.1) (2.31.0)\n",
      "Requirement already satisfied: pydantic!=1.8,!=1.8.1,<3.0.0,>=1.7.4 in c:\\users\\rishit\\.conda\\envs\\myenv\\lib\\site-packages (from spacy<3.8.0,>=3.7.2->en-core-web-sm==3.7.1) (2.6.2)\n",
      "Requirement already satisfied: jinja2 in c:\\users\\rishit\\.conda\\envs\\myenv\\lib\\site-packages (from spacy<3.8.0,>=3.7.2->en-core-web-sm==3.7.1) (3.1.2)\n",
      "Requirement already satisfied: setuptools in c:\\users\\rishit\\.conda\\envs\\myenv\\lib\\site-packages (from spacy<3.8.0,>=3.7.2->en-core-web-sm==3.7.1) (68.0.0)\n",
      "Requirement already satisfied: packaging>=20.0 in c:\\users\\rishit\\.conda\\envs\\myenv\\lib\\site-packages (from spacy<3.8.0,>=3.7.2->en-core-web-sm==3.7.1) (23.1)\n",
      "Requirement already satisfied: langcodes<4.0.0,>=3.2.0 in c:\\users\\rishit\\.conda\\envs\\myenv\\lib\\site-packages (from spacy<3.8.0,>=3.7.2->en-core-web-sm==3.7.1) (3.3.0)\n",
      "Requirement already satisfied: numpy>=1.19.0 in c:\\users\\rishit\\.conda\\envs\\myenv\\lib\\site-packages (from spacy<3.8.0,>=3.7.2->en-core-web-sm==3.7.1) (1.24.3)\n",
      "Requirement already satisfied: annotated-types>=0.4.0 in c:\\users\\rishit\\.conda\\envs\\myenv\\lib\\site-packages (from pydantic!=1.8,!=1.8.1,<3.0.0,>=1.7.4->spacy<3.8.0,>=3.7.2->en-core-web-sm==3.7.1) (0.6.0)\n",
      "Requirement already satisfied: pydantic-core==2.16.3 in c:\\users\\rishit\\.conda\\envs\\myenv\\lib\\site-packages (from pydantic!=1.8,!=1.8.1,<3.0.0,>=1.7.4->spacy<3.8.0,>=3.7.2->en-core-web-sm==3.7.1) (2.16.3)\n",
      "Requirement already satisfied: typing-extensions>=4.6.1 in c:\\users\\rishit\\.conda\\envs\\myenv\\lib\\site-packages (from pydantic!=1.8,!=1.8.1,<3.0.0,>=1.7.4->spacy<3.8.0,>=3.7.2->en-core-web-sm==3.7.1) (4.9.0)\n",
      "Requirement already satisfied: charset-normalizer<4,>=2 in c:\\users\\rishit\\.conda\\envs\\myenv\\lib\\site-packages (from requests<3.0.0,>=2.13.0->spacy<3.8.0,>=3.7.2->en-core-web-sm==3.7.1) (2.0.4)\n",
      "Requirement already satisfied: idna<4,>=2.5 in c:\\users\\rishit\\.conda\\envs\\myenv\\lib\\site-packages (from requests<3.0.0,>=2.13.0->spacy<3.8.0,>=3.7.2->en-core-web-sm==3.7.1) (3.4)\n",
      "Requirement already satisfied: urllib3<3,>=1.21.1 in c:\\users\\rishit\\.conda\\envs\\myenv\\lib\\site-packages (from requests<3.0.0,>=2.13.0->spacy<3.8.0,>=3.7.2->en-core-web-sm==3.7.1) (1.26.16)\n",
      "Requirement already satisfied: certifi>=2017.4.17 in c:\\users\\rishit\\.conda\\envs\\myenv\\lib\\site-packages (from requests<3.0.0,>=2.13.0->spacy<3.8.0,>=3.7.2->en-core-web-sm==3.7.1) (2023.11.17)\n",
      "Requirement already satisfied: blis<0.8.0,>=0.7.8 in c:\\users\\rishit\\.conda\\envs\\myenv\\lib\\site-packages (from thinc<8.3.0,>=8.2.2->spacy<3.8.0,>=3.7.2->en-core-web-sm==3.7.1) (0.7.11)\n",
      "Requirement already satisfied: confection<1.0.0,>=0.0.1 in c:\\users\\rishit\\.conda\\envs\\myenv\\lib\\site-packages (from thinc<8.3.0,>=8.2.2->spacy<3.8.0,>=3.7.2->en-core-web-sm==3.7.1) (0.1.4)\n",
      "Requirement already satisfied: colorama in c:\\users\\rishit\\.conda\\envs\\myenv\\lib\\site-packages (from tqdm<5.0.0,>=4.38.0->spacy<3.8.0,>=3.7.2->en-core-web-sm==3.7.1) (0.4.6)\n",
      "Requirement already satisfied: click<9.0.0,>=7.1.1 in c:\\users\\rishit\\.conda\\envs\\myenv\\lib\\site-packages (from typer<0.10.0,>=0.3.0->spacy<3.8.0,>=3.7.2->en-core-web-sm==3.7.1) (8.1.7)\n",
      "Requirement already satisfied: cloudpathlib<0.17.0,>=0.7.0 in c:\\users\\rishit\\.conda\\envs\\myenv\\lib\\site-packages (from weasel<0.4.0,>=0.1.0->spacy<3.8.0,>=3.7.2->en-core-web-sm==3.7.1) (0.16.0)\n",
      "Requirement already satisfied: MarkupSafe>=2.0 in c:\\users\\rishit\\.conda\\envs\\myenv\\lib\\site-packages (from jinja2->spacy<3.8.0,>=3.7.2->en-core-web-sm==3.7.1) (2.1.1)\n",
      "\u001b[38;5;2m[+] Download and installation successful\u001b[0m\n",
      "You can now load the package via spacy.load('en_core_web_sm')\n"
     ]
    }
   ],
   "source": [
    "!python -m spacy download en_core_web_sm"
   ]
  },
  {
   "cell_type": "code",
   "execution_count": 4,
   "id": "be3abf3e",
   "metadata": {},
   "outputs": [],
   "source": [
    "import spacy\n",
    "\n",
    "nlp = spacy.load(\"en_core_web_sm\")"
   ]
  },
  {
   "cell_type": "code",
   "execution_count": 5,
   "id": "6177ed33",
   "metadata": {},
   "outputs": [
    {
     "data": {
      "text/plain": [
       "[My, name, is, Rishit, .]"
      ]
     },
     "execution_count": 5,
     "metadata": {},
     "output_type": "execute_result"
    }
   ],
   "source": [
    "[t for t in nlp(\"My name is Rishit.\")]"
   ]
  },
  {
   "cell_type": "code",
   "execution_count": 6,
   "id": "2f35dffa",
   "metadata": {},
   "outputs": [
    {
     "data": {
      "text/plain": [
       "spacy.tokens.token.Token"
      ]
     },
     "execution_count": 6,
     "metadata": {},
     "output_type": "execute_result"
    }
   ],
   "source": [
    "doc = nlp(\"My name is Rishit.\")\n",
    "t = doc[0]\n",
    "type(t)"
   ]
  },
  {
   "cell_type": "code",
   "execution_count": 17,
   "id": "636078a9",
   "metadata": {},
   "outputs": [
    {
     "data": {
      "text/html": [
       "<span class=\"tex2jax_ignore\"><svg xmlns=\"http://www.w3.org/2000/svg\" xmlns:xlink=\"http://www.w3.org/1999/xlink\" xml:lang=\"en\" id=\"4cfd7b510af14fb28a39f3b7e88649ea-0\" class=\"displacy\" width=\"7050\" height=\"662.0\" direction=\"ltr\" style=\"max-width: none; height: 662.0px; color: #000000; background: #ffffff; font-family: Arial; direction: ltr\">\n",
       "<text class=\"displacy-token\" fill=\"currentColor\" text-anchor=\"middle\" y=\"572.0\">\n",
       "    <tspan class=\"displacy-word\" fill=\"currentColor\" x=\"50\">My</tspan>\n",
       "    <tspan class=\"displacy-tag\" dy=\"2em\" fill=\"currentColor\" x=\"50\">PRON</tspan>\n",
       "</text>\n",
       "\n",
       "<text class=\"displacy-token\" fill=\"currentColor\" text-anchor=\"middle\" y=\"572.0\">\n",
       "    <tspan class=\"displacy-word\" fill=\"currentColor\" x=\"225\">name</tspan>\n",
       "    <tspan class=\"displacy-tag\" dy=\"2em\" fill=\"currentColor\" x=\"225\">NOUN</tspan>\n",
       "</text>\n",
       "\n",
       "<text class=\"displacy-token\" fill=\"currentColor\" text-anchor=\"middle\" y=\"572.0\">\n",
       "    <tspan class=\"displacy-word\" fill=\"currentColor\" x=\"400\">is</tspan>\n",
       "    <tspan class=\"displacy-tag\" dy=\"2em\" fill=\"currentColor\" x=\"400\">AUX</tspan>\n",
       "</text>\n",
       "\n",
       "<text class=\"displacy-token\" fill=\"currentColor\" text-anchor=\"middle\" y=\"572.0\">\n",
       "    <tspan class=\"displacy-word\" fill=\"currentColor\" x=\"575\">Rishit</tspan>\n",
       "    <tspan class=\"displacy-tag\" dy=\"2em\" fill=\"currentColor\" x=\"575\">PROPN</tspan>\n",
       "</text>\n",
       "\n",
       "<text class=\"displacy-token\" fill=\"currentColor\" text-anchor=\"middle\" y=\"572.0\">\n",
       "    <tspan class=\"displacy-word\" fill=\"currentColor\" x=\"750\">and</tspan>\n",
       "    <tspan class=\"displacy-tag\" dy=\"2em\" fill=\"currentColor\" x=\"750\">CCONJ</tspan>\n",
       "</text>\n",
       "\n",
       "<text class=\"displacy-token\" fill=\"currentColor\" text-anchor=\"middle\" y=\"572.0\">\n",
       "    <tspan class=\"displacy-word\" fill=\"currentColor\" x=\"925\">I</tspan>\n",
       "    <tspan class=\"displacy-tag\" dy=\"2em\" fill=\"currentColor\" x=\"925\">PRON</tspan>\n",
       "</text>\n",
       "\n",
       "<text class=\"displacy-token\" fill=\"currentColor\" text-anchor=\"middle\" y=\"572.0\">\n",
       "    <tspan class=\"displacy-word\" fill=\"currentColor\" x=\"1100\">was</tspan>\n",
       "    <tspan class=\"displacy-tag\" dy=\"2em\" fill=\"currentColor\" x=\"1100\">AUX</tspan>\n",
       "</text>\n",
       "\n",
       "<text class=\"displacy-token\" fill=\"currentColor\" text-anchor=\"middle\" y=\"572.0\">\n",
       "    <tspan class=\"displacy-word\" fill=\"currentColor\" x=\"1275\">born</tspan>\n",
       "    <tspan class=\"displacy-tag\" dy=\"2em\" fill=\"currentColor\" x=\"1275\">VERB</tspan>\n",
       "</text>\n",
       "\n",
       "<text class=\"displacy-token\" fill=\"currentColor\" text-anchor=\"middle\" y=\"572.0\">\n",
       "    <tspan class=\"displacy-word\" fill=\"currentColor\" x=\"1450\">on</tspan>\n",
       "    <tspan class=\"displacy-tag\" dy=\"2em\" fill=\"currentColor\" x=\"1450\">ADP</tspan>\n",
       "</text>\n",
       "\n",
       "<text class=\"displacy-token\" fill=\"currentColor\" text-anchor=\"middle\" y=\"572.0\">\n",
       "    <tspan class=\"displacy-word\" fill=\"currentColor\" x=\"1625\">10th</tspan>\n",
       "    <tspan class=\"displacy-tag\" dy=\"2em\" fill=\"currentColor\" x=\"1625\">ADJ</tspan>\n",
       "</text>\n",
       "\n",
       "<text class=\"displacy-token\" fill=\"currentColor\" text-anchor=\"middle\" y=\"572.0\">\n",
       "    <tspan class=\"displacy-word\" fill=\"currentColor\" x=\"1800\">November</tspan>\n",
       "    <tspan class=\"displacy-tag\" dy=\"2em\" fill=\"currentColor\" x=\"1800\">PROPN</tspan>\n",
       "</text>\n",
       "\n",
       "<text class=\"displacy-token\" fill=\"currentColor\" text-anchor=\"middle\" y=\"572.0\">\n",
       "    <tspan class=\"displacy-word\" fill=\"currentColor\" x=\"1975\">2002.</tspan>\n",
       "    <tspan class=\"displacy-tag\" dy=\"2em\" fill=\"currentColor\" x=\"1975\">NUM</tspan>\n",
       "</text>\n",
       "\n",
       "<text class=\"displacy-token\" fill=\"currentColor\" text-anchor=\"middle\" y=\"572.0\">\n",
       "    <tspan class=\"displacy-word\" fill=\"currentColor\" x=\"2150\">I</tspan>\n",
       "    <tspan class=\"displacy-tag\" dy=\"2em\" fill=\"currentColor\" x=\"2150\">PRON</tspan>\n",
       "</text>\n",
       "\n",
       "<text class=\"displacy-token\" fill=\"currentColor\" text-anchor=\"middle\" y=\"572.0\">\n",
       "    <tspan class=\"displacy-word\" fill=\"currentColor\" x=\"2325\">work</tspan>\n",
       "    <tspan class=\"displacy-tag\" dy=\"2em\" fill=\"currentColor\" x=\"2325\">VERB</tspan>\n",
       "</text>\n",
       "\n",
       "<text class=\"displacy-token\" fill=\"currentColor\" text-anchor=\"middle\" y=\"572.0\">\n",
       "    <tspan class=\"displacy-word\" fill=\"currentColor\" x=\"2500\">at</tspan>\n",
       "    <tspan class=\"displacy-tag\" dy=\"2em\" fill=\"currentColor\" x=\"2500\">ADP</tspan>\n",
       "</text>\n",
       "\n",
       "<text class=\"displacy-token\" fill=\"currentColor\" text-anchor=\"middle\" y=\"572.0\">\n",
       "    <tspan class=\"displacy-word\" fill=\"currentColor\" x=\"2675\">Google</tspan>\n",
       "    <tspan class=\"displacy-tag\" dy=\"2em\" fill=\"currentColor\" x=\"2675\">PROPN</tspan>\n",
       "</text>\n",
       "\n",
       "<text class=\"displacy-token\" fill=\"currentColor\" text-anchor=\"middle\" y=\"572.0\">\n",
       "    <tspan class=\"displacy-word\" fill=\"currentColor\" x=\"2850\">from</tspan>\n",
       "    <tspan class=\"displacy-tag\" dy=\"2em\" fill=\"currentColor\" x=\"2850\">ADP</tspan>\n",
       "</text>\n",
       "\n",
       "<text class=\"displacy-token\" fill=\"currentColor\" text-anchor=\"middle\" y=\"572.0\">\n",
       "    <tspan class=\"displacy-word\" fill=\"currentColor\" x=\"3025\">Hyderabad.</tspan>\n",
       "    <tspan class=\"displacy-tag\" dy=\"2em\" fill=\"currentColor\" x=\"3025\">PROPN</tspan>\n",
       "</text>\n",
       "\n",
       "<text class=\"displacy-token\" fill=\"currentColor\" text-anchor=\"middle\" y=\"572.0\">\n",
       "    <tspan class=\"displacy-word\" fill=\"currentColor\" x=\"3200\">I</tspan>\n",
       "    <tspan class=\"displacy-tag\" dy=\"2em\" fill=\"currentColor\" x=\"3200\">PRON</tspan>\n",
       "</text>\n",
       "\n",
       "<text class=\"displacy-token\" fill=\"currentColor\" text-anchor=\"middle\" y=\"572.0\">\n",
       "    <tspan class=\"displacy-word\" fill=\"currentColor\" x=\"3375\">just</tspan>\n",
       "    <tspan class=\"displacy-tag\" dy=\"2em\" fill=\"currentColor\" x=\"3375\">ADV</tspan>\n",
       "</text>\n",
       "\n",
       "<text class=\"displacy-token\" fill=\"currentColor\" text-anchor=\"middle\" y=\"572.0\">\n",
       "    <tspan class=\"displacy-word\" fill=\"currentColor\" x=\"3550\">brought</tspan>\n",
       "    <tspan class=\"displacy-tag\" dy=\"2em\" fill=\"currentColor\" x=\"3550\">VERB</tspan>\n",
       "</text>\n",
       "\n",
       "<text class=\"displacy-token\" fill=\"currentColor\" text-anchor=\"middle\" y=\"572.0\">\n",
       "    <tspan class=\"displacy-word\" fill=\"currentColor\" x=\"3725\">a</tspan>\n",
       "    <tspan class=\"displacy-tag\" dy=\"2em\" fill=\"currentColor\" x=\"3725\">DET</tspan>\n",
       "</text>\n",
       "\n",
       "<text class=\"displacy-token\" fill=\"currentColor\" text-anchor=\"middle\" y=\"572.0\">\n",
       "    <tspan class=\"displacy-word\" fill=\"currentColor\" x=\"3900\">guitar</tspan>\n",
       "    <tspan class=\"displacy-tag\" dy=\"2em\" fill=\"currentColor\" x=\"3900\">NOUN</tspan>\n",
       "</text>\n",
       "\n",
       "<text class=\"displacy-token\" fill=\"currentColor\" text-anchor=\"middle\" y=\"572.0\">\n",
       "    <tspan class=\"displacy-word\" fill=\"currentColor\" x=\"4075\">cost</tspan>\n",
       "    <tspan class=\"displacy-tag\" dy=\"2em\" fill=\"currentColor\" x=\"4075\">NOUN</tspan>\n",
       "</text>\n",
       "\n",
       "<text class=\"displacy-token\" fill=\"currentColor\" text-anchor=\"middle\" y=\"572.0\">\n",
       "    <tspan class=\"displacy-word\" fill=\"currentColor\" x=\"4250\">$</tspan>\n",
       "    <tspan class=\"displacy-tag\" dy=\"2em\" fill=\"currentColor\" x=\"4250\">SYM</tspan>\n",
       "</text>\n",
       "\n",
       "<text class=\"displacy-token\" fill=\"currentColor\" text-anchor=\"middle\" y=\"572.0\">\n",
       "    <tspan class=\"displacy-word\" fill=\"currentColor\" x=\"4425\">1000</tspan>\n",
       "    <tspan class=\"displacy-tag\" dy=\"2em\" fill=\"currentColor\" x=\"4425\">NUM</tspan>\n",
       "</text>\n",
       "\n",
       "<text class=\"displacy-token\" fill=\"currentColor\" text-anchor=\"middle\" y=\"572.0\">\n",
       "    <tspan class=\"displacy-word\" fill=\"currentColor\" x=\"4600\">on</tspan>\n",
       "    <tspan class=\"displacy-tag\" dy=\"2em\" fill=\"currentColor\" x=\"4600\">ADP</tspan>\n",
       "</text>\n",
       "\n",
       "<text class=\"displacy-token\" fill=\"currentColor\" text-anchor=\"middle\" y=\"572.0\">\n",
       "    <tspan class=\"displacy-word\" fill=\"currentColor\" x=\"4775\">amazon</tspan>\n",
       "    <tspan class=\"displacy-tag\" dy=\"2em\" fill=\"currentColor\" x=\"4775\">NOUN</tspan>\n",
       "</text>\n",
       "\n",
       "<text class=\"displacy-token\" fill=\"currentColor\" text-anchor=\"middle\" y=\"572.0\">\n",
       "    <tspan class=\"displacy-word\" fill=\"currentColor\" x=\"4950\">and</tspan>\n",
       "    <tspan class=\"displacy-tag\" dy=\"2em\" fill=\"currentColor\" x=\"4950\">CCONJ</tspan>\n",
       "</text>\n",
       "\n",
       "<text class=\"displacy-token\" fill=\"currentColor\" text-anchor=\"middle\" y=\"572.0\">\n",
       "    <tspan class=\"displacy-word\" fill=\"currentColor\" x=\"5125\">I</tspan>\n",
       "    <tspan class=\"displacy-tag\" dy=\"2em\" fill=\"currentColor\" x=\"5125\">PRON</tspan>\n",
       "</text>\n",
       "\n",
       "<text class=\"displacy-token\" fill=\"currentColor\" text-anchor=\"middle\" y=\"572.0\">\n",
       "    <tspan class=\"displacy-word\" fill=\"currentColor\" x=\"5300\">will</tspan>\n",
       "    <tspan class=\"displacy-tag\" dy=\"2em\" fill=\"currentColor\" x=\"5300\">AUX</tspan>\n",
       "</text>\n",
       "\n",
       "<text class=\"displacy-token\" fill=\"currentColor\" text-anchor=\"middle\" y=\"572.0\">\n",
       "    <tspan class=\"displacy-word\" fill=\"currentColor\" x=\"5475\">get</tspan>\n",
       "    <tspan class=\"displacy-tag\" dy=\"2em\" fill=\"currentColor\" x=\"5475\">VERB</tspan>\n",
       "</text>\n",
       "\n",
       "<text class=\"displacy-token\" fill=\"currentColor\" text-anchor=\"middle\" y=\"572.0\">\n",
       "    <tspan class=\"displacy-word\" fill=\"currentColor\" x=\"5650\">is</tspan>\n",
       "    <tspan class=\"displacy-tag\" dy=\"2em\" fill=\"currentColor\" x=\"5650\">AUX</tspan>\n",
       "</text>\n",
       "\n",
       "<text class=\"displacy-token\" fill=\"currentColor\" text-anchor=\"middle\" y=\"572.0\">\n",
       "    <tspan class=\"displacy-word\" fill=\"currentColor\" x=\"5825\">services</tspan>\n",
       "    <tspan class=\"displacy-tag\" dy=\"2em\" fill=\"currentColor\" x=\"5825\">NOUN</tspan>\n",
       "</text>\n",
       "\n",
       "<text class=\"displacy-token\" fill=\"currentColor\" text-anchor=\"middle\" y=\"572.0\">\n",
       "    <tspan class=\"displacy-word\" fill=\"currentColor\" x=\"6000\">here</tspan>\n",
       "    <tspan class=\"displacy-tag\" dy=\"2em\" fill=\"currentColor\" x=\"6000\">ADV</tspan>\n",
       "</text>\n",
       "\n",
       "<text class=\"displacy-token\" fill=\"currentColor\" text-anchor=\"middle\" y=\"572.0\">\n",
       "    <tspan class=\"displacy-word\" fill=\"currentColor\" x=\"6175\">for</tspan>\n",
       "    <tspan class=\"displacy-tag\" dy=\"2em\" fill=\"currentColor\" x=\"6175\">ADP</tspan>\n",
       "</text>\n",
       "\n",
       "<text class=\"displacy-token\" fill=\"currentColor\" text-anchor=\"middle\" y=\"572.0\">\n",
       "    <tspan class=\"displacy-word\" fill=\"currentColor\" x=\"6350\">20</tspan>\n",
       "    <tspan class=\"displacy-tag\" dy=\"2em\" fill=\"currentColor\" x=\"6350\">NUM</tspan>\n",
       "</text>\n",
       "\n",
       "<text class=\"displacy-token\" fill=\"currentColor\" text-anchor=\"middle\" y=\"572.0\">\n",
       "    <tspan class=\"displacy-word\" fill=\"currentColor\" x=\"6525\">Euro</tspan>\n",
       "    <tspan class=\"displacy-tag\" dy=\"2em\" fill=\"currentColor\" x=\"6525\">PROPN</tspan>\n",
       "</text>\n",
       "\n",
       "<text class=\"displacy-token\" fill=\"currentColor\" text-anchor=\"middle\" y=\"572.0\">\n",
       "    <tspan class=\"displacy-word\" fill=\"currentColor\" x=\"6700\">a</tspan>\n",
       "    <tspan class=\"displacy-tag\" dy=\"2em\" fill=\"currentColor\" x=\"6700\">DET</tspan>\n",
       "</text>\n",
       "\n",
       "<text class=\"displacy-token\" fill=\"currentColor\" text-anchor=\"middle\" y=\"572.0\">\n",
       "    <tspan class=\"displacy-word\" fill=\"currentColor\" x=\"6875\">year.</tspan>\n",
       "    <tspan class=\"displacy-tag\" dy=\"2em\" fill=\"currentColor\" x=\"6875\">NOUN</tspan>\n",
       "</text>\n",
       "\n",
       "<g class=\"displacy-arrow\">\n",
       "    <path class=\"displacy-arc\" id=\"arrow-4cfd7b510af14fb28a39f3b7e88649ea-0-0\" stroke-width=\"2px\" d=\"M70,527.0 C70,439.5 200.0,439.5 200.0,527.0\" fill=\"none\" stroke=\"currentColor\"/>\n",
       "    <text dy=\"1.25em\" style=\"font-size: 0.8em; letter-spacing: 1px\">\n",
       "        <textPath xlink:href=\"#arrow-4cfd7b510af14fb28a39f3b7e88649ea-0-0\" class=\"displacy-label\" startOffset=\"50%\" side=\"left\" fill=\"currentColor\" text-anchor=\"middle\">poss</textPath>\n",
       "    </text>\n",
       "    <path class=\"displacy-arrowhead\" d=\"M70,529.0 L62,517.0 78,517.0\" fill=\"currentColor\"/>\n",
       "</g>\n",
       "\n",
       "<g class=\"displacy-arrow\">\n",
       "    <path class=\"displacy-arc\" id=\"arrow-4cfd7b510af14fb28a39f3b7e88649ea-0-1\" stroke-width=\"2px\" d=\"M245,527.0 C245,439.5 375.0,439.5 375.0,527.0\" fill=\"none\" stroke=\"currentColor\"/>\n",
       "    <text dy=\"1.25em\" style=\"font-size: 0.8em; letter-spacing: 1px\">\n",
       "        <textPath xlink:href=\"#arrow-4cfd7b510af14fb28a39f3b7e88649ea-0-1\" class=\"displacy-label\" startOffset=\"50%\" side=\"left\" fill=\"currentColor\" text-anchor=\"middle\">nsubj</textPath>\n",
       "    </text>\n",
       "    <path class=\"displacy-arrowhead\" d=\"M245,529.0 L237,517.0 253,517.0\" fill=\"currentColor\"/>\n",
       "</g>\n",
       "\n",
       "<g class=\"displacy-arrow\">\n",
       "    <path class=\"displacy-arc\" id=\"arrow-4cfd7b510af14fb28a39f3b7e88649ea-0-2\" stroke-width=\"2px\" d=\"M420,527.0 C420,439.5 550.0,439.5 550.0,527.0\" fill=\"none\" stroke=\"currentColor\"/>\n",
       "    <text dy=\"1.25em\" style=\"font-size: 0.8em; letter-spacing: 1px\">\n",
       "        <textPath xlink:href=\"#arrow-4cfd7b510af14fb28a39f3b7e88649ea-0-2\" class=\"displacy-label\" startOffset=\"50%\" side=\"left\" fill=\"currentColor\" text-anchor=\"middle\">attr</textPath>\n",
       "    </text>\n",
       "    <path class=\"displacy-arrowhead\" d=\"M550.0,529.0 L558.0,517.0 542.0,517.0\" fill=\"currentColor\"/>\n",
       "</g>\n",
       "\n",
       "<g class=\"displacy-arrow\">\n",
       "    <path class=\"displacy-arc\" id=\"arrow-4cfd7b510af14fb28a39f3b7e88649ea-0-3\" stroke-width=\"2px\" d=\"M420,527.0 C420,352.0 730.0,352.0 730.0,527.0\" fill=\"none\" stroke=\"currentColor\"/>\n",
       "    <text dy=\"1.25em\" style=\"font-size: 0.8em; letter-spacing: 1px\">\n",
       "        <textPath xlink:href=\"#arrow-4cfd7b510af14fb28a39f3b7e88649ea-0-3\" class=\"displacy-label\" startOffset=\"50%\" side=\"left\" fill=\"currentColor\" text-anchor=\"middle\">cc</textPath>\n",
       "    </text>\n",
       "    <path class=\"displacy-arrowhead\" d=\"M730.0,529.0 L738.0,517.0 722.0,517.0\" fill=\"currentColor\"/>\n",
       "</g>\n",
       "\n",
       "<g class=\"displacy-arrow\">\n",
       "    <path class=\"displacy-arc\" id=\"arrow-4cfd7b510af14fb28a39f3b7e88649ea-0-4\" stroke-width=\"2px\" d=\"M945,527.0 C945,352.0 1255.0,352.0 1255.0,527.0\" fill=\"none\" stroke=\"currentColor\"/>\n",
       "    <text dy=\"1.25em\" style=\"font-size: 0.8em; letter-spacing: 1px\">\n",
       "        <textPath xlink:href=\"#arrow-4cfd7b510af14fb28a39f3b7e88649ea-0-4\" class=\"displacy-label\" startOffset=\"50%\" side=\"left\" fill=\"currentColor\" text-anchor=\"middle\">nsubjpass</textPath>\n",
       "    </text>\n",
       "    <path class=\"displacy-arrowhead\" d=\"M945,529.0 L937,517.0 953,517.0\" fill=\"currentColor\"/>\n",
       "</g>\n",
       "\n",
       "<g class=\"displacy-arrow\">\n",
       "    <path class=\"displacy-arc\" id=\"arrow-4cfd7b510af14fb28a39f3b7e88649ea-0-5\" stroke-width=\"2px\" d=\"M1120,527.0 C1120,439.5 1250.0,439.5 1250.0,527.0\" fill=\"none\" stroke=\"currentColor\"/>\n",
       "    <text dy=\"1.25em\" style=\"font-size: 0.8em; letter-spacing: 1px\">\n",
       "        <textPath xlink:href=\"#arrow-4cfd7b510af14fb28a39f3b7e88649ea-0-5\" class=\"displacy-label\" startOffset=\"50%\" side=\"left\" fill=\"currentColor\" text-anchor=\"middle\">auxpass</textPath>\n",
       "    </text>\n",
       "    <path class=\"displacy-arrowhead\" d=\"M1120,529.0 L1112,517.0 1128,517.0\" fill=\"currentColor\"/>\n",
       "</g>\n",
       "\n",
       "<g class=\"displacy-arrow\">\n",
       "    <path class=\"displacy-arc\" id=\"arrow-4cfd7b510af14fb28a39f3b7e88649ea-0-6\" stroke-width=\"2px\" d=\"M420,527.0 C420,264.5 1260.0,264.5 1260.0,527.0\" fill=\"none\" stroke=\"currentColor\"/>\n",
       "    <text dy=\"1.25em\" style=\"font-size: 0.8em; letter-spacing: 1px\">\n",
       "        <textPath xlink:href=\"#arrow-4cfd7b510af14fb28a39f3b7e88649ea-0-6\" class=\"displacy-label\" startOffset=\"50%\" side=\"left\" fill=\"currentColor\" text-anchor=\"middle\">conj</textPath>\n",
       "    </text>\n",
       "    <path class=\"displacy-arrowhead\" d=\"M1260.0,529.0 L1268.0,517.0 1252.0,517.0\" fill=\"currentColor\"/>\n",
       "</g>\n",
       "\n",
       "<g class=\"displacy-arrow\">\n",
       "    <path class=\"displacy-arc\" id=\"arrow-4cfd7b510af14fb28a39f3b7e88649ea-0-7\" stroke-width=\"2px\" d=\"M1295,527.0 C1295,439.5 1425.0,439.5 1425.0,527.0\" fill=\"none\" stroke=\"currentColor\"/>\n",
       "    <text dy=\"1.25em\" style=\"font-size: 0.8em; letter-spacing: 1px\">\n",
       "        <textPath xlink:href=\"#arrow-4cfd7b510af14fb28a39f3b7e88649ea-0-7\" class=\"displacy-label\" startOffset=\"50%\" side=\"left\" fill=\"currentColor\" text-anchor=\"middle\">prep</textPath>\n",
       "    </text>\n",
       "    <path class=\"displacy-arrowhead\" d=\"M1425.0,529.0 L1433.0,517.0 1417.0,517.0\" fill=\"currentColor\"/>\n",
       "</g>\n",
       "\n",
       "<g class=\"displacy-arrow\">\n",
       "    <path class=\"displacy-arc\" id=\"arrow-4cfd7b510af14fb28a39f3b7e88649ea-0-8\" stroke-width=\"2px\" d=\"M1645,527.0 C1645,439.5 1775.0,439.5 1775.0,527.0\" fill=\"none\" stroke=\"currentColor\"/>\n",
       "    <text dy=\"1.25em\" style=\"font-size: 0.8em; letter-spacing: 1px\">\n",
       "        <textPath xlink:href=\"#arrow-4cfd7b510af14fb28a39f3b7e88649ea-0-8\" class=\"displacy-label\" startOffset=\"50%\" side=\"left\" fill=\"currentColor\" text-anchor=\"middle\">amod</textPath>\n",
       "    </text>\n",
       "    <path class=\"displacy-arrowhead\" d=\"M1645,529.0 L1637,517.0 1653,517.0\" fill=\"currentColor\"/>\n",
       "</g>\n",
       "\n",
       "<g class=\"displacy-arrow\">\n",
       "    <path class=\"displacy-arc\" id=\"arrow-4cfd7b510af14fb28a39f3b7e88649ea-0-9\" stroke-width=\"2px\" d=\"M1470,527.0 C1470,352.0 1780.0,352.0 1780.0,527.0\" fill=\"none\" stroke=\"currentColor\"/>\n",
       "    <text dy=\"1.25em\" style=\"font-size: 0.8em; letter-spacing: 1px\">\n",
       "        <textPath xlink:href=\"#arrow-4cfd7b510af14fb28a39f3b7e88649ea-0-9\" class=\"displacy-label\" startOffset=\"50%\" side=\"left\" fill=\"currentColor\" text-anchor=\"middle\">pobj</textPath>\n",
       "    </text>\n",
       "    <path class=\"displacy-arrowhead\" d=\"M1780.0,529.0 L1788.0,517.0 1772.0,517.0\" fill=\"currentColor\"/>\n",
       "</g>\n",
       "\n",
       "<g class=\"displacy-arrow\">\n",
       "    <path class=\"displacy-arc\" id=\"arrow-4cfd7b510af14fb28a39f3b7e88649ea-0-10\" stroke-width=\"2px\" d=\"M1820,527.0 C1820,439.5 1950.0,439.5 1950.0,527.0\" fill=\"none\" stroke=\"currentColor\"/>\n",
       "    <text dy=\"1.25em\" style=\"font-size: 0.8em; letter-spacing: 1px\">\n",
       "        <textPath xlink:href=\"#arrow-4cfd7b510af14fb28a39f3b7e88649ea-0-10\" class=\"displacy-label\" startOffset=\"50%\" side=\"left\" fill=\"currentColor\" text-anchor=\"middle\">nummod</textPath>\n",
       "    </text>\n",
       "    <path class=\"displacy-arrowhead\" d=\"M1950.0,529.0 L1958.0,517.0 1942.0,517.0\" fill=\"currentColor\"/>\n",
       "</g>\n",
       "\n",
       "<g class=\"displacy-arrow\">\n",
       "    <path class=\"displacy-arc\" id=\"arrow-4cfd7b510af14fb28a39f3b7e88649ea-0-11\" stroke-width=\"2px\" d=\"M2170,527.0 C2170,439.5 2300.0,439.5 2300.0,527.0\" fill=\"none\" stroke=\"currentColor\"/>\n",
       "    <text dy=\"1.25em\" style=\"font-size: 0.8em; letter-spacing: 1px\">\n",
       "        <textPath xlink:href=\"#arrow-4cfd7b510af14fb28a39f3b7e88649ea-0-11\" class=\"displacy-label\" startOffset=\"50%\" side=\"left\" fill=\"currentColor\" text-anchor=\"middle\">nsubj</textPath>\n",
       "    </text>\n",
       "    <path class=\"displacy-arrowhead\" d=\"M2170,529.0 L2162,517.0 2178,517.0\" fill=\"currentColor\"/>\n",
       "</g>\n",
       "\n",
       "<g class=\"displacy-arrow\">\n",
       "    <path class=\"displacy-arc\" id=\"arrow-4cfd7b510af14fb28a39f3b7e88649ea-0-12\" stroke-width=\"2px\" d=\"M2345,527.0 C2345,439.5 2475.0,439.5 2475.0,527.0\" fill=\"none\" stroke=\"currentColor\"/>\n",
       "    <text dy=\"1.25em\" style=\"font-size: 0.8em; letter-spacing: 1px\">\n",
       "        <textPath xlink:href=\"#arrow-4cfd7b510af14fb28a39f3b7e88649ea-0-12\" class=\"displacy-label\" startOffset=\"50%\" side=\"left\" fill=\"currentColor\" text-anchor=\"middle\">prep</textPath>\n",
       "    </text>\n",
       "    <path class=\"displacy-arrowhead\" d=\"M2475.0,529.0 L2483.0,517.0 2467.0,517.0\" fill=\"currentColor\"/>\n",
       "</g>\n",
       "\n",
       "<g class=\"displacy-arrow\">\n",
       "    <path class=\"displacy-arc\" id=\"arrow-4cfd7b510af14fb28a39f3b7e88649ea-0-13\" stroke-width=\"2px\" d=\"M2520,527.0 C2520,439.5 2650.0,439.5 2650.0,527.0\" fill=\"none\" stroke=\"currentColor\"/>\n",
       "    <text dy=\"1.25em\" style=\"font-size: 0.8em; letter-spacing: 1px\">\n",
       "        <textPath xlink:href=\"#arrow-4cfd7b510af14fb28a39f3b7e88649ea-0-13\" class=\"displacy-label\" startOffset=\"50%\" side=\"left\" fill=\"currentColor\" text-anchor=\"middle\">pobj</textPath>\n",
       "    </text>\n",
       "    <path class=\"displacy-arrowhead\" d=\"M2650.0,529.0 L2658.0,517.0 2642.0,517.0\" fill=\"currentColor\"/>\n",
       "</g>\n",
       "\n",
       "<g class=\"displacy-arrow\">\n",
       "    <path class=\"displacy-arc\" id=\"arrow-4cfd7b510af14fb28a39f3b7e88649ea-0-14\" stroke-width=\"2px\" d=\"M2345,527.0 C2345,352.0 2830.0,352.0 2830.0,527.0\" fill=\"none\" stroke=\"currentColor\"/>\n",
       "    <text dy=\"1.25em\" style=\"font-size: 0.8em; letter-spacing: 1px\">\n",
       "        <textPath xlink:href=\"#arrow-4cfd7b510af14fb28a39f3b7e88649ea-0-14\" class=\"displacy-label\" startOffset=\"50%\" side=\"left\" fill=\"currentColor\" text-anchor=\"middle\">prep</textPath>\n",
       "    </text>\n",
       "    <path class=\"displacy-arrowhead\" d=\"M2830.0,529.0 L2838.0,517.0 2822.0,517.0\" fill=\"currentColor\"/>\n",
       "</g>\n",
       "\n",
       "<g class=\"displacy-arrow\">\n",
       "    <path class=\"displacy-arc\" id=\"arrow-4cfd7b510af14fb28a39f3b7e88649ea-0-15\" stroke-width=\"2px\" d=\"M2870,527.0 C2870,439.5 3000.0,439.5 3000.0,527.0\" fill=\"none\" stroke=\"currentColor\"/>\n",
       "    <text dy=\"1.25em\" style=\"font-size: 0.8em; letter-spacing: 1px\">\n",
       "        <textPath xlink:href=\"#arrow-4cfd7b510af14fb28a39f3b7e88649ea-0-15\" class=\"displacy-label\" startOffset=\"50%\" side=\"left\" fill=\"currentColor\" text-anchor=\"middle\">pobj</textPath>\n",
       "    </text>\n",
       "    <path class=\"displacy-arrowhead\" d=\"M3000.0,529.0 L3008.0,517.0 2992.0,517.0\" fill=\"currentColor\"/>\n",
       "</g>\n",
       "\n",
       "<g class=\"displacy-arrow\">\n",
       "    <path class=\"displacy-arc\" id=\"arrow-4cfd7b510af14fb28a39f3b7e88649ea-0-16\" stroke-width=\"2px\" d=\"M3220,527.0 C3220,352.0 3530.0,352.0 3530.0,527.0\" fill=\"none\" stroke=\"currentColor\"/>\n",
       "    <text dy=\"1.25em\" style=\"font-size: 0.8em; letter-spacing: 1px\">\n",
       "        <textPath xlink:href=\"#arrow-4cfd7b510af14fb28a39f3b7e88649ea-0-16\" class=\"displacy-label\" startOffset=\"50%\" side=\"left\" fill=\"currentColor\" text-anchor=\"middle\">nsubj</textPath>\n",
       "    </text>\n",
       "    <path class=\"displacy-arrowhead\" d=\"M3220,529.0 L3212,517.0 3228,517.0\" fill=\"currentColor\"/>\n",
       "</g>\n",
       "\n",
       "<g class=\"displacy-arrow\">\n",
       "    <path class=\"displacy-arc\" id=\"arrow-4cfd7b510af14fb28a39f3b7e88649ea-0-17\" stroke-width=\"2px\" d=\"M3395,527.0 C3395,439.5 3525.0,439.5 3525.0,527.0\" fill=\"none\" stroke=\"currentColor\"/>\n",
       "    <text dy=\"1.25em\" style=\"font-size: 0.8em; letter-spacing: 1px\">\n",
       "        <textPath xlink:href=\"#arrow-4cfd7b510af14fb28a39f3b7e88649ea-0-17\" class=\"displacy-label\" startOffset=\"50%\" side=\"left\" fill=\"currentColor\" text-anchor=\"middle\">advmod</textPath>\n",
       "    </text>\n",
       "    <path class=\"displacy-arrowhead\" d=\"M3395,529.0 L3387,517.0 3403,517.0\" fill=\"currentColor\"/>\n",
       "</g>\n",
       "\n",
       "<g class=\"displacy-arrow\">\n",
       "    <path class=\"displacy-arc\" id=\"arrow-4cfd7b510af14fb28a39f3b7e88649ea-0-18\" stroke-width=\"2px\" d=\"M3745,527.0 C3745,352.0 4055.0,352.0 4055.0,527.0\" fill=\"none\" stroke=\"currentColor\"/>\n",
       "    <text dy=\"1.25em\" style=\"font-size: 0.8em; letter-spacing: 1px\">\n",
       "        <textPath xlink:href=\"#arrow-4cfd7b510af14fb28a39f3b7e88649ea-0-18\" class=\"displacy-label\" startOffset=\"50%\" side=\"left\" fill=\"currentColor\" text-anchor=\"middle\">det</textPath>\n",
       "    </text>\n",
       "    <path class=\"displacy-arrowhead\" d=\"M3745,529.0 L3737,517.0 3753,517.0\" fill=\"currentColor\"/>\n",
       "</g>\n",
       "\n",
       "<g class=\"displacy-arrow\">\n",
       "    <path class=\"displacy-arc\" id=\"arrow-4cfd7b510af14fb28a39f3b7e88649ea-0-19\" stroke-width=\"2px\" d=\"M3920,527.0 C3920,439.5 4050.0,439.5 4050.0,527.0\" fill=\"none\" stroke=\"currentColor\"/>\n",
       "    <text dy=\"1.25em\" style=\"font-size: 0.8em; letter-spacing: 1px\">\n",
       "        <textPath xlink:href=\"#arrow-4cfd7b510af14fb28a39f3b7e88649ea-0-19\" class=\"displacy-label\" startOffset=\"50%\" side=\"left\" fill=\"currentColor\" text-anchor=\"middle\">compound</textPath>\n",
       "    </text>\n",
       "    <path class=\"displacy-arrowhead\" d=\"M3920,529.0 L3912,517.0 3928,517.0\" fill=\"currentColor\"/>\n",
       "</g>\n",
       "\n",
       "<g class=\"displacy-arrow\">\n",
       "    <path class=\"displacy-arc\" id=\"arrow-4cfd7b510af14fb28a39f3b7e88649ea-0-20\" stroke-width=\"2px\" d=\"M3570,527.0 C3570,264.5 4060.0,264.5 4060.0,527.0\" fill=\"none\" stroke=\"currentColor\"/>\n",
       "    <text dy=\"1.25em\" style=\"font-size: 0.8em; letter-spacing: 1px\">\n",
       "        <textPath xlink:href=\"#arrow-4cfd7b510af14fb28a39f3b7e88649ea-0-20\" class=\"displacy-label\" startOffset=\"50%\" side=\"left\" fill=\"currentColor\" text-anchor=\"middle\">dobj</textPath>\n",
       "    </text>\n",
       "    <path class=\"displacy-arrowhead\" d=\"M4060.0,529.0 L4068.0,517.0 4052.0,517.0\" fill=\"currentColor\"/>\n",
       "</g>\n",
       "\n",
       "<g class=\"displacy-arrow\">\n",
       "    <path class=\"displacy-arc\" id=\"arrow-4cfd7b510af14fb28a39f3b7e88649ea-0-21\" stroke-width=\"2px\" d=\"M4270,527.0 C4270,439.5 4400.0,439.5 4400.0,527.0\" fill=\"none\" stroke=\"currentColor\"/>\n",
       "    <text dy=\"1.25em\" style=\"font-size: 0.8em; letter-spacing: 1px\">\n",
       "        <textPath xlink:href=\"#arrow-4cfd7b510af14fb28a39f3b7e88649ea-0-21\" class=\"displacy-label\" startOffset=\"50%\" side=\"left\" fill=\"currentColor\" text-anchor=\"middle\">nmod</textPath>\n",
       "    </text>\n",
       "    <path class=\"displacy-arrowhead\" d=\"M4270,529.0 L4262,517.0 4278,517.0\" fill=\"currentColor\"/>\n",
       "</g>\n",
       "\n",
       "<g class=\"displacy-arrow\">\n",
       "    <path class=\"displacy-arc\" id=\"arrow-4cfd7b510af14fb28a39f3b7e88649ea-0-22\" stroke-width=\"2px\" d=\"M4095,527.0 C4095,352.0 4405.0,352.0 4405.0,527.0\" fill=\"none\" stroke=\"currentColor\"/>\n",
       "    <text dy=\"1.25em\" style=\"font-size: 0.8em; letter-spacing: 1px\">\n",
       "        <textPath xlink:href=\"#arrow-4cfd7b510af14fb28a39f3b7e88649ea-0-22\" class=\"displacy-label\" startOffset=\"50%\" side=\"left\" fill=\"currentColor\" text-anchor=\"middle\">dobj</textPath>\n",
       "    </text>\n",
       "    <path class=\"displacy-arrowhead\" d=\"M4405.0,529.0 L4413.0,517.0 4397.0,517.0\" fill=\"currentColor\"/>\n",
       "</g>\n",
       "\n",
       "<g class=\"displacy-arrow\">\n",
       "    <path class=\"displacy-arc\" id=\"arrow-4cfd7b510af14fb28a39f3b7e88649ea-0-23\" stroke-width=\"2px\" d=\"M3570,527.0 C3570,177.0 4590.0,177.0 4590.0,527.0\" fill=\"none\" stroke=\"currentColor\"/>\n",
       "    <text dy=\"1.25em\" style=\"font-size: 0.8em; letter-spacing: 1px\">\n",
       "        <textPath xlink:href=\"#arrow-4cfd7b510af14fb28a39f3b7e88649ea-0-23\" class=\"displacy-label\" startOffset=\"50%\" side=\"left\" fill=\"currentColor\" text-anchor=\"middle\">prep</textPath>\n",
       "    </text>\n",
       "    <path class=\"displacy-arrowhead\" d=\"M4590.0,529.0 L4598.0,517.0 4582.0,517.0\" fill=\"currentColor\"/>\n",
       "</g>\n",
       "\n",
       "<g class=\"displacy-arrow\">\n",
       "    <path class=\"displacy-arc\" id=\"arrow-4cfd7b510af14fb28a39f3b7e88649ea-0-24\" stroke-width=\"2px\" d=\"M4620,527.0 C4620,439.5 4750.0,439.5 4750.0,527.0\" fill=\"none\" stroke=\"currentColor\"/>\n",
       "    <text dy=\"1.25em\" style=\"font-size: 0.8em; letter-spacing: 1px\">\n",
       "        <textPath xlink:href=\"#arrow-4cfd7b510af14fb28a39f3b7e88649ea-0-24\" class=\"displacy-label\" startOffset=\"50%\" side=\"left\" fill=\"currentColor\" text-anchor=\"middle\">pobj</textPath>\n",
       "    </text>\n",
       "    <path class=\"displacy-arrowhead\" d=\"M4750.0,529.0 L4758.0,517.0 4742.0,517.0\" fill=\"currentColor\"/>\n",
       "</g>\n",
       "\n",
       "<g class=\"displacy-arrow\">\n",
       "    <path class=\"displacy-arc\" id=\"arrow-4cfd7b510af14fb28a39f3b7e88649ea-0-25\" stroke-width=\"2px\" d=\"M3570,527.0 C3570,89.5 4945.0,89.5 4945.0,527.0\" fill=\"none\" stroke=\"currentColor\"/>\n",
       "    <text dy=\"1.25em\" style=\"font-size: 0.8em; letter-spacing: 1px\">\n",
       "        <textPath xlink:href=\"#arrow-4cfd7b510af14fb28a39f3b7e88649ea-0-25\" class=\"displacy-label\" startOffset=\"50%\" side=\"left\" fill=\"currentColor\" text-anchor=\"middle\">cc</textPath>\n",
       "    </text>\n",
       "    <path class=\"displacy-arrowhead\" d=\"M4945.0,529.0 L4953.0,517.0 4937.0,517.0\" fill=\"currentColor\"/>\n",
       "</g>\n",
       "\n",
       "<g class=\"displacy-arrow\">\n",
       "    <path class=\"displacy-arc\" id=\"arrow-4cfd7b510af14fb28a39f3b7e88649ea-0-26\" stroke-width=\"2px\" d=\"M5145,527.0 C5145,352.0 5455.0,352.0 5455.0,527.0\" fill=\"none\" stroke=\"currentColor\"/>\n",
       "    <text dy=\"1.25em\" style=\"font-size: 0.8em; letter-spacing: 1px\">\n",
       "        <textPath xlink:href=\"#arrow-4cfd7b510af14fb28a39f3b7e88649ea-0-26\" class=\"displacy-label\" startOffset=\"50%\" side=\"left\" fill=\"currentColor\" text-anchor=\"middle\">nsubj</textPath>\n",
       "    </text>\n",
       "    <path class=\"displacy-arrowhead\" d=\"M5145,529.0 L5137,517.0 5153,517.0\" fill=\"currentColor\"/>\n",
       "</g>\n",
       "\n",
       "<g class=\"displacy-arrow\">\n",
       "    <path class=\"displacy-arc\" id=\"arrow-4cfd7b510af14fb28a39f3b7e88649ea-0-27\" stroke-width=\"2px\" d=\"M5320,527.0 C5320,439.5 5450.0,439.5 5450.0,527.0\" fill=\"none\" stroke=\"currentColor\"/>\n",
       "    <text dy=\"1.25em\" style=\"font-size: 0.8em; letter-spacing: 1px\">\n",
       "        <textPath xlink:href=\"#arrow-4cfd7b510af14fb28a39f3b7e88649ea-0-27\" class=\"displacy-label\" startOffset=\"50%\" side=\"left\" fill=\"currentColor\" text-anchor=\"middle\">aux</textPath>\n",
       "    </text>\n",
       "    <path class=\"displacy-arrowhead\" d=\"M5320,529.0 L5312,517.0 5328,517.0\" fill=\"currentColor\"/>\n",
       "</g>\n",
       "\n",
       "<g class=\"displacy-arrow\">\n",
       "    <path class=\"displacy-arc\" id=\"arrow-4cfd7b510af14fb28a39f3b7e88649ea-0-28\" stroke-width=\"2px\" d=\"M3570,527.0 C3570,2.0 5475.0,2.0 5475.0,527.0\" fill=\"none\" stroke=\"currentColor\"/>\n",
       "    <text dy=\"1.25em\" style=\"font-size: 0.8em; letter-spacing: 1px\">\n",
       "        <textPath xlink:href=\"#arrow-4cfd7b510af14fb28a39f3b7e88649ea-0-28\" class=\"displacy-label\" startOffset=\"50%\" side=\"left\" fill=\"currentColor\" text-anchor=\"middle\">conj</textPath>\n",
       "    </text>\n",
       "    <path class=\"displacy-arrowhead\" d=\"M5475.0,529.0 L5483.0,517.0 5467.0,517.0\" fill=\"currentColor\"/>\n",
       "</g>\n",
       "\n",
       "<g class=\"displacy-arrow\">\n",
       "    <path class=\"displacy-arc\" id=\"arrow-4cfd7b510af14fb28a39f3b7e88649ea-0-29\" stroke-width=\"2px\" d=\"M5495,527.0 C5495,439.5 5625.0,439.5 5625.0,527.0\" fill=\"none\" stroke=\"currentColor\"/>\n",
       "    <text dy=\"1.25em\" style=\"font-size: 0.8em; letter-spacing: 1px\">\n",
       "        <textPath xlink:href=\"#arrow-4cfd7b510af14fb28a39f3b7e88649ea-0-29\" class=\"displacy-label\" startOffset=\"50%\" side=\"left\" fill=\"currentColor\" text-anchor=\"middle\">ccomp</textPath>\n",
       "    </text>\n",
       "    <path class=\"displacy-arrowhead\" d=\"M5625.0,529.0 L5633.0,517.0 5617.0,517.0\" fill=\"currentColor\"/>\n",
       "</g>\n",
       "\n",
       "<g class=\"displacy-arrow\">\n",
       "    <path class=\"displacy-arc\" id=\"arrow-4cfd7b510af14fb28a39f3b7e88649ea-0-30\" stroke-width=\"2px\" d=\"M5670,527.0 C5670,439.5 5800.0,439.5 5800.0,527.0\" fill=\"none\" stroke=\"currentColor\"/>\n",
       "    <text dy=\"1.25em\" style=\"font-size: 0.8em; letter-spacing: 1px\">\n",
       "        <textPath xlink:href=\"#arrow-4cfd7b510af14fb28a39f3b7e88649ea-0-30\" class=\"displacy-label\" startOffset=\"50%\" side=\"left\" fill=\"currentColor\" text-anchor=\"middle\">attr</textPath>\n",
       "    </text>\n",
       "    <path class=\"displacy-arrowhead\" d=\"M5800.0,529.0 L5808.0,517.0 5792.0,517.0\" fill=\"currentColor\"/>\n",
       "</g>\n",
       "\n",
       "<g class=\"displacy-arrow\">\n",
       "    <path class=\"displacy-arc\" id=\"arrow-4cfd7b510af14fb28a39f3b7e88649ea-0-31\" stroke-width=\"2px\" d=\"M5845,527.0 C5845,439.5 5975.0,439.5 5975.0,527.0\" fill=\"none\" stroke=\"currentColor\"/>\n",
       "    <text dy=\"1.25em\" style=\"font-size: 0.8em; letter-spacing: 1px\">\n",
       "        <textPath xlink:href=\"#arrow-4cfd7b510af14fb28a39f3b7e88649ea-0-31\" class=\"displacy-label\" startOffset=\"50%\" side=\"left\" fill=\"currentColor\" text-anchor=\"middle\">advmod</textPath>\n",
       "    </text>\n",
       "    <path class=\"displacy-arrowhead\" d=\"M5975.0,529.0 L5983.0,517.0 5967.0,517.0\" fill=\"currentColor\"/>\n",
       "</g>\n",
       "\n",
       "<g class=\"displacy-arrow\">\n",
       "    <path class=\"displacy-arc\" id=\"arrow-4cfd7b510af14fb28a39f3b7e88649ea-0-32\" stroke-width=\"2px\" d=\"M5845,527.0 C5845,352.0 6155.0,352.0 6155.0,527.0\" fill=\"none\" stroke=\"currentColor\"/>\n",
       "    <text dy=\"1.25em\" style=\"font-size: 0.8em; letter-spacing: 1px\">\n",
       "        <textPath xlink:href=\"#arrow-4cfd7b510af14fb28a39f3b7e88649ea-0-32\" class=\"displacy-label\" startOffset=\"50%\" side=\"left\" fill=\"currentColor\" text-anchor=\"middle\">prep</textPath>\n",
       "    </text>\n",
       "    <path class=\"displacy-arrowhead\" d=\"M6155.0,529.0 L6163.0,517.0 6147.0,517.0\" fill=\"currentColor\"/>\n",
       "</g>\n",
       "\n",
       "<g class=\"displacy-arrow\">\n",
       "    <path class=\"displacy-arc\" id=\"arrow-4cfd7b510af14fb28a39f3b7e88649ea-0-33\" stroke-width=\"2px\" d=\"M6370,527.0 C6370,439.5 6500.0,439.5 6500.0,527.0\" fill=\"none\" stroke=\"currentColor\"/>\n",
       "    <text dy=\"1.25em\" style=\"font-size: 0.8em; letter-spacing: 1px\">\n",
       "        <textPath xlink:href=\"#arrow-4cfd7b510af14fb28a39f3b7e88649ea-0-33\" class=\"displacy-label\" startOffset=\"50%\" side=\"left\" fill=\"currentColor\" text-anchor=\"middle\">nummod</textPath>\n",
       "    </text>\n",
       "    <path class=\"displacy-arrowhead\" d=\"M6370,529.0 L6362,517.0 6378,517.0\" fill=\"currentColor\"/>\n",
       "</g>\n",
       "\n",
       "<g class=\"displacy-arrow\">\n",
       "    <path class=\"displacy-arc\" id=\"arrow-4cfd7b510af14fb28a39f3b7e88649ea-0-34\" stroke-width=\"2px\" d=\"M6195,527.0 C6195,352.0 6505.0,352.0 6505.0,527.0\" fill=\"none\" stroke=\"currentColor\"/>\n",
       "    <text dy=\"1.25em\" style=\"font-size: 0.8em; letter-spacing: 1px\">\n",
       "        <textPath xlink:href=\"#arrow-4cfd7b510af14fb28a39f3b7e88649ea-0-34\" class=\"displacy-label\" startOffset=\"50%\" side=\"left\" fill=\"currentColor\" text-anchor=\"middle\">pobj</textPath>\n",
       "    </text>\n",
       "    <path class=\"displacy-arrowhead\" d=\"M6505.0,529.0 L6513.0,517.0 6497.0,517.0\" fill=\"currentColor\"/>\n",
       "</g>\n",
       "\n",
       "<g class=\"displacy-arrow\">\n",
       "    <path class=\"displacy-arc\" id=\"arrow-4cfd7b510af14fb28a39f3b7e88649ea-0-35\" stroke-width=\"2px\" d=\"M6720,527.0 C6720,439.5 6850.0,439.5 6850.0,527.0\" fill=\"none\" stroke=\"currentColor\"/>\n",
       "    <text dy=\"1.25em\" style=\"font-size: 0.8em; letter-spacing: 1px\">\n",
       "        <textPath xlink:href=\"#arrow-4cfd7b510af14fb28a39f3b7e88649ea-0-35\" class=\"displacy-label\" startOffset=\"50%\" side=\"left\" fill=\"currentColor\" text-anchor=\"middle\">det</textPath>\n",
       "    </text>\n",
       "    <path class=\"displacy-arrowhead\" d=\"M6720,529.0 L6712,517.0 6728,517.0\" fill=\"currentColor\"/>\n",
       "</g>\n",
       "\n",
       "<g class=\"displacy-arrow\">\n",
       "    <path class=\"displacy-arc\" id=\"arrow-4cfd7b510af14fb28a39f3b7e88649ea-0-36\" stroke-width=\"2px\" d=\"M6545,527.0 C6545,352.0 6855.0,352.0 6855.0,527.0\" fill=\"none\" stroke=\"currentColor\"/>\n",
       "    <text dy=\"1.25em\" style=\"font-size: 0.8em; letter-spacing: 1px\">\n",
       "        <textPath xlink:href=\"#arrow-4cfd7b510af14fb28a39f3b7e88649ea-0-36\" class=\"displacy-label\" startOffset=\"50%\" side=\"left\" fill=\"currentColor\" text-anchor=\"middle\">npadvmod</textPath>\n",
       "    </text>\n",
       "    <path class=\"displacy-arrowhead\" d=\"M6855.0,529.0 L6863.0,517.0 6847.0,517.0\" fill=\"currentColor\"/>\n",
       "</g>\n",
       "</svg></span>"
      ],
      "text/plain": [
       "<IPython.core.display.HTML object>"
      ]
     },
     "metadata": {},
     "output_type": "display_data"
    }
   ],
   "source": [
    "from spacy import displacy\n",
    "\n",
    "displacy.render(doc)"
   ]
  },
  {
   "cell_type": "code",
   "execution_count": 8,
   "id": "e9372602",
   "metadata": {},
   "outputs": [
    {
     "data": {
      "text/plain": [
       "'possession modifier'"
      ]
     },
     "execution_count": 8,
     "metadata": {},
     "output_type": "execute_result"
    }
   ],
   "source": [
    "spacy.explain(\"poss\")"
   ]
  },
  {
   "cell_type": "code",
   "execution_count": 9,
   "id": "8b37f8d5",
   "metadata": {},
   "outputs": [
    {
     "name": "stdout",
     "output_type": "stream",
     "text": [
      "Where SCONJ advmod\n",
      "does VERB ROOT\n",
      "Console PROPN nsubj\n",
      ". PUNCT punct\n",
      "WriteLine PROPN nsubj\n",
      "go VERB ROOT\n",
      "in ADP prep\n",
      "ASP.NET PROPN pobj\n",
      "? PUNCT punct\n"
     ]
    }
   ],
   "source": [
    "for t in nlp('Where does Console.WriteLine go in ASP.NET?'):\n",
    "    print(t, t.pos_, t.dep_)"
   ]
  },
  {
   "cell_type": "markdown",
   "id": "ca759e91",
   "metadata": {},
   "source": [
    "## Detecting Golang"
   ]
  },
  {
   "cell_type": "code",
   "execution_count": 10,
   "id": "d847a35f",
   "metadata": {},
   "outputs": [],
   "source": [
    "df = (pd.read_csv(\"Questions.csv\", nrows = 2_000_000,\n",
    "                 encoding = \"ISO-8859-1\", usecols = ['Title', 'Id']))\n",
    "\n",
    "titles = [_ for _ in df.loc[lambda d: d['Title'].str.lower().str.contains(\"go\")]['Title']]"
   ]
  },
  {
   "cell_type": "code",
   "execution_count": 11,
   "id": "08c21ecd",
   "metadata": {},
   "outputs": [],
   "source": [
    "nlp = spacy.load(\"en_core_web_sm\", disable = ['ner'])"
   ]
  },
  {
   "cell_type": "code",
   "execution_count": 12,
   "id": "c4702f9b",
   "metadata": {},
   "outputs": [
    {
     "name": "stdout",
     "output_type": "stream",
     "text": [
      "CPU times: total: 3.98 s\n",
      "Wall time: 4.02 s\n"
     ]
    },
    {
     "data": {
      "text/plain": [
       "[How do I disable multiple listboxes in one go using jQuery?,\n",
       " Embedding instead of inheritance in Go,\n",
       " Shared library in Go?,\n",
       " multi package makefile example for go,\n",
       " What's the point of having pointers in Go?,\n",
       " Simulate a tcp connection in Go,\n",
       " Trouble reading from a socket in go,\n",
       " Convert string to integer type in Go?,\n",
       " Implementing the âdeferâ statement from Go in Objective-C?,\n",
       " what's the state of go language IDE support?]"
      ]
     },
     "execution_count": 12,
     "metadata": {},
     "output_type": "execute_result"
    }
   ],
   "source": [
    "%%time\n",
    "\n",
    "def has_golang(doc):\n",
    "    for t in doc:\n",
    "        if t.lower_ in ['go', 'golang']:\n",
    "            if t.pos_ != 'VERB':\n",
    "                if t.dep_ == \"pobj\":\n",
    "                    return True\n",
    "    return False\n",
    "\n",
    "g = (doc for doc in nlp.pipe(titles) if has_golang(doc))\n",
    "[next(g) for i in range(10)]"
   ]
  },
  {
   "cell_type": "code",
   "execution_count": 13,
   "id": "b51cbb8a",
   "metadata": {},
   "outputs": [
    {
     "data": {
      "text/html": [
       "<span class=\"tex2jax_ignore\"><svg xmlns=\"http://www.w3.org/2000/svg\" xmlns:xlink=\"http://www.w3.org/1999/xlink\" xml:lang=\"en\" id=\"6630e4e168024426964ca38bcf8c35c9-0\" class=\"displacy\" width=\"1275\" height=\"574.5\" direction=\"ltr\" style=\"max-width: none; height: 574.5px; color: #000000; background: #ffffff; font-family: Arial; direction: ltr\">\n",
       "<text class=\"displacy-token\" fill=\"currentColor\" text-anchor=\"middle\" y=\"484.5\">\n",
       "    <tspan class=\"displacy-word\" fill=\"currentColor\" x=\"50\">Removing</tspan>\n",
       "    <tspan class=\"displacy-tag\" dy=\"2em\" fill=\"currentColor\" x=\"50\">VERB</tspan>\n",
       "</text>\n",
       "\n",
       "<text class=\"displacy-token\" fill=\"currentColor\" text-anchor=\"middle\" y=\"484.5\">\n",
       "    <tspan class=\"displacy-word\" fill=\"currentColor\" x=\"225\">all</tspan>\n",
       "    <tspan class=\"displacy-tag\" dy=\"2em\" fill=\"currentColor\" x=\"225\">DET</tspan>\n",
       "</text>\n",
       "\n",
       "<text class=\"displacy-token\" fill=\"currentColor\" text-anchor=\"middle\" y=\"484.5\">\n",
       "    <tspan class=\"displacy-word\" fill=\"currentColor\" x=\"400\">event</tspan>\n",
       "    <tspan class=\"displacy-tag\" dy=\"2em\" fill=\"currentColor\" x=\"400\">NOUN</tspan>\n",
       "</text>\n",
       "\n",
       "<text class=\"displacy-token\" fill=\"currentColor\" text-anchor=\"middle\" y=\"484.5\">\n",
       "    <tspan class=\"displacy-word\" fill=\"currentColor\" x=\"575\">handlers</tspan>\n",
       "    <tspan class=\"displacy-tag\" dy=\"2em\" fill=\"currentColor\" x=\"575\">NOUN</tspan>\n",
       "</text>\n",
       "\n",
       "<text class=\"displacy-token\" fill=\"currentColor\" text-anchor=\"middle\" y=\"484.5\">\n",
       "    <tspan class=\"displacy-word\" fill=\"currentColor\" x=\"750\">in</tspan>\n",
       "    <tspan class=\"displacy-tag\" dy=\"2em\" fill=\"currentColor\" x=\"750\">ADP</tspan>\n",
       "</text>\n",
       "\n",
       "<text class=\"displacy-token\" fill=\"currentColor\" text-anchor=\"middle\" y=\"484.5\">\n",
       "    <tspan class=\"displacy-word\" fill=\"currentColor\" x=\"925\">one</tspan>\n",
       "    <tspan class=\"displacy-tag\" dy=\"2em\" fill=\"currentColor\" x=\"925\">NUM</tspan>\n",
       "</text>\n",
       "\n",
       "<text class=\"displacy-token\" fill=\"currentColor\" text-anchor=\"middle\" y=\"484.5\">\n",
       "    <tspan class=\"displacy-word\" fill=\"currentColor\" x=\"1100\">go</tspan>\n",
       "    <tspan class=\"displacy-tag\" dy=\"2em\" fill=\"currentColor\" x=\"1100\">NOUN</tspan>\n",
       "</text>\n",
       "\n",
       "<g class=\"displacy-arrow\">\n",
       "    <path class=\"displacy-arc\" id=\"arrow-6630e4e168024426964ca38bcf8c35c9-0-0\" stroke-width=\"2px\" d=\"M70,439.5 C70,2.0 1100.0,2.0 1100.0,439.5\" fill=\"none\" stroke=\"currentColor\"/>\n",
       "    <text dy=\"1.25em\" style=\"font-size: 0.8em; letter-spacing: 1px\">\n",
       "        <textPath xlink:href=\"#arrow-6630e4e168024426964ca38bcf8c35c9-0-0\" class=\"displacy-label\" startOffset=\"50%\" side=\"left\" fill=\"currentColor\" text-anchor=\"middle\">csubj</textPath>\n",
       "    </text>\n",
       "    <path class=\"displacy-arrowhead\" d=\"M70,441.5 L62,429.5 78,429.5\" fill=\"currentColor\"/>\n",
       "</g>\n",
       "\n",
       "<g class=\"displacy-arrow\">\n",
       "    <path class=\"displacy-arc\" id=\"arrow-6630e4e168024426964ca38bcf8c35c9-0-1\" stroke-width=\"2px\" d=\"M245,439.5 C245,264.5 560.0,264.5 560.0,439.5\" fill=\"none\" stroke=\"currentColor\"/>\n",
       "    <text dy=\"1.25em\" style=\"font-size: 0.8em; letter-spacing: 1px\">\n",
       "        <textPath xlink:href=\"#arrow-6630e4e168024426964ca38bcf8c35c9-0-1\" class=\"displacy-label\" startOffset=\"50%\" side=\"left\" fill=\"currentColor\" text-anchor=\"middle\">det</textPath>\n",
       "    </text>\n",
       "    <path class=\"displacy-arrowhead\" d=\"M245,441.5 L237,429.5 253,429.5\" fill=\"currentColor\"/>\n",
       "</g>\n",
       "\n",
       "<g class=\"displacy-arrow\">\n",
       "    <path class=\"displacy-arc\" id=\"arrow-6630e4e168024426964ca38bcf8c35c9-0-2\" stroke-width=\"2px\" d=\"M420,439.5 C420,352.0 555.0,352.0 555.0,439.5\" fill=\"none\" stroke=\"currentColor\"/>\n",
       "    <text dy=\"1.25em\" style=\"font-size: 0.8em; letter-spacing: 1px\">\n",
       "        <textPath xlink:href=\"#arrow-6630e4e168024426964ca38bcf8c35c9-0-2\" class=\"displacy-label\" startOffset=\"50%\" side=\"left\" fill=\"currentColor\" text-anchor=\"middle\">compound</textPath>\n",
       "    </text>\n",
       "    <path class=\"displacy-arrowhead\" d=\"M420,441.5 L412,429.5 428,429.5\" fill=\"currentColor\"/>\n",
       "</g>\n",
       "\n",
       "<g class=\"displacy-arrow\">\n",
       "    <path class=\"displacy-arc\" id=\"arrow-6630e4e168024426964ca38bcf8c35c9-0-3\" stroke-width=\"2px\" d=\"M70,439.5 C70,177.0 565.0,177.0 565.0,439.5\" fill=\"none\" stroke=\"currentColor\"/>\n",
       "    <text dy=\"1.25em\" style=\"font-size: 0.8em; letter-spacing: 1px\">\n",
       "        <textPath xlink:href=\"#arrow-6630e4e168024426964ca38bcf8c35c9-0-3\" class=\"displacy-label\" startOffset=\"50%\" side=\"left\" fill=\"currentColor\" text-anchor=\"middle\">dobj</textPath>\n",
       "    </text>\n",
       "    <path class=\"displacy-arrowhead\" d=\"M565.0,441.5 L573.0,429.5 557.0,429.5\" fill=\"currentColor\"/>\n",
       "</g>\n",
       "\n",
       "<g class=\"displacy-arrow\">\n",
       "    <path class=\"displacy-arc\" id=\"arrow-6630e4e168024426964ca38bcf8c35c9-0-4\" stroke-width=\"2px\" d=\"M70,439.5 C70,89.5 745.0,89.5 745.0,439.5\" fill=\"none\" stroke=\"currentColor\"/>\n",
       "    <text dy=\"1.25em\" style=\"font-size: 0.8em; letter-spacing: 1px\">\n",
       "        <textPath xlink:href=\"#arrow-6630e4e168024426964ca38bcf8c35c9-0-4\" class=\"displacy-label\" startOffset=\"50%\" side=\"left\" fill=\"currentColor\" text-anchor=\"middle\">prep</textPath>\n",
       "    </text>\n",
       "    <path class=\"displacy-arrowhead\" d=\"M745.0,441.5 L753.0,429.5 737.0,429.5\" fill=\"currentColor\"/>\n",
       "</g>\n",
       "\n",
       "<g class=\"displacy-arrow\">\n",
       "    <path class=\"displacy-arc\" id=\"arrow-6630e4e168024426964ca38bcf8c35c9-0-5\" stroke-width=\"2px\" d=\"M770,439.5 C770,352.0 905.0,352.0 905.0,439.5\" fill=\"none\" stroke=\"currentColor\"/>\n",
       "    <text dy=\"1.25em\" style=\"font-size: 0.8em; letter-spacing: 1px\">\n",
       "        <textPath xlink:href=\"#arrow-6630e4e168024426964ca38bcf8c35c9-0-5\" class=\"displacy-label\" startOffset=\"50%\" side=\"left\" fill=\"currentColor\" text-anchor=\"middle\">pobj</textPath>\n",
       "    </text>\n",
       "    <path class=\"displacy-arrowhead\" d=\"M905.0,441.5 L913.0,429.5 897.0,429.5\" fill=\"currentColor\"/>\n",
       "</g>\n",
       "</svg></span>"
      ],
      "text/plain": [
       "<IPython.core.display.HTML object>"
      ]
     },
     "metadata": {},
     "output_type": "display_data"
    }
   ],
   "source": [
    "displacy.render(nlp('Removing all event handlers in one go'))"
   ]
  },
  {
   "cell_type": "code",
   "execution_count": 14,
   "id": "a02f7c17",
   "metadata": {},
   "outputs": [
    {
     "data": {
      "text/plain": [
       "'clausal subject'"
      ]
     },
     "execution_count": 14,
     "metadata": {},
     "output_type": "execute_result"
    }
   ],
   "source": [
    "spacy.explain('csubj')"
   ]
  },
  {
   "cell_type": "markdown",
   "id": "21089837",
   "metadata": {},
   "source": [
    "## Iteration"
   ]
  },
  {
   "cell_type": "code",
   "execution_count": 15,
   "id": "ebe80056",
   "metadata": {},
   "outputs": [
    {
     "data": {
      "text/plain": [
       "(1858, 1208, 1696)"
      ]
     },
     "execution_count": 15,
     "metadata": {},
     "output_type": "execute_result"
    }
   ],
   "source": [
    "df_tags = pd.read_csv('Tags.csv')\n",
    "go_ids = df_tags.loc[lambda d: d['Tag'] == 'go']['Id']\n",
    "\n",
    "def has_go_token(doc):\n",
    "    for t in doc:\n",
    "        if t.lower_ in ['go', 'golang']:\n",
    "            return True\n",
    "    return False\n",
    "\n",
    "all_go_sentences = df.loc[lambda d: d['Id'].isin(go_ids)]['Title'].to_list()\n",
    "detectable = [d.text for d in nlp.pipe(all_go_sentences) if has_go_token(d)]\n",
    "\n",
    "non_detectable = (df\n",
    "                 .loc[lambda d: ~d['Id'].isin(go_ids)]\n",
    "                 .loc[lambda d: d['Title'].str.lower().str.contains(\"go\")]\n",
    "                 ['Title']\n",
    "                 .to_list())\n",
    "\n",
    "non_detectable = [d.text for d in nlp.pipe(non_detectable) if has_go_token(d)]\n",
    "\n",
    "len(all_go_sentences), len(detectable), len(non_detectable)"
   ]
  },
  {
   "cell_type": "code",
   "execution_count": 16,
   "id": "0532cf5e",
   "metadata": {},
   "outputs": [
    {
     "data": {
      "text/plain": [
       "'0.9098922624877571, 0.7690397350993378, 0.8722451790633609, en_core_web_sm, not-verb'"
      ]
     },
     "execution_count": 16,
     "metadata": {},
     "output_type": "execute_result"
    }
   ],
   "source": [
    "model_name = 'en_core_web_sm'\n",
    "model = spacy.load(model_name, disable = ['ner'])\n",
    "\n",
    "def has_go_token(doc):\n",
    "    for t in doc:\n",
    "        if t.lower_ in ['go', 'golang']:\n",
    "            if t.pos_ != 'VERB':\n",
    "                return True\n",
    "    return False\n",
    "\n",
    "method = \"not-verb\"\n",
    "\n",
    "correct = sum(has_go_token(doc) for doc in model.pipe(detectable))\n",
    "wrong = sum(has_go_token(doc) for doc in model.pipe(non_detectable))\n",
    "precision = correct / (correct + wrong)\n",
    "recall = correct / len(detectable)\n",
    "accuracy = (correct + len(non_detectable) - wrong) / (len(detectable) + len(non_detectable))\n",
    "\n",
    "f\"{precision}, {recall}, {accuracy}, {model_name}, {method}\""
   ]
  },
  {
   "cell_type": "markdown",
   "id": "429b9f7e",
   "metadata": {},
   "source": [
    "# 02 Detecting more languages"
   ]
  },
  {
   "cell_type": "code",
   "execution_count": 17,
   "id": "e091fa77",
   "metadata": {},
   "outputs": [],
   "source": [
    "import spacy\n",
    "import pandas as pd\n",
    "from spacy import displacy"
   ]
  },
  {
   "cell_type": "code",
   "execution_count": 18,
   "id": "75d64eeb",
   "metadata": {},
   "outputs": [],
   "source": [
    "nlp = spacy.load('en_core_web_sm')"
   ]
  },
  {
   "cell_type": "code",
   "execution_count": 19,
   "id": "33e64eca",
   "metadata": {},
   "outputs": [],
   "source": [
    "def has_go_token(doc):\n",
    "    for t in doc:\n",
    "        if t.lower_ in ['go', 'golang', 'python', 'ruby', 'objective-c']:\n",
    "            if t.pos_ != 'VERB':\n",
    "                return True\n",
    "    return False"
   ]
  },
  {
   "cell_type": "code",
   "execution_count": 20,
   "id": "4760bb72",
   "metadata": {},
   "outputs": [
    {
     "data": {
      "text/plain": [
       "False"
      ]
     },
     "execution_count": 20,
     "metadata": {},
     "output_type": "execute_result"
    }
   ],
   "source": [
    "doc = nlp('i like to program in objective-c')\n",
    "has_go_token(doc)"
   ]
  },
  {
   "cell_type": "code",
   "execution_count": 21,
   "id": "f1d4867a",
   "metadata": {},
   "outputs": [
    {
     "data": {
      "text/plain": [
       "[i, like, to, program, in, objective, -, c]"
      ]
     },
     "execution_count": 21,
     "metadata": {},
     "output_type": "execute_result"
    }
   ],
   "source": [
    "[t for t in doc]"
   ]
  },
  {
   "cell_type": "code",
   "execution_count": 22,
   "id": "2441f5de",
   "metadata": {},
   "outputs": [],
   "source": [
    "obj_c_pattern = [{'LOWER': 'objective'}, {'IS_PUNCT': True}, {'LOWER': 'c'}]\n",
    "\n",
    "golang_pattern = [{'LOWER': {'IN': ['go', 'golang']}, 'POS':{'NOT_IN': ['VERB']}}]"
   ]
  },
  {
   "cell_type": "code",
   "execution_count": 23,
   "id": "0eab9228",
   "metadata": {},
   "outputs": [],
   "source": [
    "from spacy.matcher import Matcher\n",
    "\n",
    "matcher = Matcher(nlp.vocab)\n",
    "matcher.add(\"OBJ_C_LANG\", [obj_c_pattern])\n",
    "matcher.add(\"GOLANG_LANG\", [golang_pattern])"
   ]
  },
  {
   "cell_type": "code",
   "execution_count": 24,
   "id": "8dcb77ec",
   "metadata": {},
   "outputs": [
    {
     "name": "stdout",
     "output_type": "stream",
     "text": [
      "golang\n",
      "objective-c\n"
     ]
    }
   ],
   "source": [
    "doc = nlp(\"I code both in golang as well as objective-c\")\n",
    "for match_id, start, end in matcher(doc):\n",
    "    print(doc[start: end])"
   ]
  },
  {
   "cell_type": "code",
   "execution_count": 25,
   "id": "d0c6c4c2",
   "metadata": {},
   "outputs": [
    {
     "data": {
      "text/plain": [
       "as well as"
      ]
     },
     "execution_count": 25,
     "metadata": {},
     "output_type": "execute_result"
    }
   ],
   "source": [
    "doc[5:8]"
   ]
  },
  {
   "cell_type": "code",
   "execution_count": 26,
   "id": "e6dbef3a",
   "metadata": {},
   "outputs": [],
   "source": [
    "# cleaned-up-code"
   ]
  },
  {
   "cell_type": "code",
   "execution_count": 27,
   "id": "1f4c115f",
   "metadata": {},
   "outputs": [],
   "source": [
    "from spacy.matcher import Matcher\n",
    "\n",
    "obj_c_pattern_1 = [{'LOWER': 'objective'},\n",
    "                   {'IS_PUNCT': True, 'OP': '?'},\n",
    "                   {'LOWER': 'c'}]\n",
    "obj_c_pattern_2 = [{'LOWER': 'objectivec'}]\n",
    "\n",
    "golang_pattern_1 = [{'LOWER': 'golang'}]\n",
    "golang_pattern_2 = [{'LOWER': 'go',\n",
    "                    'POS': {'NOT_IN': ['VERB']}}]\n",
    "\n",
    "python_pattern = [{'LOWER': 'python'}]\n",
    "ruby_pattern = [{'LOWER': 'ruby'}]\n",
    "js_pattern = [{'LOWER': {'IN': ['js', 'javascript']}}]\n",
    "\n",
    "matcher = Matcher(nlp.vocab)\n",
    "matcher.add(\"OBJ_C_LANG\", [obj_c_pattern_1, obj_c_pattern_2])\n",
    "matcher.add(\"GOLANG_LANG\", [golang_pattern_1, golang_pattern_2])\n",
    "matcher.add(\"PYTHON_LANG\", [python_pattern])\n",
    "matcher.add(\"JS_LANG\", [js_pattern])\n",
    "matcher.add(\"RUBY_LANG\", [ruby_pattern])"
   ]
  },
  {
   "cell_type": "code",
   "execution_count": 28,
   "id": "ad834d49",
   "metadata": {},
   "outputs": [
    {
     "name": "stdout",
     "output_type": "stream",
     "text": [
      "python\n",
      "golang\n",
      "objective-c\n"
     ]
    }
   ],
   "source": [
    "doc = nlp(\"I code in both python, go/golang as well as objective-c\")\n",
    "for match_id, start, end in matcher(doc):\n",
    "    print(doc[start: end])"
   ]
  },
  {
   "cell_type": "code",
   "execution_count": 29,
   "id": "17b7eea4",
   "metadata": {},
   "outputs": [
    {
     "name": "stdout",
     "output_type": "stream",
     "text": [
      "js\n",
      "ruby\n"
     ]
    }
   ],
   "source": [
    "doc = nlp(\"I've done some js and ruby and go programming\")\n",
    "for match_id, start, end in matcher(doc):\n",
    "    print(doc[start: end])"
   ]
  },
  {
   "cell_type": "code",
   "execution_count": 30,
   "id": "90ceef1f",
   "metadata": {},
   "outputs": [
    {
     "data": {
      "text/plain": [
       "[(I, 'PRON'),\n",
       " ('ve, 'AUX'),\n",
       " (done, 'VERB'),\n",
       " (some, 'DET'),\n",
       " (js, 'ADJ'),\n",
       " (and, 'CCONJ'),\n",
       " (ruby, 'PROPN'),\n",
       " (and, 'CCONJ'),\n",
       " (go, 'VERB'),\n",
       " (programming, 'NOUN')]"
      ]
     },
     "execution_count": 30,
     "metadata": {},
     "output_type": "execute_result"
    }
   ],
   "source": [
    "[(t, t.pos_) for t in doc]"
   ]
  },
  {
   "cell_type": "markdown",
   "id": "f6a52bff",
   "metadata": {},
   "source": [
    "## Benchmarking"
   ]
  },
  {
   "cell_type": "code",
   "execution_count": 31,
   "id": "3e31c0e5",
   "metadata": {},
   "outputs": [],
   "source": [
    "import pandas as pd\n",
    "\n",
    "df = (pd.read_csv(\"Questions.csv\", nrows = 1_000_000,\n",
    "                 encoding = 'ISO-8859-1', usecols = ['Title', 'Id']))"
   ]
  },
  {
   "cell_type": "code",
   "execution_count": 32,
   "id": "13aa0fc5",
   "metadata": {},
   "outputs": [],
   "source": [
    "titles = (_ for _ in df['Title'] if \"objective\" in _.lower())"
   ]
  },
  {
   "cell_type": "code",
   "execution_count": 33,
   "id": "bf10dc79",
   "metadata": {},
   "outputs": [
    {
     "name": "stdout",
     "output_type": "stream",
     "text": [
      "Having to set objectives for developers, even though objectives don't work\n",
      "How can i connect MySQL database with objective project?\n",
      "Downloading multiple files in iphone app(Objective c)\n",
      "Including Objective C++ Type in C++ Class Definition\n",
      "Storing UIImages with ObjectiveRecord and ObjectiveSync\n",
      "__OBJC__ equivalent for Objective-C++\n",
      "iPhone Device/Simulator memory oddities using Objective-C++\n",
      "How well is Objective-J documented? Is the documentation good enough to start using it seriously?\n"
     ]
    }
   ],
   "source": [
    "for i in range(200):\n",
    "    doc = nlp(next(titles))\n",
    "    if len(matcher(doc)) == 0:\n",
    "        print(doc)"
   ]
  },
  {
   "cell_type": "markdown",
   "id": "bf8ea3df",
   "metadata": {},
   "source": [
    "# 03 "
   ]
  },
  {
   "cell_type": "code",
   "execution_count": 34,
   "id": "27bc4874",
   "metadata": {},
   "outputs": [
    {
     "name": "stdout",
     "output_type": "stream",
     "text": [
      "How do I run Rake tasks within a Ruby script?\n",
      "How can I create Prototype Methods (like JavaScript) in C#.Net?\n",
      "Some kind of task manager for JavaScript in Firefox 3?\n",
      "Best practices for managing and deploying large JavaScript apps\n",
      "Create an encrypted ZIP file in Python\n",
      "Code to ask yes/no question in javascript\n",
      "Executing JavaScript from Flex: Is this javascript function dangerous?\n",
      "What Javascript rich text editor will not break the browser's spellcheck?\n",
      "How do I marshal a lambda (Proc) in Ruby?\n",
      "Ruby Performance\n"
     ]
    }
   ],
   "source": [
    "titles = (_ for _ in df['Title'])\n",
    "g = (d for d in nlp.pipe(titles) if len(matcher(d)) > 0)\n",
    "for i in range(10):\n",
    "    print(next(g))"
   ]
  },
  {
   "cell_type": "markdown",
   "id": "bcea3296",
   "metadata": {},
   "source": [
    "### Extending Jupyter"
   ]
  },
  {
   "cell_type": "code",
   "execution_count": 13,
   "id": "e76e58d4",
   "metadata": {},
   "outputs": [],
   "source": [
    "from IPython.display import HTML as html_print\n",
    "\n",
    "def style(s, bold = False):\n",
    "    blob = f\"<text>{s}<text>\"\n",
    "    if bold:\n",
    "        blob = f\"<b style='backgorund-color: #fff59d'>{blob}</b>\"\n",
    "    return blob\n",
    "\n",
    "def html_generator(g, n = 10):\n",
    "    blob = \"\"\n",
    "    for i in range(n):\n",
    "        doc = next(g)\n",
    "        \n",
    "        state = [[t, False] for t in doc]\n",
    "        for idx, start, end in matcher(doc):\n",
    "            for i in range(start, end):\n",
    "                state[i][1] = True\n",
    "        blob += style(' '.join([style(str(t[0]), bold = t[1]) for t in state]) + '<br>')\n",
    "    return blob"
   ]
  },
  {
   "cell_type": "code",
   "execution_count": 36,
   "id": "2ae581b5",
   "metadata": {},
   "outputs": [
    {
     "data": {
      "text/html": [
       "<text><text>How<text> <text>do<text> <text>I<text> <text>run<text> <text>Rake<text> <text>tasks<text> <text>within<text> <text>a<text> <b style='backgorund-color: #fff59d'><text>Ruby<text></b> <text>script<text> <text>?<text><br><text><text><text>How<text> <text>can<text> <text>I<text> <text>create<text> <text>Prototype<text> <text>Methods<text> <text>(<text> <text>like<text> <b style='backgorund-color: #fff59d'><text>JavaScript<text></b> <text>)<text> <text>in<text> <text>C#.Net<text> <text>?<text><br><text><text><text>Some<text> <text>kind<text> <text>of<text> <text>task<text> <text>manager<text> <text>for<text> <b style='backgorund-color: #fff59d'><text>JavaScript<text></b> <text>in<text> <text>Firefox<text> <text>3<text> <text>?<text><br><text><text><text>Best<text> <text>practices<text> <text>for<text> <text>managing<text> <text>and<text> <text>deploying<text> <text>large<text> <b style='backgorund-color: #fff59d'><text>JavaScript<text></b> <text>apps<text><br><text><text><text>Create<text> <text>an<text> <text>encrypted<text> <text>ZIP<text> <text>file<text> <text>in<text> <b style='backgorund-color: #fff59d'><text>Python<text></b><br><text><text><text>Code<text> <text>to<text> <text>ask<text> <text>yes<text> <text>/<text> <text>no<text> <text>question<text> <text>in<text> <b style='backgorund-color: #fff59d'><text>javascript<text></b><br><text><text><text>Executing<text> <b style='backgorund-color: #fff59d'><text>JavaScript<text></b> <text>from<text> <text>Flex<text> <text>:<text> <text>Is<text> <text>this<text> <b style='backgorund-color: #fff59d'><text>javascript<text></b> <text>function<text> <text>dangerous<text> <text>?<text><br><text><text><text>What<text> <b style='backgorund-color: #fff59d'><text>Javascript<text></b> <text>rich<text> <text>text<text> <text>editor<text> <text>will<text> <text>not<text> <text>break<text> <text>the<text> <text>browser<text> <text>'s<text> <text>spellcheck<text> <text>?<text><br><text><text><text>How<text> <text>do<text> <text>I<text> <text>marshal<text> <text>a<text> <text>lambda<text> <text>(<text> <text>Proc<text> <text>)<text> <text>in<text> <b style='backgorund-color: #fff59d'><text>Ruby<text></b> <text>?<text><br><text><text><b style='backgorund-color: #fff59d'><text>Ruby<text></b> <text>Performance<text><br><text>"
      ],
      "text/plain": [
       "<IPython.core.display.HTML object>"
      ]
     },
     "execution_count": 36,
     "metadata": {},
     "output_type": "execute_result"
    }
   ],
   "source": [
    "titles = (_ for _ in df['Title'])\n",
    "g = (d for d in nlp.pipe(titles) if len(matcher(d)) > 0)\n",
    "html_print(html_generator(g, n = 10))"
   ]
  },
  {
   "cell_type": "markdown",
   "id": "2b63e113",
   "metadata": {},
   "source": [
    "### Adding more languages"
   ]
  },
  {
   "cell_type": "code",
   "execution_count": 3,
   "id": "97a8c9bf",
   "metadata": {},
   "outputs": [],
   "source": [
    "import spacy \n",
    "from spacy.matcher import Matcher\n",
    "\n",
    "nlp = spacy.load(\"en_core_web_sm\")"
   ]
  },
  {
   "cell_type": "code",
   "execution_count": 4,
   "id": "e370a53b",
   "metadata": {},
   "outputs": [],
   "source": [
    "obj_c_pattern1 = [{'LOWER': 'objective'},\n",
    "                  {'IS_PUNCT': True, 'OP': '?'},\n",
    "                  {'LOWER': 'c'}]\n",
    "obj_c_pattern2 = [{'LOWER': 'objectivec'}]\n",
    "\n",
    "csharp_pattern1 = [{'LOWER': 'c'}, {'LOWER': '#'}]\n",
    "csharp_pattern2 = [{'LOWER': 'c'}, {'LOWER': 'sharp'}]\n",
    "csharp_pattern3 = [{'LOWER': 'c#'}]\n",
    "\n",
    "fsharp_pattern1 = [{'LOWER': 'f'}, {'LOWER': '#'}]\n",
    "fsharp_pattern2 = [{'LOWER': 'f'}, {'LOWER': 'sharp'}]\n",
    "fsharp_pattern3 = [{'LOWER': 'f#'}]\n",
    " \n",
    "dot_net_pattern = [{'LOWER': '.net'}]\n",
    "\n",
    "php_pattern = [{'LOWER': 'php'}]\n",
    "\n",
    "asp_net_pattern = [{'LOWER': {'IN': ['asp.net', 'asp']}}]\n",
    "\n",
    "python_pattern = [{'LOWER': 'python'}]\n",
    "\n",
    "lisp_pattern1  = [{'LOWER': 'lisp'}]\n",
    "lisp_pattern2  = [{'LOWER': 'common'}, {'LOWER': 'lisp'}]\n",
    "\n",
    "go_pattern1    = [{'LOWER': 'go', 'POS': {'NOT_IN': ['VERB']}}]\n",
    "go_pattern2    = [{'LOWER': 'golang'}]\n",
    "\n",
    "ruby_pattern   = [{'LOWER': 'ruby'}]\n",
    "\n",
    "sql_pattern    = [{'LOWER': 'sql'}]\n",
    "\n",
    "matlab_pattern = [{'LOWER': 'matlab'}]\n",
    "\n",
    "perl_pattern   = [{'LOWER': 'perl'}]\n",
    "\n",
    "html_pattern   = [{'LOWER': 'html'}]\n",
    "\n",
    "css_pattern   = [{'LOWER': 'css'}]\n",
    "\n",
    "js_pattern     = [{'LOWER': {'IN': ['js', 'javascript']}}]\n",
    "\n",
    "java_pattern   = [{'LOWER': 'java'}]\n",
    "\n",
    "c_pattern      = [{'LOWER': 'c'}]\n",
    "\n",
    "cpp_pattern    = [{'LOWER': 'c++'}]\n",
    "\n",
    "matcher = Matcher(nlp.vocab)\n",
    "matcher.add(\"OBJ_C_LANG\", [obj_c_pattern1, obj_c_pattern2])\n",
    "matcher.add(\"CSHARP_LANG\", [csharp_pattern1, csharp_pattern2, csharp_pattern3])\n",
    "matcher.add(\"FSHARP_LANG\", [fsharp_pattern1, fsharp_pattern2, fsharp_pattern3])\n",
    "matcher.add(\"DOT_NET_LANG\", [dot_net_pattern])\n",
    "matcher.add(\"PHP_LANG\", [php_pattern])\n",
    "matcher.add(\"ASP_NET_LANG\", [asp_net_pattern])\n",
    "matcher.add(\"PYTHON_LANG\", [python_pattern])\n",
    "matcher.add(\"LISP_LANG\", [lisp_pattern1, lisp_pattern2])\n",
    "matcher.add(\"GO_LANG\", [go_pattern1, go_pattern2])\n",
    "matcher.add(\"RUBY_LANG\", [ruby_pattern])\n",
    "matcher.add(\"SQL_LANG\", [sql_pattern])\n",
    "matcher.add(\"MATLAB_LANG\", [matlab_pattern])\n",
    "matcher.add(\"PERL_LANG\", [perl_pattern])\n",
    "matcher.add(\"HTML_LANG\", [html_pattern])\n",
    "matcher.add(\"CSS_LANG\", [css_pattern])\n",
    "matcher.add(\"JS_LANG\", [js_pattern])\n",
    "matcher.add(\"JAVA_LANG\", [java_pattern])\n",
    "matcher.add(\"C_LANG\", [c_pattern])\n",
    "matcher.add(\"CPP_LANG\", [cpp_pattern])"
   ]
  },
  {
   "cell_type": "markdown",
   "id": "a9fd02ac",
   "metadata": {},
   "source": [
    "## Actual labelling"
   ]
  },
  {
   "cell_type": "code",
   "execution_count": 7,
   "id": "2efeb6e8",
   "metadata": {},
   "outputs": [
    {
     "data": {
      "text/plain": [
       "647"
      ]
     },
     "execution_count": 7,
     "metadata": {},
     "output_type": "execute_result"
    }
   ],
   "source": [
    "titles = (_ for _ in df['Title'][:2000])\n",
    "sum(1 for d in nlp.pipe(titles) if len(matcher(d)) > 0)"
   ]
  },
  {
   "cell_type": "code",
   "execution_count": 8,
   "id": "5a4c1494",
   "metadata": {},
   "outputs": [
    {
     "data": {
      "text/html": [
       "<div>\n",
       "<style scoped>\n",
       "    .dataframe tbody tr th:only-of-type {\n",
       "        vertical-align: middle;\n",
       "    }\n",
       "\n",
       "    .dataframe tbody tr th {\n",
       "        vertical-align: top;\n",
       "    }\n",
       "\n",
       "    .dataframe thead th {\n",
       "        text-align: right;\n",
       "    }\n",
       "</style>\n",
       "<table border=\"1\" class=\"dataframe\">\n",
       "  <thead>\n",
       "    <tr style=\"text-align: right;\">\n",
       "      <th></th>\n",
       "      <th>Id</th>\n",
       "      <th>Title</th>\n",
       "    </tr>\n",
       "  </thead>\n",
       "  <tbody>\n",
       "    <tr>\n",
       "      <th>0</th>\n",
       "      <td>80</td>\n",
       "      <td>SQLStatement.execute() - multiple queries in o...</td>\n",
       "    </tr>\n",
       "    <tr>\n",
       "      <th>1</th>\n",
       "      <td>90</td>\n",
       "      <td>Good branching and merging tutorials for Torto...</td>\n",
       "    </tr>\n",
       "    <tr>\n",
       "      <th>2</th>\n",
       "      <td>120</td>\n",
       "      <td>ASP.NET Site Maps</td>\n",
       "    </tr>\n",
       "    <tr>\n",
       "      <th>3</th>\n",
       "      <td>180</td>\n",
       "      <td>Function for creating color wheels</td>\n",
       "    </tr>\n",
       "    <tr>\n",
       "      <th>4</th>\n",
       "      <td>260</td>\n",
       "      <td>Adding scripting functionality to .NET applica...</td>\n",
       "    </tr>\n",
       "  </tbody>\n",
       "</table>\n",
       "</div>"
      ],
      "text/plain": [
       "    Id                                              Title\n",
       "0   80  SQLStatement.execute() - multiple queries in o...\n",
       "1   90  Good branching and merging tutorials for Torto...\n",
       "2  120                                  ASP.NET Site Maps\n",
       "3  180                 Function for creating color wheels\n",
       "4  260  Adding scripting functionality to .NET applica..."
      ]
     },
     "execution_count": 8,
     "metadata": {},
     "output_type": "execute_result"
    }
   ],
   "source": [
    "df.head()"
   ]
  },
  {
   "cell_type": "markdown",
   "id": "a6fe9e27",
   "metadata": {},
   "source": [
    "## Language Version"
   ]
  },
  {
   "cell_type": "code",
   "execution_count": 9,
   "id": "a48e0931",
   "metadata": {},
   "outputs": [
    {
     "data": {
      "text/plain": [
       "[[{'LOWER': 'python'}],\n",
       " [{'LOWER': {'REGEX': '(python\\\\d+\\\\.?\\\\d*.?\\\\d*)'}}],\n",
       " [{'LOWER': 'python'}, {'TEXT': {'REGEX': '(\\\\d+\\\\.?\\\\d*.?\\\\d*)'}}]]"
      ]
     },
     "execution_count": 9,
     "metadata": {},
     "output_type": "execute_result"
    }
   ],
   "source": [
    "def create_versioned(name):\n",
    "    return [\n",
    "        [{'LOWER': name}],\n",
    "        [{'LOWER': {'REGEX': f'({name}\\d+\\.?\\d*.?\\d*)'}}],\n",
    "        [{'LOWER': name}, {'TEXT': {'REGEX': '(\\d+\\.?\\d*.?\\d*)'}}],\n",
    "    ]\n",
    "\n",
    "create_versioned('python')"
   ]
  },
  {
   "cell_type": "code",
   "execution_count": 10,
   "id": "45d487ec",
   "metadata": {},
   "outputs": [
    {
     "name": "stdout",
     "output_type": "stream",
     "text": [
      "Matches found in document: i use python, python3.7, python 3.6.6\n",
      "Match: python\n",
      "Match: python3.7\n",
      "Match: python\n",
      "Match: python 3.6.6\n",
      "Matches found in document: also python3\n",
      "Match: python3\n",
      "No matches found in document: I love dogs\n"
     ]
    }
   ],
   "source": [
    "matcher = Matcher(nlp.vocab, validate=True)\n",
    "matcher.add(\"PYTHON_LANG\", [*create_versioned('python')])\n",
    "\n",
    "for doc in nlp.pipe(['i use python, python3.7, python 3.6.6',\n",
    "                     \"also python3\",\n",
    "                     \"I love dogs\"]):\n",
    "    matches = matcher(doc)\n",
    "    \n",
    "    if matches:\n",
    "        print(\"Matches found in document:\", doc.text)\n",
    "        for match_id, start, end in matches:\n",
    "            span = doc[start:end]\n",
    "            print(\"Match:\", span.text)\n",
    "    else:\n",
    "        print(\"No matches found in document:\", doc.text)"
   ]
  },
  {
   "cell_type": "markdown",
   "id": "c8cc7815",
   "metadata": {},
   "source": [
    "## Putting this in a matcher"
   ]
  },
  {
   "cell_type": "code",
   "execution_count": 11,
   "id": "b1cd56c1",
   "metadata": {},
   "outputs": [],
   "source": [
    "obj_c_pattern1 = [{'LOWER': 'objective'},\n",
    "                  {'IS_PUNCT': True, 'OP': '?'},\n",
    "                  {'LOWER': 'c'}]\n",
    "obj_c_pattern2 = [{'LOWER': 'objectivec'}]\n",
    "\n",
    "csharp_pattern1 = [{'LOWER': 'c'}, {'LOWER': '#'}]\n",
    "csharp_pattern2 = [{'LOWER': 'c'}, {'LOWER': 'sharp'}]\n",
    "csharp_pattern3 = [{'LOWER': 'c#'}]\n",
    "\n",
    "fsharp_pattern1 = [{'LOWER': 'f'}, {'LOWER': '#'}]\n",
    "fsharp_pattern2 = [{'LOWER': 'f'}, {'LOWER': 'sharp'}]\n",
    "fsharp_pattern3 = [{'LOWER': 'f#'}]\n",
    "\n",
    "lisp_pattern1  = [{'LOWER': 'lisp'}]\n",
    "lisp_pattern2  = [{'LOWER': 'common'}, {'LOWER': 'lisp'}]\n",
    "\n",
    "go_pattern1    = [{'LOWER': 'go', 'POS': {'NOT_IN': ['VERB']}}]\n",
    "go_pattern2    = [{'LOWER': 'golang'}]\n",
    "\n",
    "html_pattern   = [{'LOWER': 'html'}]\n",
    "css_pattern    = [{'LOWER': 'css'}]\n",
    "sql_pattern    = [{'LOWER': 'sql'}]\n",
    "js_pattern     = [{'LOWER': {'IN': ['js', 'javascript']}}]\n",
    "\n",
    "cpp_pattern    = [{'LOWER': 'c++'}]\n",
    "\n",
    "\n",
    "versioned_languages = ['ruby', 'php', 'python', 'perl', 'java', 'haskell', \n",
    "                       'scala', 'c', 'cpp', 'matlab', 'bash', 'delphi']\n",
    "flatten = lambda l: [item for sublist in l for item in sublist]\n",
    "versioned_patterns = flatten([create_versioned(lang) for lang in versioned_languages])\n",
    "\n",
    "matcher = Matcher(nlp.vocab, validate=True)\n",
    "matcher.add(\"PROG_LANG\", \n",
    "            [obj_c_pattern1, obj_c_pattern2,\n",
    "            go_pattern1, go_pattern2,\n",
    "            lisp_pattern1, lisp_pattern2,\n",
    "            csharp_pattern1, csharp_pattern2, csharp_pattern3,\n",
    "            fsharp_pattern1, fsharp_pattern2, fsharp_pattern3,\n",
    "            html_pattern, css_pattern, sql_pattern, js_pattern,\n",
    "            cpp_pattern, *versioned_patterns])"
   ]
  },
  {
   "cell_type": "code",
   "execution_count": 14,
   "id": "5799bb45",
   "metadata": {},
   "outputs": [
    {
     "data": {
      "text/html": [
       "<text><text>Deploying<text> <b style='backgorund-color: #fff59d'><text>SQL<text></b> <text>Server<text> <text>Databases<text> <text>from<text> <text>Test<text> <text>to<text> <text>Live<text><br><text><text><text>How<text> <text>do<text> <text>I<text> <text>connect<text> <text>to<text> <text>a<text> <text>database<text> <text>and<text> <text>loop<text> <text>over<text> <text>a<text> <text>recordset<text> <text>in<text> <b style='backgorund-color: #fff59d'><text>C<text></b> <b style='backgorund-color: #fff59d'><text>#<text></b> <text>?<text><br><text><text><text>How<text> <text>do<text> <text>I<text> <text>delete<text> <text>a<text> <text>file<text> <text>which<text> <text>is<text> <text>locked<text> <text>by<text> <text>another<text> <text>process<text> <text>in<text> <b style='backgorund-color: #fff59d'><text>C<text></b> <b style='backgorund-color: #fff59d'><text>#<text></b> <text>?<text><br><text><text><text>Is<text> <text>Windows<text> <text>Server<text> <text>2008<text> <text>\"<text> <text>Server<text> <text>Core<text> <text>\"<text> <text>appropriate<text> <text>for<text> <text>a<text> <b style='backgorund-color: #fff59d'><text>SQL<text></b> <text>Server<text> <text>instance<text> <text>?<text><br><text><text><text>Good<text> <text>STL<text> <text>-<text> <text>like<text> <text>library<text> <text>for<text> <b style='backgorund-color: #fff59d'><text>C<text></b><br><text><text><text>Paging<text> <b style='backgorund-color: #fff59d'><text>SQL<text></b> <text>Server<text> <text>2005<text> <text>Results<text><br><text><text><text>MySQL<text> <text>/<text> <text>Apache<text> <text>Error<text> <text>in<text> <b style='backgorund-color: #fff59d'><text>PHP<text></b> <text>MySQL<text> <text>query<text><br><text><text><text>How<text> <text>to<text> <text>set<text> <text>up<text> <text>unit<text> <text>testing<text> <text>for<text> <text>Visual<text> <text>Studio<text> <b style='backgorund-color: #fff59d'><text>C++<text></b><br><text><text><text>How<text> <text>do<text> <text>you<text> <text>pack<text> <text>a<text> <text>visual<text> <text>studio<text> <b style='backgorund-color: #fff59d'><text>c++<text></b> <text>project<text> <text>for<text> <text>release<text> <text>?<text><br><text><text><text>How<text> <text>do<text> <text>you<text> <text>get<text> <text>leading<text> <text>wildcard<text> <text>full<text> <text>-<text> <text>text<text> <text>searches<text> <text>to<text> <text>work<text> <text>in<text> <b style='backgorund-color: #fff59d'><text>SQL<text></b> <text>Server<text> <text>?<text><br><text><text><text>How<text> <text>do<text> <text>I<text> <text>Transform<text> <b style='backgorund-color: #fff59d'><text>Sql<text></b> <text>Columns<text> <text>into<text> <text>Rows<text> <text>?<text><br><text><text><text>How<text> <text>do<text> <text>I<text> <text>run<text> <text>Rake<text> <text>tasks<text> <text>within<text> <text>a<text> <b style='backgorund-color: #fff59d'><text>Ruby<text></b> <text>script<text> <text>?<text><br><text><text><text>What<text> <text>code<text> <text>analysis<text> <text>tools<text> <text>do<text> <text>you<text> <text>use<text> <text>for<text> <text>your<text> <b style='backgorund-color: #fff59d'><text>Java<text></b> <text>projects<text> <text>?<text><br><text><text><text>What<text> <text>program<text> <text>can<text> <text>I<text> <text>use<text> <text>to<text> <text>generate<text> <text>diagrams<text> <text>of<text> <b style='backgorund-color: #fff59d'><text>SQL<text></b> <text>view<text> <text>/<text> <text>table<text> <text>structure<text> <text>?<text><br><text><text><text>How<text> <text>to<text> <text>easily<text> <text>consume<text> <text>a<text> <text>web<text> <text>service<text> <text>from<text> <b style='backgorund-color: #fff59d'><text>PHP<text></b><br><text><text><text>How<text> <text>can<text> <text>I<text> <text>create<text> <text>Prototype<text> <text>Methods<text> <text>(<text> <text>like<text> <b style='backgorund-color: #fff59d'><text>JavaScript<text></b> <text>)<text> <text>in<text> <text>C#.Net<text> <text>?<text><br><text><text><text>How<text> <text>can<text> <text>I<text> <b style='backgorund-color: #fff59d'><text>Java<text></b> <text>webstart<text> <text>multiple<text> <text>,<text> <text>dependent<text> <text>,<text> <text>native<text> <text>libraries<text> <text>?<text><br><text><text><b style='backgorund-color: #fff59d'><text>C<text></b> <b style='backgorund-color: #fff59d'><text>#<text></b> <text>and<text> <text>Arrow<text> <text>Keys<text><br><text><text><b style='backgorund-color: #fff59d'><text>SQL<text></b> <text>Server<text> <text>Management<text> <text>Studio<text> <text>alternatives<text> <text>to<text> <text>browse<text> <text>/<text> <text>edit<text> <text>tables<text> <text>and<text> <text>run<text> <text>queries<text><br><text><text><text>Some<text> <text>kind<text> <text>of<text> <text>task<text> <text>manager<text> <text>for<text> <b style='backgorund-color: #fff59d'><text>JavaScript<text></b> <text>in<text> <text>Firefox<text> <text>3<text> <text>?<text><br><text><text><text>Packaging<text> <b style='backgorund-color: #fff59d'><text>Java<text></b> <text>apps<text> <text>for<text> <text>the<text> <text>Windows<text> <text>/<text> <text>Linux<text> <text>desktop<text><br><text><text><text>How<text> <text>do<text> <text>you<text> <text>open<text> <text>a<text> <text>file<text> <text>in<text> <b style='backgorund-color: #fff59d'><text>C++<text></b> <text>?<text><br><text><text><text>How<text> <text>important<text> <text>is<text> <text>W3C<text> <text>XHTML<text> <text>/<text> <b style='backgorund-color: #fff59d'><text>CSS<text></b> <text>validation<text> <text>when<text> <text>finalizing<text> <text>work<text> <text>?<text><br><text><text><text>How<text> <text>do<text> <text>you<text> <text>pass<text> <text>a<text> <text>function<text> <text>as<text> <text>a<text> <text>parameter<text> <text>in<text> <b style='backgorund-color: #fff59d'><text>C<text></b> <text>?<text><br><text><text><b style='backgorund-color: #fff59d'><text>Lisp<text></b> <text>/<text> <text>Scheme<text> <text>interpreter<text> <text>without<text> <text>Emacs<text> <text>?<text><br><text><text><text>How<text> <text>to<text> <text>return<text> <text>a<text> <text>page<text> <text>of<text> <text>results<text> <text>from<text> <b style='backgorund-color: #fff59d'><text>SQL<text></b> <text>?<text><br><text><text><text>Any<text> <text>good<text> <text>advice<text> <text>on<text> <text>using<text> <text>emacs<text> <text>for<text> <b style='backgorund-color: #fff59d'><text>C++<text></b> <text>project<text> <text>?<text><br><text><text><text>What<text> <text>are<text> <text>the<text> <text>proper<text> <text>permissions<text> <text>for<text> <text>an<text> <text>upload<text> <text>folder<text> <text>with<text> <b style='backgorund-color: #fff59d'><text>PHP<text></b> <text>/<text> <text>Apache<text> <text>?<text><br><text><text><text>T<text> <text>-<text> <b style='backgorund-color: #fff59d'><text>Sql<text></b> <text>date<text> <text>format<text> <text>for<text> <text>seconds<text> <text>since<text> <text>last<text> <text>epoch<text> <text>/<text> <text>formatting<text> <text>for<text> <text>sqlite<text> <text>input<text><br><text><text><text>Passing<text> <text>more<text> <text>parameters<text> <text>in<text> <b style='backgorund-color: #fff59d'><text>C<text></b> <text>function<text> <text>pointers<text><br><text><text><text>What<text> <text>version<text> <text>of<text> <text>.Net<text> <text>framework<text> <text>ships<text> <text>with<text> <b style='backgorund-color: #fff59d'><text>SQL<text></b> <text>Server<text> <text>2008<text> <text>?<text><br><text><text><text>How<text> <text>do<text> <text>you<text> <text>kill<text> <text>all<text> <text>current<text> <text>connections<text> <text>to<text> <text>a<text> <b style='backgorund-color: #fff59d'><text>SQL<text></b> <text>Server<text> <text>2005<text> <text>database<text> <text>?<text><br><text><text><text>How<text> <text>can<text> <text>I<text> <text>determine<text> <text>the<text> <text>IP<text> <text>of<text> <text>my<text> <text>router<text> <text>/<text> <text>gateway<text> <text>in<text> <b style='backgorund-color: #fff59d'><text>Java<text></b> <text>?<text><br><text><text><text>Arrays<text> <text>of<text> <text>Arrays<text> <text>in<text> <b style='backgorund-color: #fff59d'><text>Java<text></b><br><text><text><text>How<text> <text>to<text> <text>setup<text> <text>site<text> <text>-<text> <text>wide<text> <text>variables<text> <text>in<text> <b style='backgorund-color: #fff59d'><text>php<text></b> <text>?<text><br><text><text><text>Insert<text> <text>Update<text> <text>stored<text> <text>proc<text> <text>on<text> <b style='backgorund-color: #fff59d'><text>SQL<text></b> <text>Server<text><br><text><text><text>Speed<text> <text>difference<text> <text>in<text> <text>using<text> <text>inline<text> <text>strings<text> <text>vs<text> <text>concatenation<text> <text>in<text> <b style='backgorund-color: #fff59d'><text>php5<text></b> <text>?<text><br><text><text><text>LINQ<text> <text>-<text> <text>to<text> <text>-<text> <b style='backgorund-color: #fff59d'><text>SQL<text></b> <text>vs<text> <text>stored<text> <text>procedures<text> <text>?<text><br><text><text><text>Changing<text> <text>CURRENT<text> <text>save<text> <text>/<text> <text>default<text> <text>directory<text> <text>in<text> <b style='backgorund-color: #fff59d'><text>Delphi<text></b> <b style='backgorund-color: #fff59d'><text>2007<text></b> <text>without<text> <text>using<text> <text>Save<text> <text>-<text> <text>As<text><br><text><text><text>Optimizing<text> <text>the<text> <text>PDF<text> <text>Export<text> <text>of<text> <text>Huge<text> <text>Reports<text> <text>in<text> <b style='backgorund-color: #fff59d'><text>Sql<text></b> <text>Reporting<text> <text>Services<text> <text>2005<text><br><text><text><text>Best<text> <text>practices<text> <text>for<text> <text>managing<text> <text>and<text> <text>deploying<text> <text>large<text> <b style='backgorund-color: #fff59d'><text>JavaScript<text></b> <text>apps<text><br><text><text><text>How<text> <text>do<text> <text>I<text> <text>convert<text> <text>a<text> <text>string<text> <text>to<text> <text>an<text> <text>enum<text> <text>in<text> <b style='backgorund-color: #fff59d'><text>C<text></b> <b style='backgorund-color: #fff59d'><text>#<text></b> <text>?<text><br><text><text><b style='backgorund-color: #fff59d'><text>C<text></b> <b style='backgorund-color: #fff59d'><text>#<text></b> <text>Auto<text> <text>Clearing<text> <text>Winform<text> <text>Textbox<text><br><text><text><text>How<text> <text>do<text> <text>I<text> <text>generate<text> <text>a<text> <text>hashcode<text> <text>from<text> <text>a<text> <text>byte<text> <text>array<text> <text>in<text> <b style='backgorund-color: #fff59d'><text>C<text></b> <b style='backgorund-color: #fff59d'><text>#<text></b> <text>?<text><br><text><text><b style='backgorund-color: #fff59d'><text>Haskell<text></b> <text>'s<text> <text>algebraic<text> <text>data<text> <text>types<text><br><text><text><text>How<text> <text>do<text> <text>you<text> <text>spawn<text> <text>another<text> <text>process<text> <text>in<text> <b style='backgorund-color: #fff59d'><text>C<text></b> <text>?<text><br><text><text><text>Create<text> <text>an<text> <text>encrypted<text> <text>ZIP<text> <text>file<text> <text>in<text> <b style='backgorund-color: #fff59d'><text>Python<text></b><br><text><text><text>Code<text> <text>to<text> <text>ask<text> <text>yes<text> <text>/<text> <text>no<text> <text>question<text> <text>in<text> <b style='backgorund-color: #fff59d'><text>javascript<text></b><br><text><text><text>Executing<text> <b style='backgorund-color: #fff59d'><text>JavaScript<text></b> <text>from<text> <text>Flex<text> <text>:<text> <text>Is<text> <text>this<text> <b style='backgorund-color: #fff59d'><text>javascript<text></b> <text>function<text> <text>dangerous<text> <text>?<text><br><text><text><b style='backgorund-color: #fff59d'><text>SQL<text></b> <text>Server<text> <text>-<text> <text>Dirty<text> <text>Reads<text> <text>Pros<text> <text>&<text> <text>Cons<text><br><text><text><b style='backgorund-color: #fff59d'><text>Java<text></b> <text>JPanel<text> <text>redraw<text> <text>issues<text><br><text><text><text>What<text> <text>are<text> <text>the<text> <text>major<text> <text>differences<text> <text>between<text> <text>ANSI<text> <b style='backgorund-color: #fff59d'><text>C<text></b> <text>and<text> <text>K&R<text> <b style='backgorund-color: #fff59d'><text>C<text></b> <text>?<text><br><text><text><text>Configure<text> <text>a<text> <b style='backgorund-color: #fff59d'><text>Java<text></b> <text>Socket<text> <text>to<text> <text>fail<text> <text>-<text> <text>fast<text> <text>on<text> <text>disconnect<text> <text>?<text><br><text><text><text>What<text> <b style='backgorund-color: #fff59d'><text>Javascript<text></b> <text>rich<text> <text>text<text> <text>editor<text> <text>will<text> <text>not<text> <text>break<text> <text>the<text> <text>browser<text> <text>'s<text> <text>spellcheck<text> <text>?<text><br><text><text><text>How<text> <text>do<text> <text>I<text> <text>marshal<text> <text>a<text> <text>lambda<text> <text>(<text> <text>Proc<text> <text>)<text> <text>in<text> <b style='backgorund-color: #fff59d'><text>Ruby<text></b> <text>?<text><br><text><text><text>What<text> <text>'s<text> <text>the<text> <text>fastest<text> <text>way<text> <text>to<text> <text>bulk<text> <text>insert<text> <text>a<text> <text>lot<text> <text>of<text> <text>data<text> <text>in<text> <b style='backgorund-color: #fff59d'><text>SQL<text></b> <text>Server<text> <text>(<text> <b style='backgorund-color: #fff59d'><text>C<text></b> <b style='backgorund-color: #fff59d'><text>#<text></b> <text>client<text> <text>)<text><br><text><text><b style='backgorund-color: #fff59d'><text>SQL<text></b> <text>Server<text> <text>:<text> <text>Examples<text> <text>of<text> <text>PIVOTing<text> <text>String<text> <text>data<text><br><text><text><text>Abstraction<text> <text>away<text> <text>from<text> <b style='backgorund-color: #fff59d'><text>CSS<text></b><br><text><text><text>Best<text> <text>Method<text> <text>to<text> <text>run<text> <text>a<text> <b style='backgorund-color: #fff59d'><text>Java<text></b> <text>Application<text> <text>as<text> <text>a<text> <text>*<text> <text>nix<text> <text>Daemon<text> <text>or<text> <text>Windows<text> <text>Service<text> <text>?<text><br><text><text><text>What<text> <text>is<text> <text>the<text> <text>best<text> <text>free<text> <text>memory<text> <text>leak<text> <text>detector<text> <text>for<text> <text>a<text> <b style='backgorund-color: #fff59d'><text>C<text></b> <text>/<text> <b style='backgorund-color: #fff59d'><text>C++<text></b> <text>program<text> <text>and<text> <text>its<text> <text>plug<text> <text>-<text> <text>in<text> <text>DLLs<text> <text>?<text><br><text>"
      ],
      "text/plain": [
       "<IPython.core.display.HTML object>"
      ]
     },
     "execution_count": 14,
     "metadata": {},
     "output_type": "execute_result"
    }
   ],
   "source": [
    "titles = (_ for _ in df['Title'])\n",
    "g = (d for d in nlp.pipe(titles) if len(matcher(d)) > 0)\n",
    "html_print(html_generator(g, n = 60))"
   ]
  },
  {
   "cell_type": "markdown",
   "id": "b8bd373f",
   "metadata": {},
   "source": [
    " ## Making a statistical model"
   ]
  },
  {
   "cell_type": "code",
   "execution_count": 86,
   "id": "bd1b773c",
   "metadata": {},
   "outputs": [
    {
     "name": "stdout",
     "output_type": "stream",
     "text": [
      "Collecting en-core-web-md==3.7.1\n",
      "  Downloading https://github.com/explosion/spacy-models/releases/download/en_core_web_md-3.7.1/en_core_web_md-3.7.1-py3-none-any.whl (42.8 MB)\n",
      "     ---------------------------------------- 0.0/42.8 MB ? eta -:--:--\n",
      "     ---------------------------------------- 0.0/42.8 MB ? eta -:--:--\n",
      "     ---------------------------------------- 0.0/42.8 MB ? eta -:--:--\n",
      "     --------------------------------------- 0.0/42.8 MB 325.1 kB/s eta 0:02:12\n",
      "     --------------------------------------- 0.1/42.8 MB 465.5 kB/s eta 0:01:32\n",
      "     ---------------------------------------- 0.3/42.8 MB 1.8 MB/s eta 0:00:24\n",
      "     - -------------------------------------- 1.1/42.8 MB 5.0 MB/s eta 0:00:09\n",
      "     - -------------------------------------- 1.9/42.8 MB 7.1 MB/s eta 0:00:06\n",
      "     -- ------------------------------------- 2.7/42.8 MB 9.2 MB/s eta 0:00:05\n",
      "     --- ------------------------------------ 3.7/42.8 MB 10.8 MB/s eta 0:00:04\n",
      "     ---- ----------------------------------- 4.8/42.8 MB 12.1 MB/s eta 0:00:04\n",
      "     ----- ---------------------------------- 5.7/42.8 MB 13.0 MB/s eta 0:00:03\n",
      "     ------ --------------------------------- 6.5/42.8 MB 13.9 MB/s eta 0:00:03\n",
      "     ------ --------------------------------- 7.5/42.8 MB 14.5 MB/s eta 0:00:03\n",
      "     ------- -------------------------------- 8.4/42.8 MB 14.9 MB/s eta 0:00:03\n",
      "     -------- ------------------------------- 9.3/42.8 MB 15.6 MB/s eta 0:00:03\n",
      "     --------- ----------------------------- 10.2/42.8 MB 15.9 MB/s eta 0:00:03\n",
      "     ---------- ---------------------------- 11.2/42.8 MB 21.8 MB/s eta 0:00:02\n",
      "     ----------- --------------------------- 12.2/42.8 MB 21.8 MB/s eta 0:00:02\n",
      "     ----------- --------------------------- 12.8/42.8 MB 22.6 MB/s eta 0:00:02\n",
      "     ------------ -------------------------- 13.7/42.8 MB 21.9 MB/s eta 0:00:02\n",
      "     ------------- ------------------------- 14.3/42.8 MB 20.5 MB/s eta 0:00:02\n",
      "     ------------- ------------------------- 14.7/42.8 MB 19.8 MB/s eta 0:00:02\n",
      "     ------------- ------------------------- 15.2/42.8 MB 19.3 MB/s eta 0:00:02\n",
      "     -------------- ------------------------ 15.5/42.8 MB 18.2 MB/s eta 0:00:02\n",
      "     -------------- ------------------------ 15.9/42.8 MB 17.2 MB/s eta 0:00:02\n",
      "     -------------- ------------------------ 16.2/42.8 MB 16.8 MB/s eta 0:00:02\n",
      "     --------------- ----------------------- 16.6/42.8 MB 16.0 MB/s eta 0:00:02\n",
      "     --------------- ----------------------- 17.0/42.8 MB 15.2 MB/s eta 0:00:02\n",
      "     --------------- ----------------------- 17.3/42.8 MB 14.5 MB/s eta 0:00:02\n",
      "     ---------------- ---------------------- 17.7/42.8 MB 13.9 MB/s eta 0:00:02\n",
      "     ---------------- ---------------------- 18.1/42.8 MB 13.9 MB/s eta 0:00:02\n",
      "     ---------------- ---------------------- 18.5/42.8 MB 13.4 MB/s eta 0:00:02\n",
      "     ----------------- --------------------- 18.9/42.8 MB 12.9 MB/s eta 0:00:02\n",
      "     ----------------- --------------------- 19.2/42.8 MB 12.4 MB/s eta 0:00:02\n",
      "     ----------------- --------------------- 19.6/42.8 MB 12.1 MB/s eta 0:00:02\n",
      "     ------------------ -------------------- 20.0/42.8 MB 11.7 MB/s eta 0:00:02\n",
      "     ------------------ -------------------- 20.4/42.8 MB 11.3 MB/s eta 0:00:02\n",
      "     ------------------ -------------------- 20.8/42.8 MB 10.9 MB/s eta 0:00:03\n",
      "     ------------------- ------------------- 21.2/42.8 MB 10.7 MB/s eta 0:00:03\n",
      "     ------------------- ------------------- 21.6/42.8 MB 10.4 MB/s eta 0:00:03\n",
      "     -------------------- ------------------ 22.0/42.8 MB 10.2 MB/s eta 0:00:03\n",
      "     -------------------- ------------------- 22.5/42.8 MB 9.9 MB/s eta 0:00:03\n",
      "     --------------------- ------------------ 22.9/42.8 MB 9.8 MB/s eta 0:00:03\n",
      "     --------------------- ------------------ 23.3/42.8 MB 9.6 MB/s eta 0:00:03\n",
      "     ---------------------- ----------------- 23.8/42.8 MB 9.4 MB/s eta 0:00:03\n",
      "     ---------------------- ----------------- 24.3/42.8 MB 9.2 MB/s eta 0:00:03\n",
      "     ----------------------- ---------------- 24.7/42.8 MB 9.1 MB/s eta 0:00:02\n",
      "     ----------------------- ---------------- 25.2/42.8 MB 9.1 MB/s eta 0:00:02\n",
      "     ----------------------- ---------------- 25.7/42.8 MB 9.2 MB/s eta 0:00:02\n",
      "     ------------------------ --------------- 26.1/42.8 MB 9.4 MB/s eta 0:00:02\n",
      "     ------------------------ --------------- 26.5/42.8 MB 9.5 MB/s eta 0:00:02\n",
      "     ------------------------- -------------- 27.0/42.8 MB 9.6 MB/s eta 0:00:02\n",
      "     ------------------------- -------------- 27.4/42.8 MB 9.8 MB/s eta 0:00:02\n",
      "     -------------------------- ------------- 27.9/42.8 MB 9.9 MB/s eta 0:00:02\n",
      "     ------------------------- ------------- 28.4/42.8 MB 10.1 MB/s eta 0:00:02\n",
      "     -------------------------- ------------ 28.8/42.8 MB 10.1 MB/s eta 0:00:02\n",
      "     -------------------------- ------------ 29.3/42.8 MB 10.2 MB/s eta 0:00:02\n",
      "     --------------------------- ----------- 29.8/42.8 MB 10.2 MB/s eta 0:00:02\n",
      "     --------------------------- ----------- 30.3/42.8 MB 10.6 MB/s eta 0:00:02\n",
      "     ---------------------------- ---------- 30.8/42.8 MB 10.6 MB/s eta 0:00:02\n",
      "     ---------------------------- ---------- 31.3/42.8 MB 10.7 MB/s eta 0:00:02\n",
      "     ----------------------------- --------- 31.8/42.8 MB 10.7 MB/s eta 0:00:02\n",
      "     ----------------------------- --------- 32.4/42.8 MB 11.1 MB/s eta 0:00:01\n",
      "     ----------------------------- --------- 32.9/42.8 MB 11.1 MB/s eta 0:00:01\n",
      "     ------------------------------ -------- 33.5/42.8 MB 11.3 MB/s eta 0:00:01\n",
      "     ------------------------------ -------- 34.0/42.8 MB 11.3 MB/s eta 0:00:01\n",
      "     ------------------------------- ------- 34.6/42.8 MB 11.5 MB/s eta 0:00:01\n",
      "     -------------------------------- ------ 35.1/42.8 MB 11.5 MB/s eta 0:00:01\n",
      "     -------------------------------- ------ 35.7/42.8 MB 11.5 MB/s eta 0:00:01\n",
      "     --------------------------------- ----- 36.2/42.8 MB 11.9 MB/s eta 0:00:01\n",
      "     --------------------------------- ----- 36.8/42.8 MB 11.9 MB/s eta 0:00:01\n",
      "     ---------------------------------- ---- 37.3/42.8 MB 11.9 MB/s eta 0:00:01\n",
      "     ---------------------------------- ---- 37.9/42.8 MB 11.9 MB/s eta 0:00:01\n",
      "     ----------------------------------- --- 38.4/42.8 MB 12.4 MB/s eta 0:00:01\n",
      "     ----------------------------------- --- 39.0/42.8 MB 12.4 MB/s eta 0:00:01\n",
      "     ------------------------------------ -- 39.5/42.8 MB 12.4 MB/s eta 0:00:01\n",
      "     ------------------------------------ -- 40.2/42.8 MB 12.4 MB/s eta 0:00:01\n",
      "     ------------------------------------- - 40.7/42.8 MB 12.8 MB/s eta 0:00:01\n",
      "     ------------------------------------- - 41.4/42.8 MB 12.8 MB/s eta 0:00:01\n",
      "     --------------------------------------  42.0/42.8 MB 12.8 MB/s eta 0:00:01\n",
      "     --------------------------------------  42.6/42.8 MB 12.8 MB/s eta 0:00:01\n",
      "     --------------------------------------  42.8/42.8 MB 13.1 MB/s eta 0:00:01\n",
      "     --------------------------------------  42.8/42.8 MB 13.1 MB/s eta 0:00:01\n",
      "     --------------------------------------  42.8/42.8 MB 13.1 MB/s eta 0:00:01\n",
      "     --------------------------------------  42.8/42.8 MB 13.1 MB/s eta 0:00:01\n",
      "     --------------------------------------- 42.8/42.8 MB 10.7 MB/s eta 0:00:00\n",
      "Requirement already satisfied: spacy<3.8.0,>=3.7.2 in c:\\users\\rishit\\.conda\\envs\\myenv\\lib\\site-packages (from en-core-web-md==3.7.1) (3.7.4)\n",
      "Requirement already satisfied: spacy-legacy<3.1.0,>=3.0.11 in c:\\users\\rishit\\.conda\\envs\\myenv\\lib\\site-packages (from spacy<3.8.0,>=3.7.2->en-core-web-md==3.7.1) (3.0.12)\n",
      "Requirement already satisfied: spacy-loggers<2.0.0,>=1.0.0 in c:\\users\\rishit\\.conda\\envs\\myenv\\lib\\site-packages (from spacy<3.8.0,>=3.7.2->en-core-web-md==3.7.1) (1.0.5)\n",
      "Requirement already satisfied: murmurhash<1.1.0,>=0.28.0 in c:\\users\\rishit\\.conda\\envs\\myenv\\lib\\site-packages (from spacy<3.8.0,>=3.7.2->en-core-web-md==3.7.1) (1.0.10)\n",
      "Requirement already satisfied: cymem<2.1.0,>=2.0.2 in c:\\users\\rishit\\.conda\\envs\\myenv\\lib\\site-packages (from spacy<3.8.0,>=3.7.2->en-core-web-md==3.7.1) (2.0.8)\n",
      "Requirement already satisfied: preshed<3.1.0,>=3.0.2 in c:\\users\\rishit\\.conda\\envs\\myenv\\lib\\site-packages (from spacy<3.8.0,>=3.7.2->en-core-web-md==3.7.1) (3.0.9)\n",
      "Requirement already satisfied: thinc<8.3.0,>=8.2.2 in c:\\users\\rishit\\.conda\\envs\\myenv\\lib\\site-packages (from spacy<3.8.0,>=3.7.2->en-core-web-md==3.7.1) (8.2.3)\n",
      "Requirement already satisfied: wasabi<1.2.0,>=0.9.1 in c:\\users\\rishit\\.conda\\envs\\myenv\\lib\\site-packages (from spacy<3.8.0,>=3.7.2->en-core-web-md==3.7.1) (1.1.2)\n",
      "Requirement already satisfied: srsly<3.0.0,>=2.4.3 in c:\\users\\rishit\\.conda\\envs\\myenv\\lib\\site-packages (from spacy<3.8.0,>=3.7.2->en-core-web-md==3.7.1) (2.4.8)\n",
      "Requirement already satisfied: catalogue<2.1.0,>=2.0.6 in c:\\users\\rishit\\.conda\\envs\\myenv\\lib\\site-packages (from spacy<3.8.0,>=3.7.2->en-core-web-md==3.7.1) (2.0.10)\n",
      "Requirement already satisfied: weasel<0.4.0,>=0.1.0 in c:\\users\\rishit\\.conda\\envs\\myenv\\lib\\site-packages (from spacy<3.8.0,>=3.7.2->en-core-web-md==3.7.1) (0.3.4)\n",
      "Requirement already satisfied: typer<0.10.0,>=0.3.0 in c:\\users\\rishit\\.conda\\envs\\myenv\\lib\\site-packages (from spacy<3.8.0,>=3.7.2->en-core-web-md==3.7.1) (0.9.0)\n",
      "Requirement already satisfied: smart-open<7.0.0,>=5.2.1 in c:\\users\\rishit\\.conda\\envs\\myenv\\lib\\site-packages (from spacy<3.8.0,>=3.7.2->en-core-web-md==3.7.1) (6.4.0)\n",
      "Requirement already satisfied: tqdm<5.0.0,>=4.38.0 in c:\\users\\rishit\\.conda\\envs\\myenv\\lib\\site-packages (from spacy<3.8.0,>=3.7.2->en-core-web-md==3.7.1) (4.65.0)\n",
      "Requirement already satisfied: requests<3.0.0,>=2.13.0 in c:\\users\\rishit\\.conda\\envs\\myenv\\lib\\site-packages (from spacy<3.8.0,>=3.7.2->en-core-web-md==3.7.1) (2.31.0)\n",
      "Requirement already satisfied: pydantic!=1.8,!=1.8.1,<3.0.0,>=1.7.4 in c:\\users\\rishit\\.conda\\envs\\myenv\\lib\\site-packages (from spacy<3.8.0,>=3.7.2->en-core-web-md==3.7.1) (2.6.2)\n",
      "Requirement already satisfied: jinja2 in c:\\users\\rishit\\.conda\\envs\\myenv\\lib\\site-packages (from spacy<3.8.0,>=3.7.2->en-core-web-md==3.7.1) (3.1.2)\n",
      "Requirement already satisfied: setuptools in c:\\users\\rishit\\.conda\\envs\\myenv\\lib\\site-packages (from spacy<3.8.0,>=3.7.2->en-core-web-md==3.7.1) (68.0.0)\n",
      "Requirement already satisfied: packaging>=20.0 in c:\\users\\rishit\\.conda\\envs\\myenv\\lib\\site-packages (from spacy<3.8.0,>=3.7.2->en-core-web-md==3.7.1) (23.1)\n",
      "Requirement already satisfied: langcodes<4.0.0,>=3.2.0 in c:\\users\\rishit\\.conda\\envs\\myenv\\lib\\site-packages (from spacy<3.8.0,>=3.7.2->en-core-web-md==3.7.1) (3.3.0)\n",
      "Requirement already satisfied: numpy>=1.19.0 in c:\\users\\rishit\\.conda\\envs\\myenv\\lib\\site-packages (from spacy<3.8.0,>=3.7.2->en-core-web-md==3.7.1) (1.24.3)\n",
      "Requirement already satisfied: annotated-types>=0.4.0 in c:\\users\\rishit\\.conda\\envs\\myenv\\lib\\site-packages (from pydantic!=1.8,!=1.8.1,<3.0.0,>=1.7.4->spacy<3.8.0,>=3.7.2->en-core-web-md==3.7.1) (0.6.0)\n",
      "Requirement already satisfied: pydantic-core==2.16.3 in c:\\users\\rishit\\.conda\\envs\\myenv\\lib\\site-packages (from pydantic!=1.8,!=1.8.1,<3.0.0,>=1.7.4->spacy<3.8.0,>=3.7.2->en-core-web-md==3.7.1) (2.16.3)\n",
      "Requirement already satisfied: typing-extensions>=4.6.1 in c:\\users\\rishit\\.conda\\envs\\myenv\\lib\\site-packages (from pydantic!=1.8,!=1.8.1,<3.0.0,>=1.7.4->spacy<3.8.0,>=3.7.2->en-core-web-md==3.7.1) (4.9.0)\n",
      "Requirement already satisfied: charset-normalizer<4,>=2 in c:\\users\\rishit\\.conda\\envs\\myenv\\lib\\site-packages (from requests<3.0.0,>=2.13.0->spacy<3.8.0,>=3.7.2->en-core-web-md==3.7.1) (2.0.4)\n",
      "Requirement already satisfied: idna<4,>=2.5 in c:\\users\\rishit\\.conda\\envs\\myenv\\lib\\site-packages (from requests<3.0.0,>=2.13.0->spacy<3.8.0,>=3.7.2->en-core-web-md==3.7.1) (3.4)\n",
      "Requirement already satisfied: urllib3<3,>=1.21.1 in c:\\users\\rishit\\.conda\\envs\\myenv\\lib\\site-packages (from requests<3.0.0,>=2.13.0->spacy<3.8.0,>=3.7.2->en-core-web-md==3.7.1) (1.26.16)\n",
      "Requirement already satisfied: certifi>=2017.4.17 in c:\\users\\rishit\\.conda\\envs\\myenv\\lib\\site-packages (from requests<3.0.0,>=2.13.0->spacy<3.8.0,>=3.7.2->en-core-web-md==3.7.1) (2023.11.17)\n",
      "Requirement already satisfied: blis<0.8.0,>=0.7.8 in c:\\users\\rishit\\.conda\\envs\\myenv\\lib\\site-packages (from thinc<8.3.0,>=8.2.2->spacy<3.8.0,>=3.7.2->en-core-web-md==3.7.1) (0.7.11)\n",
      "Requirement already satisfied: confection<1.0.0,>=0.0.1 in c:\\users\\rishit\\.conda\\envs\\myenv\\lib\\site-packages (from thinc<8.3.0,>=8.2.2->spacy<3.8.0,>=3.7.2->en-core-web-md==3.7.1) (0.1.4)\n",
      "Requirement already satisfied: colorama in c:\\users\\rishit\\.conda\\envs\\myenv\\lib\\site-packages (from tqdm<5.0.0,>=4.38.0->spacy<3.8.0,>=3.7.2->en-core-web-md==3.7.1) (0.4.6)\n",
      "Requirement already satisfied: click<9.0.0,>=7.1.1 in c:\\users\\rishit\\.conda\\envs\\myenv\\lib\\site-packages (from typer<0.10.0,>=0.3.0->spacy<3.8.0,>=3.7.2->en-core-web-md==3.7.1) (8.1.7)\n",
      "Requirement already satisfied: cloudpathlib<0.17.0,>=0.7.0 in c:\\users\\rishit\\.conda\\envs\\myenv\\lib\\site-packages (from weasel<0.4.0,>=0.1.0->spacy<3.8.0,>=3.7.2->en-core-web-md==3.7.1) (0.16.0)\n",
      "Requirement already satisfied: MarkupSafe>=2.0 in c:\\users\\rishit\\.conda\\envs\\myenv\\lib\\site-packages (from jinja2->spacy<3.8.0,>=3.7.2->en-core-web-md==3.7.1) (2.1.1)\n",
      "Installing collected packages: en-core-web-md\n",
      "Successfully installed en-core-web-md-3.7.1\n",
      "\u001b[38;5;2m[+] Download and installation successful\u001b[0m\n",
      "You can now load the package via spacy.load('en_core_web_md')\n"
     ]
    }
   ],
   "source": [
    "!python -m spacy download en_core_web_md"
   ]
  },
  {
   "cell_type": "code",
   "execution_count": 15,
   "id": "b6223dc0",
   "metadata": {},
   "outputs": [],
   "source": [
    "nlp = spacy.load(\"en_core_web_md\")\n",
    "doc = nlp(\"My name is Rishit and I was born on 10th November 2002. \\\n",
    "I work at Google from Hyderabad. I just brought a guitar \\\n",
    "cost $1000 on amazon and I will get is services here for 20 Euro a year.\")"
   ]
  },
  {
   "cell_type": "code",
   "execution_count": 18,
   "id": "a46ffbe7",
   "metadata": {},
   "outputs": [
    {
     "data": {
      "text/html": [
       "<span class=\"tex2jax_ignore\"><div class=\"entities\" style=\"line-height: 2.5; direction: ltr\">My name is \n",
       "<mark class=\"entity\" style=\"background: #aa9cfc; padding: 0.45em 0.6em; margin: 0 0.25em; line-height: 1; border-radius: 0.35em;\">\n",
       "    Rishit\n",
       "    <span style=\"font-size: 0.8em; font-weight: bold; line-height: 1; border-radius: 0.35em; vertical-align: middle; margin-left: 0.5rem\">PERSON</span>\n",
       "</mark>\n",
       " and I was born on \n",
       "<mark class=\"entity\" style=\"background: #bfe1d9; padding: 0.45em 0.6em; margin: 0 0.25em; line-height: 1; border-radius: 0.35em;\">\n",
       "    10th November 2002\n",
       "    <span style=\"font-size: 0.8em; font-weight: bold; line-height: 1; border-radius: 0.35em; vertical-align: middle; margin-left: 0.5rem\">DATE</span>\n",
       "</mark>\n",
       ". I work at \n",
       "<mark class=\"entity\" style=\"background: #7aecec; padding: 0.45em 0.6em; margin: 0 0.25em; line-height: 1; border-radius: 0.35em;\">\n",
       "    Google\n",
       "    <span style=\"font-size: 0.8em; font-weight: bold; line-height: 1; border-radius: 0.35em; vertical-align: middle; margin-left: 0.5rem\">ORG</span>\n",
       "</mark>\n",
       " from \n",
       "<mark class=\"entity\" style=\"background: #feca74; padding: 0.45em 0.6em; margin: 0 0.25em; line-height: 1; border-radius: 0.35em;\">\n",
       "    Hyderabad\n",
       "    <span style=\"font-size: 0.8em; font-weight: bold; line-height: 1; border-radius: 0.35em; vertical-align: middle; margin-left: 0.5rem\">GPE</span>\n",
       "</mark>\n",
       ". I just brought a guitar cost $\n",
       "<mark class=\"entity\" style=\"background: #e4e7d2; padding: 0.45em 0.6em; margin: 0 0.25em; line-height: 1; border-radius: 0.35em;\">\n",
       "    1000\n",
       "    <span style=\"font-size: 0.8em; font-weight: bold; line-height: 1; border-radius: 0.35em; vertical-align: middle; margin-left: 0.5rem\">MONEY</span>\n",
       "</mark>\n",
       " on \n",
       "<mark class=\"entity\" style=\"background: #7aecec; padding: 0.45em 0.6em; margin: 0 0.25em; line-height: 1; border-radius: 0.35em;\">\n",
       "    amazon\n",
       "    <span style=\"font-size: 0.8em; font-weight: bold; line-height: 1; border-radius: 0.35em; vertical-align: middle; margin-left: 0.5rem\">ORG</span>\n",
       "</mark>\n",
       " and I will get is services here for \n",
       "<mark class=\"entity\" style=\"background: #bfe1d9; padding: 0.45em 0.6em; margin: 0 0.25em; line-height: 1; border-radius: 0.35em;\">\n",
       "    20 Euro\n",
       "    <span style=\"font-size: 0.8em; font-weight: bold; line-height: 1; border-radius: 0.35em; vertical-align: middle; margin-left: 0.5rem\">DATE</span>\n",
       "</mark>\n",
       " a year.</div></span>"
      ],
      "text/plain": [
       "<IPython.core.display.HTML object>"
      ]
     },
     "metadata": {},
     "output_type": "display_data"
    }
   ],
   "source": [
    "displacy.render(doc, style = 'ent')"
   ]
  },
  {
   "cell_type": "code",
   "execution_count": 19,
   "id": "a12bf85b",
   "metadata": {},
   "outputs": [
    {
     "data": {
      "text/plain": [
       "[(Rishit, spacy.tokens.span.Span),\n",
       " (10th November 2002, spacy.tokens.span.Span),\n",
       " (Google, spacy.tokens.span.Span),\n",
       " (Hyderabad, spacy.tokens.span.Span),\n",
       " (1000, spacy.tokens.span.Span),\n",
       " (amazon, spacy.tokens.span.Span),\n",
       " (20 Euro, spacy.tokens.span.Span)]"
      ]
     },
     "execution_count": 19,
     "metadata": {},
     "output_type": "execute_result"
    }
   ],
   "source": [
    "[(e, type(e)) for e in doc.ents]"
   ]
  },
  {
   "cell_type": "code",
   "execution_count": 20,
   "id": "fc103462",
   "metadata": {},
   "outputs": [
    {
     "data": {
      "text/plain": [
       "[('tok2vec', <spacy.pipeline.tok2vec.Tok2Vec at 0x208508fb470>),\n",
       " ('tagger', <spacy.pipeline.tagger.Tagger at 0x208508fae70>),\n",
       " ('parser', <spacy.pipeline.dep_parser.DependencyParser at 0x2085a6ba5e0>),\n",
       " ('attribute_ruler',\n",
       "  <spacy.pipeline.attributeruler.AttributeRuler at 0x20850f821d0>),\n",
       " ('lemmatizer', <spacy.lang.en.lemmatizer.EnglishLemmatizer at 0x20850f7d850>),\n",
       " ('ner', <spacy.pipeline.ner.EntityRecognizer at 0x2085a6ba420>)]"
      ]
     },
     "execution_count": 20,
     "metadata": {},
     "output_type": "execute_result"
    }
   ],
   "source": [
    "nlp.pipeline"
   ]
  },
  {
   "cell_type": "code",
   "execution_count": 21,
   "id": "04724a0e",
   "metadata": {},
   "outputs": [
    {
     "name": "stdout",
     "output_type": "stream",
     "text": [
      "python\n",
      "golang\n"
     ]
    }
   ],
   "source": [
    "doc = nlp(\"I do code with  datastuff using python and golang .\")\n",
    "\n",
    "for idx, start, end in matcher(doc):\n",
    "    print(doc[start: end])"
   ]
  },
  {
   "cell_type": "code",
   "execution_count": 22,
   "id": "ac76f888",
   "metadata": {},
   "outputs": [
    {
     "data": {
      "text/plain": [
       "('I like python, javascript and golang',\n",
       " {'entities': [(7, 13, 'PROLANG'), (15, 25, 'PROLANG'), (30, 36, 'PROLANG')]})"
      ]
     },
     "execution_count": 22,
     "metadata": {},
     "output_type": "execute_result"
    }
   ],
   "source": [
    "def parse_train_data(text):\n",
    "    doc = nlp(text)\n",
    "    detections = [(doc[start:end].start_char, doc[start:end].end_char, \"PROLANG\") for idx, start, end in matcher(doc)]\n",
    "    return (doc.text, {'entities': detections})\n",
    "\n",
    "parse_train_data(\"I like python, javascript and golang\")"
   ]
  },
  {
   "cell_type": "code",
   "execution_count": 23,
   "id": "554c9a76",
   "metadata": {},
   "outputs": [],
   "source": [
    "titles = (_ for _ in df['Title'][:10000])\n",
    "\n",
    "TRAIN_DATA = [parse_train_data(d) for d in nlp.pipe(titles) if len(matcher(d)) == 1]\n"
   ]
  },
  {
   "cell_type": "code",
   "execution_count": 24,
   "id": "61d02bd9",
   "metadata": {},
   "outputs": [
    {
     "data": {
      "text/plain": [
       "[('How to set up unit testing for Visual Studio C++',\n",
       "  {'entities': [(45, 48, 'PROLANG')]}),\n",
       " ('How do you pack a visual studio c++ project for release?',\n",
       "  {'entities': [(32, 35, 'PROLANG')]}),\n",
       " ('How do you get leading wildcard full-text searches to work in SQL Server?',\n",
       "  {'entities': [(62, 65, 'PROLANG')]}),\n",
       " ('How do I Transform Sql Columns into Rows?',\n",
       "  {'entities': [(19, 22, 'PROLANG')]}),\n",
       " ('How do I run Rake tasks within a Ruby script?',\n",
       "  {'entities': [(33, 37, 'PROLANG')]}),\n",
       " ('What code analysis tools do you use for your Java projects?',\n",
       "  {'entities': [(45, 49, 'PROLANG')]}),\n",
       " ('What program can I use to generate diagrams of SQL view/table structure?',\n",
       "  {'entities': [(47, 50, 'PROLANG')]}),\n",
       " ('How to easily consume a web service from PHP',\n",
       "  {'entities': [(41, 44, 'PROLANG')]}),\n",
       " ('How can I create Prototype Methods (like JavaScript) in C#.Net?',\n",
       "  {'entities': [(41, 51, 'PROLANG')]}),\n",
       " ('How can I Java webstart multiple, dependent, native libraries?',\n",
       "  {'entities': [(10, 14, 'PROLANG')]})]"
      ]
     },
     "execution_count": 24,
     "metadata": {},
     "output_type": "execute_result"
    }
   ],
   "source": [
    "TRAIN_DATA[5:15]"
   ]
  },
  {
   "cell_type": "markdown",
   "id": "052f4b7e",
   "metadata": {},
   "source": [
    "## Training loop"
   ]
  },
  {
   "cell_type": "code",
   "execution_count": 25,
   "id": "cc70da5f",
   "metadata": {},
   "outputs": [],
   "source": [
    "def create_blank_nlp(train_data):\n",
    "    nlp = spacy.blank(\"en\")\n",
    "    nlp.add_pipe(\"ner\", last = True)\n",
    "    ner = nlp.get_pipe(\"ner\")\n",
    "    for _, annotations in train_data:\n",
    "        for ent in annotations.get(\"entities\"):\n",
    "            ner.add_label(ent[2])\n",
    "    return nlp"
   ]
  },
  {
   "cell_type": "code",
   "execution_count": 26,
   "id": "d050486f",
   "metadata": {},
   "outputs": [
    {
     "name": "stdout",
     "output_type": "stream",
     "text": [
      "Losses at iteration 0-  {'ner': 225.44078492667134}\n",
      "Losses at iteration 1-  {'ner': 26.90905310859491}\n",
      "Losses at iteration 2-  {'ner': 45.061665136676815}\n",
      "Losses at iteration 3-  {'ner': 13.228478982850836}\n",
      "Losses at iteration 4-  {'ner': 16.677624235369365}\n",
      "Losses at iteration 5-  {'ner': 13.19473227026368}\n",
      "Losses at iteration 6-  {'ner': 20.888658578322666}\n",
      "Losses at iteration 7-  {'ner': 3.8586864287940363}\n",
      "Losses at iteration 8-  {'ner': 14.589132309745972}\n",
      "Losses at iteration 9-  {'ner': 5.250699636797989e-09}\n",
      "Losses at iteration 10-  {'ner': 3.633097586178621e-08}\n",
      "Losses at iteration 11-  {'ner': 6.80208205813465e-09}\n",
      "Losses at iteration 12-  {'ner': 2.924298892714287e-11}\n",
      "Losses at iteration 13-  {'ner': 5.5463293470254855e-12}\n",
      "Losses at iteration 14-  {'ner': 8.552667547657781e-09}\n",
      "Losses at iteration 15-  {'ner': 1.0505773952379361e-13}\n",
      "Losses at iteration 16-  {'ner': 2.1166919606623644e-13}\n",
      "Losses at iteration 17-  {'ner': 7.189936574291887e-14}\n",
      "Losses at iteration 18-  {'ner': 1.7002454690198236e-14}\n",
      "Losses at iteration 19-  {'ner': 3.8778913164767115e-15}\n"
     ]
    }
   ],
   "source": [
    "import random\n",
    "import datetime as dt\n",
    "from spacy.training import Example\n",
    "\n",
    "nlp = create_blank_nlp(TRAIN_DATA)\n",
    "optimizer = nlp.initialize()\n",
    "for i in range(20):\n",
    "    random.shuffle(TRAIN_DATA)\n",
    "    losses = {}\n",
    "    for text, annotations in TRAIN_DATA:\n",
    "        example = Example.from_dict(nlp.make_doc(text), annotations)\n",
    "        nlp.update([example], sgd = optimizer, losses = losses)\n",
    "    print(f\"Losses at iteration {i}- \", losses)"
   ]
  },
  {
   "cell_type": "markdown",
   "id": "d29cda9d",
   "metadata": {},
   "source": [
    "## Improvements"
   ]
  },
  {
   "cell_type": "code",
   "execution_count": 27,
   "id": "6d709c83",
   "metadata": {},
   "outputs": [],
   "source": [
    "from spacy.util import minibatch, compounding"
   ]
  },
  {
   "cell_type": "code",
   "execution_count": 28,
   "id": "9e075f4d",
   "metadata": {},
   "outputs": [
    {
     "name": "stdout",
     "output_type": "stream",
     "text": [
      "Losses at iteration 0-  {'ner': 1111.5845977585554}\n",
      "Losses at iteration 1-  {'ner': 97.80233677816638}\n",
      "Losses at iteration 2-  {'ner': 58.44492731422252}\n",
      "Losses at iteration 3-  {'ner': 40.42738138973332}\n",
      "Losses at iteration 4-  {'ner': 19.45584807188985}\n",
      "Losses at iteration 5-  {'ner': 22.611650307013107}\n",
      "Losses at iteration 6-  {'ner': 17.237374274159958}\n",
      "Losses at iteration 7-  {'ner': 15.693540128247996}\n",
      "Losses at iteration 8-  {'ner': 14.820190926588745}\n",
      "Losses at iteration 9-  {'ner': 11.505718989318787}\n",
      "Losses at iteration 10-  {'ner': 13.805778245967415}\n",
      "Losses at iteration 11-  {'ner': 7.2373613230684555}\n",
      "Losses at iteration 12-  {'ner': 2.3013719148178358}\n",
      "Losses at iteration 13-  {'ner': 12.920565128393418}\n",
      "Losses at iteration 14-  {'ner': 23.70559080849362}\n",
      "Losses at iteration 15-  {'ner': 16.806681036538933}\n",
      "Losses at iteration 16-  {'ner': 0.003785490573719111}\n",
      "Losses at iteration 17-  {'ner': 7.409474430642477}\n",
      "Losses at iteration 18-  {'ner': 10.318084794713641}\n",
      "Losses at iteration 19-  {'ner': 17.27184813056127}\n"
     ]
    }
   ],
   "source": [
    "nlp = create_blank_nlp(TRAIN_DATA)\n",
    "optimizer = nlp.initialize()\n",
    "\n",
    "for i in range(20):\n",
    "    losses = {}\n",
    "    batches = minibatchtch(TRAIN_DATA, size = compounding(4.0, 32.0, 1.001))\n",
    "    for batch in batches:\n",
    "        texts, annotations = zip(*batch)\n",
    "        examples = [Example.from_dict(nlp.make_doc(text), annotation) for text, annotation in zip(texts, annotations)]\n",
    "        nlp.update(examples, drop=0.5, losses=losses)\n",
    "    print(f\"Losses at iteration {i}- \", losses)"
   ]
  },
  {
   "cell_type": "code",
   "execution_count": 29,
   "id": "5e086ebc",
   "metadata": {},
   "outputs": [
    {
     "data": {
      "text/plain": [
       "[('ner', <spacy.pipeline.ner.EntityRecognizer at 0x2086cc93e60>)]"
      ]
     },
     "execution_count": 29,
     "metadata": {},
     "output_type": "execute_result"
    }
   ],
   "source": [
    "nlp.pipeline"
   ]
  },
  {
   "cell_type": "code",
   "execution_count": 31,
   "id": "ccfbb379",
   "metadata": {},
   "outputs": [
    {
     "data": {
      "text/html": [
       "<span class=\"tex2jax_ignore\"><div class=\"entities\" style=\"line-height: 2.5; direction: ltr\">I write code in \n",
       "<mark class=\"entity\" style=\"background: #ddd; padding: 0.45em 0.6em; margin: 0 0.25em; line-height: 1; border-radius: 0.35em;\">\n",
       "    python\n",
       "    <span style=\"font-size: 0.8em; font-weight: bold; line-height: 1; border-radius: 0.35em; vertical-align: middle; margin-left: 0.5rem\">PROLANG</span>\n",
       "</mark>\n",
       " and go</div></span>"
      ],
      "text/plain": [
       "<IPython.core.display.HTML object>"
      ]
     },
     "metadata": {},
     "output_type": "display_data"
    }
   ],
   "source": [
    "doc = nlp(\"I write code in python and go\")\n",
    "displacy.render(doc, style = \"ent\")"
   ]
  },
  {
   "cell_type": "markdown",
   "id": "ad427c2f",
   "metadata": {},
   "source": [
    "## Entity Ruler"
   ]
  },
  {
   "cell_type": "code",
   "execution_count": 33,
   "id": "18f6f49c",
   "metadata": {},
   "outputs": [],
   "source": [
    "from spacy.lang.en import English\n",
    "from spacy.pipeline import EntityRuler"
   ]
  },
  {
   "cell_type": "code",
   "execution_count": 50,
   "id": "f984e5a2",
   "metadata": {},
   "outputs": [
    {
     "name": "stdout",
     "output_type": "stream",
     "text": [
      "[('Golang', 'PROLANG')]\n"
     ]
    }
   ],
   "source": [
    "def create_patterns():\n",
    "    versioned_languages = ['ruby', 'php', 'python', 'perl', 'java', 'haskell', \n",
    "                           'scala', 'c', 'cpp', 'matlab', 'bash', 'delphi']\n",
    "    flatten = lambda l: [item for sublist in l for item in sublist]\n",
    "    versioned_patterns = flatten([create_versioned(lang) for lang in versioned_languages])\n",
    "\n",
    "    lang_patterns = [\n",
    "        [{'LOWER': 'objective'}, {'IS_PUNCT': True, 'OP': '?'},{'LOWER': 'c'}],\n",
    "        [{'LOWER': 'objectivec'}],\n",
    "        [{'LOWER': 'c'}, {'LOWER': '#'}],\n",
    "        [{'LOWER': 'c'}, {'LOWER': 'sharp'}],\n",
    "        [{'LOWER': 'c#'}],\n",
    "        [{'LOWER': 'f'}, {'LOWER': '#'}],\n",
    "        [{'LOWER': 'f'}, {'LOWER': 'sharp'}],\n",
    "        [{'LOWER': 'f#'}],\n",
    "        [{'LOWER': 'lisp'}],\n",
    "        [{'LOWER': 'common'}, {'LOWER': 'lisp'}],\n",
    "        [{'LOWER': 'go', 'POS': {'NOT_IN': ['VERB']}}],\n",
    "        [{'LOWER': 'golang'}],\n",
    "        [{'LOWER': 'html'}],\n",
    "        [{'LOWER': 'css'}],\n",
    "        [{'LOWER': 'sql'}],\n",
    "        [{'LOWER': {'IN': ['js', 'javascript']}}],\n",
    "        [{'LOWER': 'c++'}],\n",
    "    ]\n",
    "\n",
    "    return versioned_patterns + lang_patterns    \n",
    "\n",
    "nlp = English()\n",
    "ruler = EntityRuler(nlp)\n",
    "nlp.add_pipe('entity_ruler').add_patterns([{'label': 'PROLANG', 'pattern': p} for p in create_patterns()])\n",
    "\n",
    "doc = nlp(\"Golang is opening its first big office in San Francisco.\")\n",
    "print([(ent.text, ent.label_) for ent in doc.ents])"
   ]
  },
  {
   "cell_type": "code",
   "execution_count": 44,
   "id": "ab0d235e",
   "metadata": {},
   "outputs": [
    {
     "data": {
      "text/plain": [
       "()"
      ]
     },
     "execution_count": 44,
     "metadata": {},
     "output_type": "execute_result"
    }
   ],
   "source": []
  },
  {
   "cell_type": "code",
   "execution_count": null,
   "id": "79944943",
   "metadata": {},
   "outputs": [],
   "source": []
  }
 ],
 "metadata": {
  "kernelspec": {
   "display_name": "Python 3 (ipykernel)",
   "language": "python",
   "name": "python3"
  },
  "language_info": {
   "codemirror_mode": {
    "name": "ipython",
    "version": 3
   },
   "file_extension": ".py",
   "mimetype": "text/x-python",
   "name": "python",
   "nbconvert_exporter": "python",
   "pygments_lexer": "ipython3",
   "version": "3.11.3"
  }
 },
 "nbformat": 4,
 "nbformat_minor": 5
}
