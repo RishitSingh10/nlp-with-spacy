{
 "cells": [
  {
   "cell_type": "markdown",
   "id": "aafd40ff",
   "metadata": {},
   "source": [
    "# 01"
   ]
  },
  {
   "cell_type": "code",
   "execution_count": 1,
   "id": "16b99e9a",
   "metadata": {},
   "outputs": [],
   "source": [
    "import pandas as pd\n",
    "\n",
    "df = (pd.read_csv(\"Questions.csv\", nrows = 1_000_000,\n",
    "                 encoding = \"ISO-8859-1\", usecols = ['Title', 'Id']))\n",
    "titles = [_  for _ in df['Title'] ]"
   ]
  },
  {
   "cell_type": "code",
   "execution_count": 2,
   "id": "e0a11a98",
   "metadata": {},
   "outputs": [
    {
     "data": {
      "text/plain": [
       "['Where does Console.WriteLine go in ASP.NET?',\n",
       " 'Should try...catch go inside or outside a loop?']"
      ]
     },
     "execution_count": 2,
     "metadata": {},
     "output_type": "execute_result"
    }
   ],
   "source": [
    "def has_golang(text):\n",
    "    return \" go \" in text\n",
    "\n",
    "g = (title for title in titles if has_golang(title))\n",
    "[next(g) for i in range(2)]"
   ]
  },
  {
   "cell_type": "code",
   "execution_count": 3,
   "id": "867feb02",
   "metadata": {},
   "outputs": [
    {
     "name": "stdout",
     "output_type": "stream",
     "text": [
      "Collecting en-core-web-sm==3.7.1\n",
      "  Downloading https://github.com/explosion/spacy-models/releases/download/en_core_web_sm-3.7.1/en_core_web_sm-3.7.1-py3-none-any.whl (12.8 MB)\n",
      "     ---------------------------------------- 0.0/12.8 MB ? eta -:--:--\n",
      "     --------------------------------------- 0.0/12.8 MB 660.6 kB/s eta 0:00:20\n",
      "     ---------------------------------------- 0.1/12.8 MB 1.3 MB/s eta 0:00:10\n",
      "     - -------------------------------------- 0.5/12.8 MB 3.3 MB/s eta 0:00:04\n",
      "     ---- ----------------------------------- 1.4/12.8 MB 7.4 MB/s eta 0:00:02\n",
      "     ----------- ---------------------------- 3.8/12.8 MB 16.1 MB/s eta 0:00:01\n",
      "     ----------------------- ---------------- 7.6/12.8 MB 27.2 MB/s eta 0:00:01\n",
      "     --------------------------------------  12.8/12.8 MB 81.8 MB/s eta 0:00:01\n",
      "     --------------------------------------  12.8/12.8 MB 81.8 MB/s eta 0:00:01\n",
      "     --------------------------------------- 12.8/12.8 MB 59.4 MB/s eta 0:00:00\n",
      "Requirement already satisfied: spacy<3.8.0,>=3.7.2 in c:\\users\\rishit\\.conda\\envs\\myenv\\lib\\site-packages (from en-core-web-sm==3.7.1) (3.7.4)\n",
      "Requirement already satisfied: spacy-legacy<3.1.0,>=3.0.11 in c:\\users\\rishit\\.conda\\envs\\myenv\\lib\\site-packages (from spacy<3.8.0,>=3.7.2->en-core-web-sm==3.7.1) (3.0.12)\n",
      "Requirement already satisfied: spacy-loggers<2.0.0,>=1.0.0 in c:\\users\\rishit\\.conda\\envs\\myenv\\lib\\site-packages (from spacy<3.8.0,>=3.7.2->en-core-web-sm==3.7.1) (1.0.5)\n",
      "Requirement already satisfied: murmurhash<1.1.0,>=0.28.0 in c:\\users\\rishit\\.conda\\envs\\myenv\\lib\\site-packages (from spacy<3.8.0,>=3.7.2->en-core-web-sm==3.7.1) (1.0.10)\n",
      "Requirement already satisfied: cymem<2.1.0,>=2.0.2 in c:\\users\\rishit\\.conda\\envs\\myenv\\lib\\site-packages (from spacy<3.8.0,>=3.7.2->en-core-web-sm==3.7.1) (2.0.8)\n",
      "Requirement already satisfied: preshed<3.1.0,>=3.0.2 in c:\\users\\rishit\\.conda\\envs\\myenv\\lib\\site-packages (from spacy<3.8.0,>=3.7.2->en-core-web-sm==3.7.1) (3.0.9)\n",
      "Requirement already satisfied: thinc<8.3.0,>=8.2.2 in c:\\users\\rishit\\.conda\\envs\\myenv\\lib\\site-packages (from spacy<3.8.0,>=3.7.2->en-core-web-sm==3.7.1) (8.2.3)\n",
      "Requirement already satisfied: wasabi<1.2.0,>=0.9.1 in c:\\users\\rishit\\.conda\\envs\\myenv\\lib\\site-packages (from spacy<3.8.0,>=3.7.2->en-core-web-sm==3.7.1) (1.1.2)\n",
      "Requirement already satisfied: srsly<3.0.0,>=2.4.3 in c:\\users\\rishit\\.conda\\envs\\myenv\\lib\\site-packages (from spacy<3.8.0,>=3.7.2->en-core-web-sm==3.7.1) (2.4.8)\n",
      "Requirement already satisfied: catalogue<2.1.0,>=2.0.6 in c:\\users\\rishit\\.conda\\envs\\myenv\\lib\\site-packages (from spacy<3.8.0,>=3.7.2->en-core-web-sm==3.7.1) (2.0.10)\n",
      "Requirement already satisfied: weasel<0.4.0,>=0.1.0 in c:\\users\\rishit\\.conda\\envs\\myenv\\lib\\site-packages (from spacy<3.8.0,>=3.7.2->en-core-web-sm==3.7.1) (0.3.4)\n",
      "Requirement already satisfied: typer<0.10.0,>=0.3.0 in c:\\users\\rishit\\.conda\\envs\\myenv\\lib\\site-packages (from spacy<3.8.0,>=3.7.2->en-core-web-sm==3.7.1) (0.9.0)\n",
      "Requirement already satisfied: smart-open<7.0.0,>=5.2.1 in c:\\users\\rishit\\.conda\\envs\\myenv\\lib\\site-packages (from spacy<3.8.0,>=3.7.2->en-core-web-sm==3.7.1) (6.4.0)\n",
      "Requirement already satisfied: tqdm<5.0.0,>=4.38.0 in c:\\users\\rishit\\.conda\\envs\\myenv\\lib\\site-packages (from spacy<3.8.0,>=3.7.2->en-core-web-sm==3.7.1) (4.65.0)\n",
      "Requirement already satisfied: requests<3.0.0,>=2.13.0 in c:\\users\\rishit\\.conda\\envs\\myenv\\lib\\site-packages (from spacy<3.8.0,>=3.7.2->en-core-web-sm==3.7.1) (2.31.0)\n",
      "Requirement already satisfied: pydantic!=1.8,!=1.8.1,<3.0.0,>=1.7.4 in c:\\users\\rishit\\.conda\\envs\\myenv\\lib\\site-packages (from spacy<3.8.0,>=3.7.2->en-core-web-sm==3.7.1) (2.6.2)\n",
      "Requirement already satisfied: jinja2 in c:\\users\\rishit\\.conda\\envs\\myenv\\lib\\site-packages (from spacy<3.8.0,>=3.7.2->en-core-web-sm==3.7.1) (3.1.2)\n",
      "Requirement already satisfied: setuptools in c:\\users\\rishit\\.conda\\envs\\myenv\\lib\\site-packages (from spacy<3.8.0,>=3.7.2->en-core-web-sm==3.7.1) (68.0.0)\n",
      "Requirement already satisfied: packaging>=20.0 in c:\\users\\rishit\\.conda\\envs\\myenv\\lib\\site-packages (from spacy<3.8.0,>=3.7.2->en-core-web-sm==3.7.1) (23.1)\n",
      "Requirement already satisfied: langcodes<4.0.0,>=3.2.0 in c:\\users\\rishit\\.conda\\envs\\myenv\\lib\\site-packages (from spacy<3.8.0,>=3.7.2->en-core-web-sm==3.7.1) (3.3.0)\n",
      "Requirement already satisfied: numpy>=1.19.0 in c:\\users\\rishit\\.conda\\envs\\myenv\\lib\\site-packages (from spacy<3.8.0,>=3.7.2->en-core-web-sm==3.7.1) (1.24.3)\n",
      "Requirement already satisfied: annotated-types>=0.4.0 in c:\\users\\rishit\\.conda\\envs\\myenv\\lib\\site-packages (from pydantic!=1.8,!=1.8.1,<3.0.0,>=1.7.4->spacy<3.8.0,>=3.7.2->en-core-web-sm==3.7.1) (0.6.0)\n",
      "Requirement already satisfied: pydantic-core==2.16.3 in c:\\users\\rishit\\.conda\\envs\\myenv\\lib\\site-packages (from pydantic!=1.8,!=1.8.1,<3.0.0,>=1.7.4->spacy<3.8.0,>=3.7.2->en-core-web-sm==3.7.1) (2.16.3)\n",
      "Requirement already satisfied: typing-extensions>=4.6.1 in c:\\users\\rishit\\.conda\\envs\\myenv\\lib\\site-packages (from pydantic!=1.8,!=1.8.1,<3.0.0,>=1.7.4->spacy<3.8.0,>=3.7.2->en-core-web-sm==3.7.1) (4.9.0)\n",
      "Requirement already satisfied: charset-normalizer<4,>=2 in c:\\users\\rishit\\.conda\\envs\\myenv\\lib\\site-packages (from requests<3.0.0,>=2.13.0->spacy<3.8.0,>=3.7.2->en-core-web-sm==3.7.1) (2.0.4)\n",
      "Requirement already satisfied: idna<4,>=2.5 in c:\\users\\rishit\\.conda\\envs\\myenv\\lib\\site-packages (from requests<3.0.0,>=2.13.0->spacy<3.8.0,>=3.7.2->en-core-web-sm==3.7.1) (3.4)\n",
      "Requirement already satisfied: urllib3<3,>=1.21.1 in c:\\users\\rishit\\.conda\\envs\\myenv\\lib\\site-packages (from requests<3.0.0,>=2.13.0->spacy<3.8.0,>=3.7.2->en-core-web-sm==3.7.1) (1.26.16)\n",
      "Requirement already satisfied: certifi>=2017.4.17 in c:\\users\\rishit\\.conda\\envs\\myenv\\lib\\site-packages (from requests<3.0.0,>=2.13.0->spacy<3.8.0,>=3.7.2->en-core-web-sm==3.7.1) (2023.11.17)\n",
      "Requirement already satisfied: blis<0.8.0,>=0.7.8 in c:\\users\\rishit\\.conda\\envs\\myenv\\lib\\site-packages (from thinc<8.3.0,>=8.2.2->spacy<3.8.0,>=3.7.2->en-core-web-sm==3.7.1) (0.7.11)\n",
      "Requirement already satisfied: confection<1.0.0,>=0.0.1 in c:\\users\\rishit\\.conda\\envs\\myenv\\lib\\site-packages (from thinc<8.3.0,>=8.2.2->spacy<3.8.0,>=3.7.2->en-core-web-sm==3.7.1) (0.1.4)\n",
      "Requirement already satisfied: colorama in c:\\users\\rishit\\.conda\\envs\\myenv\\lib\\site-packages (from tqdm<5.0.0,>=4.38.0->spacy<3.8.0,>=3.7.2->en-core-web-sm==3.7.1) (0.4.6)\n",
      "Requirement already satisfied: click<9.0.0,>=7.1.1 in c:\\users\\rishit\\.conda\\envs\\myenv\\lib\\site-packages (from typer<0.10.0,>=0.3.0->spacy<3.8.0,>=3.7.2->en-core-web-sm==3.7.1) (8.1.7)\n",
      "Requirement already satisfied: cloudpathlib<0.17.0,>=0.7.0 in c:\\users\\rishit\\.conda\\envs\\myenv\\lib\\site-packages (from weasel<0.4.0,>=0.1.0->spacy<3.8.0,>=3.7.2->en-core-web-sm==3.7.1) (0.16.0)\n",
      "Requirement already satisfied: MarkupSafe>=2.0 in c:\\users\\rishit\\.conda\\envs\\myenv\\lib\\site-packages (from jinja2->spacy<3.8.0,>=3.7.2->en-core-web-sm==3.7.1) (2.1.1)\n",
      "\u001b[38;5;2m[+] Download and installation successful\u001b[0m\n",
      "You can now load the package via spacy.load('en_core_web_sm')\n"
     ]
    }
   ],
   "source": [
    "!python -m spacy download en_core_web_sm"
   ]
  },
  {
   "cell_type": "code",
   "execution_count": 4,
   "id": "be3abf3e",
   "metadata": {},
   "outputs": [],
   "source": [
    "import spacy\n",
    "\n",
    "nlp = spacy.load(\"en_core_web_sm\")"
   ]
  },
  {
   "cell_type": "code",
   "execution_count": 5,
   "id": "6177ed33",
   "metadata": {},
   "outputs": [
    {
     "data": {
      "text/plain": [
       "[My, name, is, Rishit, .]"
      ]
     },
     "execution_count": 5,
     "metadata": {},
     "output_type": "execute_result"
    }
   ],
   "source": [
    "[t for t in nlp(\"My name is Rishit.\")]"
   ]
  },
  {
   "cell_type": "code",
   "execution_count": 6,
   "id": "2f35dffa",
   "metadata": {},
   "outputs": [
    {
     "data": {
      "text/plain": [
       "spacy.tokens.token.Token"
      ]
     },
     "execution_count": 6,
     "metadata": {},
     "output_type": "execute_result"
    }
   ],
   "source": [
    "doc = nlp(\"My name is Rishit.\")\n",
    "t = doc[0]\n",
    "type(t)"
   ]
  },
  {
   "cell_type": "code",
   "execution_count": 7,
   "id": "636078a9",
   "metadata": {},
   "outputs": [
    {
     "data": {
      "text/html": [
       "<span class=\"tex2jax_ignore\"><svg xmlns=\"http://www.w3.org/2000/svg\" xmlns:xlink=\"http://www.w3.org/1999/xlink\" xml:lang=\"en\" id=\"77e3e59e2dbd4c8585c3f7a472cfc889-0\" class=\"displacy\" width=\"750\" height=\"224.5\" direction=\"ltr\" style=\"max-width: none; height: 224.5px; color: #000000; background: #ffffff; font-family: Arial; direction: ltr\">\n",
       "<text class=\"displacy-token\" fill=\"currentColor\" text-anchor=\"middle\" y=\"134.5\">\n",
       "    <tspan class=\"displacy-word\" fill=\"currentColor\" x=\"50\">My</tspan>\n",
       "    <tspan class=\"displacy-tag\" dy=\"2em\" fill=\"currentColor\" x=\"50\">PRON</tspan>\n",
       "</text>\n",
       "\n",
       "<text class=\"displacy-token\" fill=\"currentColor\" text-anchor=\"middle\" y=\"134.5\">\n",
       "    <tspan class=\"displacy-word\" fill=\"currentColor\" x=\"225\">name</tspan>\n",
       "    <tspan class=\"displacy-tag\" dy=\"2em\" fill=\"currentColor\" x=\"225\">NOUN</tspan>\n",
       "</text>\n",
       "\n",
       "<text class=\"displacy-token\" fill=\"currentColor\" text-anchor=\"middle\" y=\"134.5\">\n",
       "    <tspan class=\"displacy-word\" fill=\"currentColor\" x=\"400\">is</tspan>\n",
       "    <tspan class=\"displacy-tag\" dy=\"2em\" fill=\"currentColor\" x=\"400\">AUX</tspan>\n",
       "</text>\n",
       "\n",
       "<text class=\"displacy-token\" fill=\"currentColor\" text-anchor=\"middle\" y=\"134.5\">\n",
       "    <tspan class=\"displacy-word\" fill=\"currentColor\" x=\"575\">Rishit.</tspan>\n",
       "    <tspan class=\"displacy-tag\" dy=\"2em\" fill=\"currentColor\" x=\"575\">PROPN</tspan>\n",
       "</text>\n",
       "\n",
       "<g class=\"displacy-arrow\">\n",
       "    <path class=\"displacy-arc\" id=\"arrow-77e3e59e2dbd4c8585c3f7a472cfc889-0-0\" stroke-width=\"2px\" d=\"M70,89.5 C70,2.0 225.0,2.0 225.0,89.5\" fill=\"none\" stroke=\"currentColor\"/>\n",
       "    <text dy=\"1.25em\" style=\"font-size: 0.8em; letter-spacing: 1px\">\n",
       "        <textPath xlink:href=\"#arrow-77e3e59e2dbd4c8585c3f7a472cfc889-0-0\" class=\"displacy-label\" startOffset=\"50%\" side=\"left\" fill=\"currentColor\" text-anchor=\"middle\">poss</textPath>\n",
       "    </text>\n",
       "    <path class=\"displacy-arrowhead\" d=\"M70,91.5 L62,79.5 78,79.5\" fill=\"currentColor\"/>\n",
       "</g>\n",
       "\n",
       "<g class=\"displacy-arrow\">\n",
       "    <path class=\"displacy-arc\" id=\"arrow-77e3e59e2dbd4c8585c3f7a472cfc889-0-1\" stroke-width=\"2px\" d=\"M245,89.5 C245,2.0 400.0,2.0 400.0,89.5\" fill=\"none\" stroke=\"currentColor\"/>\n",
       "    <text dy=\"1.25em\" style=\"font-size: 0.8em; letter-spacing: 1px\">\n",
       "        <textPath xlink:href=\"#arrow-77e3e59e2dbd4c8585c3f7a472cfc889-0-1\" class=\"displacy-label\" startOffset=\"50%\" side=\"left\" fill=\"currentColor\" text-anchor=\"middle\">nsubj</textPath>\n",
       "    </text>\n",
       "    <path class=\"displacy-arrowhead\" d=\"M245,91.5 L237,79.5 253,79.5\" fill=\"currentColor\"/>\n",
       "</g>\n",
       "\n",
       "<g class=\"displacy-arrow\">\n",
       "    <path class=\"displacy-arc\" id=\"arrow-77e3e59e2dbd4c8585c3f7a472cfc889-0-2\" stroke-width=\"2px\" d=\"M420,89.5 C420,2.0 575.0,2.0 575.0,89.5\" fill=\"none\" stroke=\"currentColor\"/>\n",
       "    <text dy=\"1.25em\" style=\"font-size: 0.8em; letter-spacing: 1px\">\n",
       "        <textPath xlink:href=\"#arrow-77e3e59e2dbd4c8585c3f7a472cfc889-0-2\" class=\"displacy-label\" startOffset=\"50%\" side=\"left\" fill=\"currentColor\" text-anchor=\"middle\">attr</textPath>\n",
       "    </text>\n",
       "    <path class=\"displacy-arrowhead\" d=\"M575.0,91.5 L583.0,79.5 567.0,79.5\" fill=\"currentColor\"/>\n",
       "</g>\n",
       "</svg></span>"
      ],
      "text/plain": [
       "<IPython.core.display.HTML object>"
      ]
     },
     "metadata": {},
     "output_type": "display_data"
    }
   ],
   "source": [
    "from spacy import displacy\n",
    "\n",
    "displacy.render(doc)"
   ]
  },
  {
   "cell_type": "code",
   "execution_count": 8,
   "id": "e9372602",
   "metadata": {},
   "outputs": [
    {
     "data": {
      "text/plain": [
       "'possession modifier'"
      ]
     },
     "execution_count": 8,
     "metadata": {},
     "output_type": "execute_result"
    }
   ],
   "source": [
    "spacy.explain(\"poss\")"
   ]
  },
  {
   "cell_type": "code",
   "execution_count": 9,
   "id": "8b37f8d5",
   "metadata": {},
   "outputs": [
    {
     "name": "stdout",
     "output_type": "stream",
     "text": [
      "Where SCONJ advmod\n",
      "does VERB ROOT\n",
      "Console PROPN nsubj\n",
      ". PUNCT punct\n",
      "WriteLine PROPN nsubj\n",
      "go VERB ROOT\n",
      "in ADP prep\n",
      "ASP.NET PROPN pobj\n",
      "? PUNCT punct\n"
     ]
    }
   ],
   "source": [
    "for t in nlp('Where does Console.WriteLine go in ASP.NET?'):\n",
    "    print(t, t.pos_, t.dep_)"
   ]
  },
  {
   "cell_type": "markdown",
   "id": "ca759e91",
   "metadata": {},
   "source": [
    "## Detecting Golang"
   ]
  },
  {
   "cell_type": "code",
   "execution_count": 10,
   "id": "d847a35f",
   "metadata": {},
   "outputs": [],
   "source": [
    "df = (pd.read_csv(\"Questions.csv\", nrows = 2_000_000,\n",
    "                 encoding = \"ISO-8859-1\", usecols = ['Title', 'Id']))\n",
    "\n",
    "titles = [_ for _ in df.loc[lambda d: d['Title'].str.lower().str.contains(\"go\")]['Title']]"
   ]
  },
  {
   "cell_type": "code",
   "execution_count": 11,
   "id": "08c21ecd",
   "metadata": {},
   "outputs": [],
   "source": [
    "nlp = spacy.load(\"en_core_web_sm\", disable = ['ner'])"
   ]
  },
  {
   "cell_type": "code",
   "execution_count": 12,
   "id": "c4702f9b",
   "metadata": {},
   "outputs": [
    {
     "name": "stdout",
     "output_type": "stream",
     "text": [
      "CPU times: total: 4.28 s\n",
      "Wall time: 4.39 s\n"
     ]
    },
    {
     "data": {
      "text/plain": [
       "[How do I disable multiple listboxes in one go using jQuery?,\n",
       " Embedding instead of inheritance in Go,\n",
       " Shared library in Go?,\n",
       " multi package makefile example for go,\n",
       " What's the point of having pointers in Go?,\n",
       " Simulate a tcp connection in Go,\n",
       " Trouble reading from a socket in go,\n",
       " Convert string to integer type in Go?,\n",
       " Implementing the âdeferâ statement from Go in Objective-C?,\n",
       " what's the state of go language IDE support?]"
      ]
     },
     "execution_count": 12,
     "metadata": {},
     "output_type": "execute_result"
    }
   ],
   "source": [
    "%%time\n",
    "\n",
    "def has_golang(doc):\n",
    "    for t in doc:\n",
    "        if t.lower_ in ['go', 'golang']:\n",
    "            if t.pos_ != 'VERB':\n",
    "                if t.dep_ == \"pobj\":\n",
    "                    return True\n",
    "    return False\n",
    "\n",
    "g = (doc for doc in nlp.pipe(titles) if has_golang(doc))\n",
    "[next(g) for i in range(10)]"
   ]
  },
  {
   "cell_type": "code",
   "execution_count": 13,
   "id": "b51cbb8a",
   "metadata": {},
   "outputs": [
    {
     "data": {
      "text/html": [
       "<span class=\"tex2jax_ignore\"><svg xmlns=\"http://www.w3.org/2000/svg\" xmlns:xlink=\"http://www.w3.org/1999/xlink\" xml:lang=\"en\" id=\"a14e4017b4234399b6c3d3ca2793a6e0-0\" class=\"displacy\" width=\"1275\" height=\"574.5\" direction=\"ltr\" style=\"max-width: none; height: 574.5px; color: #000000; background: #ffffff; font-family: Arial; direction: ltr\">\n",
       "<text class=\"displacy-token\" fill=\"currentColor\" text-anchor=\"middle\" y=\"484.5\">\n",
       "    <tspan class=\"displacy-word\" fill=\"currentColor\" x=\"50\">Removing</tspan>\n",
       "    <tspan class=\"displacy-tag\" dy=\"2em\" fill=\"currentColor\" x=\"50\">VERB</tspan>\n",
       "</text>\n",
       "\n",
       "<text class=\"displacy-token\" fill=\"currentColor\" text-anchor=\"middle\" y=\"484.5\">\n",
       "    <tspan class=\"displacy-word\" fill=\"currentColor\" x=\"225\">all</tspan>\n",
       "    <tspan class=\"displacy-tag\" dy=\"2em\" fill=\"currentColor\" x=\"225\">DET</tspan>\n",
       "</text>\n",
       "\n",
       "<text class=\"displacy-token\" fill=\"currentColor\" text-anchor=\"middle\" y=\"484.5\">\n",
       "    <tspan class=\"displacy-word\" fill=\"currentColor\" x=\"400\">event</tspan>\n",
       "    <tspan class=\"displacy-tag\" dy=\"2em\" fill=\"currentColor\" x=\"400\">NOUN</tspan>\n",
       "</text>\n",
       "\n",
       "<text class=\"displacy-token\" fill=\"currentColor\" text-anchor=\"middle\" y=\"484.5\">\n",
       "    <tspan class=\"displacy-word\" fill=\"currentColor\" x=\"575\">handlers</tspan>\n",
       "    <tspan class=\"displacy-tag\" dy=\"2em\" fill=\"currentColor\" x=\"575\">NOUN</tspan>\n",
       "</text>\n",
       "\n",
       "<text class=\"displacy-token\" fill=\"currentColor\" text-anchor=\"middle\" y=\"484.5\">\n",
       "    <tspan class=\"displacy-word\" fill=\"currentColor\" x=\"750\">in</tspan>\n",
       "    <tspan class=\"displacy-tag\" dy=\"2em\" fill=\"currentColor\" x=\"750\">ADP</tspan>\n",
       "</text>\n",
       "\n",
       "<text class=\"displacy-token\" fill=\"currentColor\" text-anchor=\"middle\" y=\"484.5\">\n",
       "    <tspan class=\"displacy-word\" fill=\"currentColor\" x=\"925\">one</tspan>\n",
       "    <tspan class=\"displacy-tag\" dy=\"2em\" fill=\"currentColor\" x=\"925\">NUM</tspan>\n",
       "</text>\n",
       "\n",
       "<text class=\"displacy-token\" fill=\"currentColor\" text-anchor=\"middle\" y=\"484.5\">\n",
       "    <tspan class=\"displacy-word\" fill=\"currentColor\" x=\"1100\">go</tspan>\n",
       "    <tspan class=\"displacy-tag\" dy=\"2em\" fill=\"currentColor\" x=\"1100\">NOUN</tspan>\n",
       "</text>\n",
       "\n",
       "<g class=\"displacy-arrow\">\n",
       "    <path class=\"displacy-arc\" id=\"arrow-a14e4017b4234399b6c3d3ca2793a6e0-0-0\" stroke-width=\"2px\" d=\"M70,439.5 C70,2.0 1100.0,2.0 1100.0,439.5\" fill=\"none\" stroke=\"currentColor\"/>\n",
       "    <text dy=\"1.25em\" style=\"font-size: 0.8em; letter-spacing: 1px\">\n",
       "        <textPath xlink:href=\"#arrow-a14e4017b4234399b6c3d3ca2793a6e0-0-0\" class=\"displacy-label\" startOffset=\"50%\" side=\"left\" fill=\"currentColor\" text-anchor=\"middle\">csubj</textPath>\n",
       "    </text>\n",
       "    <path class=\"displacy-arrowhead\" d=\"M70,441.5 L62,429.5 78,429.5\" fill=\"currentColor\"/>\n",
       "</g>\n",
       "\n",
       "<g class=\"displacy-arrow\">\n",
       "    <path class=\"displacy-arc\" id=\"arrow-a14e4017b4234399b6c3d3ca2793a6e0-0-1\" stroke-width=\"2px\" d=\"M245,439.5 C245,264.5 560.0,264.5 560.0,439.5\" fill=\"none\" stroke=\"currentColor\"/>\n",
       "    <text dy=\"1.25em\" style=\"font-size: 0.8em; letter-spacing: 1px\">\n",
       "        <textPath xlink:href=\"#arrow-a14e4017b4234399b6c3d3ca2793a6e0-0-1\" class=\"displacy-label\" startOffset=\"50%\" side=\"left\" fill=\"currentColor\" text-anchor=\"middle\">det</textPath>\n",
       "    </text>\n",
       "    <path class=\"displacy-arrowhead\" d=\"M245,441.5 L237,429.5 253,429.5\" fill=\"currentColor\"/>\n",
       "</g>\n",
       "\n",
       "<g class=\"displacy-arrow\">\n",
       "    <path class=\"displacy-arc\" id=\"arrow-a14e4017b4234399b6c3d3ca2793a6e0-0-2\" stroke-width=\"2px\" d=\"M420,439.5 C420,352.0 555.0,352.0 555.0,439.5\" fill=\"none\" stroke=\"currentColor\"/>\n",
       "    <text dy=\"1.25em\" style=\"font-size: 0.8em; letter-spacing: 1px\">\n",
       "        <textPath xlink:href=\"#arrow-a14e4017b4234399b6c3d3ca2793a6e0-0-2\" class=\"displacy-label\" startOffset=\"50%\" side=\"left\" fill=\"currentColor\" text-anchor=\"middle\">compound</textPath>\n",
       "    </text>\n",
       "    <path class=\"displacy-arrowhead\" d=\"M420,441.5 L412,429.5 428,429.5\" fill=\"currentColor\"/>\n",
       "</g>\n",
       "\n",
       "<g class=\"displacy-arrow\">\n",
       "    <path class=\"displacy-arc\" id=\"arrow-a14e4017b4234399b6c3d3ca2793a6e0-0-3\" stroke-width=\"2px\" d=\"M70,439.5 C70,177.0 565.0,177.0 565.0,439.5\" fill=\"none\" stroke=\"currentColor\"/>\n",
       "    <text dy=\"1.25em\" style=\"font-size: 0.8em; letter-spacing: 1px\">\n",
       "        <textPath xlink:href=\"#arrow-a14e4017b4234399b6c3d3ca2793a6e0-0-3\" class=\"displacy-label\" startOffset=\"50%\" side=\"left\" fill=\"currentColor\" text-anchor=\"middle\">dobj</textPath>\n",
       "    </text>\n",
       "    <path class=\"displacy-arrowhead\" d=\"M565.0,441.5 L573.0,429.5 557.0,429.5\" fill=\"currentColor\"/>\n",
       "</g>\n",
       "\n",
       "<g class=\"displacy-arrow\">\n",
       "    <path class=\"displacy-arc\" id=\"arrow-a14e4017b4234399b6c3d3ca2793a6e0-0-4\" stroke-width=\"2px\" d=\"M70,439.5 C70,89.5 745.0,89.5 745.0,439.5\" fill=\"none\" stroke=\"currentColor\"/>\n",
       "    <text dy=\"1.25em\" style=\"font-size: 0.8em; letter-spacing: 1px\">\n",
       "        <textPath xlink:href=\"#arrow-a14e4017b4234399b6c3d3ca2793a6e0-0-4\" class=\"displacy-label\" startOffset=\"50%\" side=\"left\" fill=\"currentColor\" text-anchor=\"middle\">prep</textPath>\n",
       "    </text>\n",
       "    <path class=\"displacy-arrowhead\" d=\"M745.0,441.5 L753.0,429.5 737.0,429.5\" fill=\"currentColor\"/>\n",
       "</g>\n",
       "\n",
       "<g class=\"displacy-arrow\">\n",
       "    <path class=\"displacy-arc\" id=\"arrow-a14e4017b4234399b6c3d3ca2793a6e0-0-5\" stroke-width=\"2px\" d=\"M770,439.5 C770,352.0 905.0,352.0 905.0,439.5\" fill=\"none\" stroke=\"currentColor\"/>\n",
       "    <text dy=\"1.25em\" style=\"font-size: 0.8em; letter-spacing: 1px\">\n",
       "        <textPath xlink:href=\"#arrow-a14e4017b4234399b6c3d3ca2793a6e0-0-5\" class=\"displacy-label\" startOffset=\"50%\" side=\"left\" fill=\"currentColor\" text-anchor=\"middle\">pobj</textPath>\n",
       "    </text>\n",
       "    <path class=\"displacy-arrowhead\" d=\"M905.0,441.5 L913.0,429.5 897.0,429.5\" fill=\"currentColor\"/>\n",
       "</g>\n",
       "</svg></span>"
      ],
      "text/plain": [
       "<IPython.core.display.HTML object>"
      ]
     },
     "metadata": {},
     "output_type": "display_data"
    }
   ],
   "source": [
    "displacy.render(nlp('Removing all event handlers in one go'))"
   ]
  },
  {
   "cell_type": "code",
   "execution_count": 14,
   "id": "a02f7c17",
   "metadata": {},
   "outputs": [
    {
     "data": {
      "text/plain": [
       "'clausal subject'"
      ]
     },
     "execution_count": 14,
     "metadata": {},
     "output_type": "execute_result"
    }
   ],
   "source": [
    "spacy.explain('csubj')"
   ]
  },
  {
   "cell_type": "markdown",
   "id": "21089837",
   "metadata": {},
   "source": [
    "## Iteration"
   ]
  },
  {
   "cell_type": "code",
   "execution_count": 15,
   "id": "ebe80056",
   "metadata": {},
   "outputs": [
    {
     "data": {
      "text/plain": [
       "(1858, 1208, 1696)"
      ]
     },
     "execution_count": 15,
     "metadata": {},
     "output_type": "execute_result"
    }
   ],
   "source": [
    "df_tags = pd.read_csv('Tags.csv')\n",
    "go_ids = df_tags.loc[lambda d: d['Tag'] == 'go']['Id']\n",
    "\n",
    "def has_go_token(doc):\n",
    "    for t in doc:\n",
    "        if t.lower_ in ['go', 'golang']:\n",
    "            return True\n",
    "    return False\n",
    "\n",
    "all_go_sentences = df.loc[lambda d: d['Id'].isin(go_ids)]['Title'].to_list()\n",
    "detectable = [d.text for d in nlp.pipe(all_go_sentences) if has_go_token(d)]\n",
    "\n",
    "non_detectable = (df\n",
    "                 .loc[lambda d: ~d['Id'].isin(go_ids)]\n",
    "                 .loc[lambda d: d['Title'].str.lower().str.contains(\"go\")]\n",
    "                 ['Title']\n",
    "                 .to_list())\n",
    "\n",
    "non_detectable = [d.text for d in nlp.pipe(non_detectable) if has_go_token(d)]\n",
    "\n",
    "len(all_go_sentences), len(detectable), len(non_detectable)"
   ]
  },
  {
   "cell_type": "code",
   "execution_count": 18,
   "id": "0532cf5e",
   "metadata": {},
   "outputs": [
    {
     "data": {
      "text/plain": [
       "'0.9098922624877571, 0.7690397350993378, 0.8722451790633609, en_core_web_sm, not-verb'"
      ]
     },
     "execution_count": 18,
     "metadata": {},
     "output_type": "execute_result"
    }
   ],
   "source": [
    "model_name = 'en_core_web_sm'\n",
    "model = spacy.load(model_name, disable = ['ner'])\n",
    "\n",
    "def has_go_token(doc):\n",
    "    for t in doc:\n",
    "        if t.lower_ in ['go', 'golang']:\n",
    "            if t.pos_ != 'VERB':\n",
    "                return True\n",
    "    return False\n",
    "\n",
    "method = \"not-verb\"\n",
    "\n",
    "correct = sum(has_go_token(doc) for doc in model.pipe(detectable))\n",
    "wrong = sum(has_go_token(doc) for doc in model.pipe(non_detectable))\n",
    "precision = correct / (correct + wrong)\n",
    "recall = correct / len(detectable)\n",
    "accuracy = (correct + len(non_detectable) - wrong) / (len(detectable) + len(non_detectable))\n",
    "\n",
    "f\"{precision}, {recall}, {accuracy}, {model_name}, {method}\""
   ]
  },
  {
   "cell_type": "markdown",
   "id": "429b9f7e",
   "metadata": {},
   "source": [
    "# 02 Detecting more languages"
   ]
  },
  {
   "cell_type": "code",
   "execution_count": 19,
   "id": "e091fa77",
   "metadata": {},
   "outputs": [],
   "source": [
    "import spacy\n",
    "import pandas as pd\n",
    "from spacy import displacy"
   ]
  },
  {
   "cell_type": "code",
   "execution_count": 20,
   "id": "75d64eeb",
   "metadata": {},
   "outputs": [],
   "source": [
    "nlp = spacy.load('en_core_web_sm')"
   ]
  },
  {
   "cell_type": "code",
   "execution_count": 21,
   "id": "33e64eca",
   "metadata": {},
   "outputs": [],
   "source": [
    "def has_go_token(doc):\n",
    "    for t in doc:\n",
    "        if t.lower_ in ['go', 'golang', 'python', 'ruby', 'objective-c']:\n",
    "            if t.pos_ != 'VERB':\n",
    "                return True\n",
    "    return False"
   ]
  },
  {
   "cell_type": "code",
   "execution_count": 23,
   "id": "4760bb72",
   "metadata": {},
   "outputs": [
    {
     "data": {
      "text/plain": [
       "False"
      ]
     },
     "execution_count": 23,
     "metadata": {},
     "output_type": "execute_result"
    }
   ],
   "source": [
    "doc = nlp('i like to program in objective-c')\n",
    "has_go_token(doc)"
   ]
  },
  {
   "cell_type": "code",
   "execution_count": 24,
   "id": "f1d4867a",
   "metadata": {},
   "outputs": [
    {
     "data": {
      "text/plain": [
       "[i, like, to, program, in, objective, -, c]"
      ]
     },
     "execution_count": 24,
     "metadata": {},
     "output_type": "execute_result"
    }
   ],
   "source": [
    "[t for t in doc]"
   ]
  },
  {
   "cell_type": "code",
   "execution_count": 35,
   "id": "2441f5de",
   "metadata": {},
   "outputs": [],
   "source": [
    "obj_c_pattern = [{'LOWER': 'objective'}, {'IS_PUNCT': True}, {'LOWER': 'c'}]\n",
    "\n",
    "golang_pattern = [{'LOWER': {'IN': ['go', 'golang']}, 'POS':{'NOT_IN': ['VERB']}}]"
   ]
  },
  {
   "cell_type": "code",
   "execution_count": 38,
   "id": "0eab9228",
   "metadata": {},
   "outputs": [],
   "source": [
    "from spacy.matcher import Matcher\n",
    "\n",
    "matcher = Matcher(nlp.vocab)\n",
    "matcher.add(\"OBJ_C_LANG\", [obj_c_pattern])\n",
    "matcher.add(\"GOLANG_LANG\", [golang_pattern])"
   ]
  },
  {
   "cell_type": "code",
   "execution_count": 39,
   "id": "8dcb77ec",
   "metadata": {},
   "outputs": [
    {
     "name": "stdout",
     "output_type": "stream",
     "text": [
      "golang\n",
      "objective-c\n"
     ]
    }
   ],
   "source": [
    "doc = nlp(\"I code both in golang as well as objective-c\")\n",
    "for match_id, start, end in matcher(doc):\n",
    "    print(doc[start: end])"
   ]
  },
  {
   "cell_type": "code",
   "execution_count": 34,
   "id": "d0c6c4c2",
   "metadata": {},
   "outputs": [
    {
     "data": {
      "text/plain": [
       "objective-c"
      ]
     },
     "execution_count": 34,
     "metadata": {},
     "output_type": "execute_result"
    }
   ],
   "source": [
    "doc[5:8]"
   ]
  },
  {
   "cell_type": "code",
   "execution_count": 40,
   "id": "e6dbef3a",
   "metadata": {},
   "outputs": [],
   "source": [
    "# cleaned-up-code"
   ]
  },
  {
   "cell_type": "code",
   "execution_count": 53,
   "id": "1f4c115f",
   "metadata": {},
   "outputs": [],
   "source": [
    "from spacy.matcher import Matcher\n",
    "\n",
    "obj_c_pattern_1 = [{'LOWER': 'objective'},\n",
    "                   {'IS_PUNCT': True, 'OP': '?'},\n",
    "                   {'LOWER': 'c'}]\n",
    "obj_c_pattern_2 = [{'LOWER': 'objectivec'}]\n",
    "\n",
    "golang_pattern_1 = [{'LOWER': 'golang'}]\n",
    "golang_pattern_2 = [{'LOWER': 'go',\n",
    "                    'POS': {'NOT_IN': ['VERB']}}]\n",
    "\n",
    "python_pattern = [{'LOWER': 'python'}]\n",
    "ruby_pattern = [{'LOWER': 'ruby'}]\n",
    "js_pattern = [{'LOWER': {'IN': ['js', 'javascript']}}]\n",
    "\n",
    "matcher = Matcher(nlp.vocab)\n",
    "matcher.add(\"OBJ_C_LANG\", [obj_c_pattern_1, obj_c_pattern_2])\n",
    "matcher.add(\"GOLANG_LANG\", [golang_pattern_1, golang_pattern_2])\n",
    "matcher.add(\"PYTHON_LANG\", [python_pattern])\n",
    "matcher.add(\"JS_LANG\", [js_pattern])\n",
    "matcher.add(\"RUBY_LANG\", [ruby_pattern])"
   ]
  },
  {
   "cell_type": "code",
   "execution_count": 54,
   "id": "ad834d49",
   "metadata": {},
   "outputs": [
    {
     "name": "stdout",
     "output_type": "stream",
     "text": [
      "python\n",
      "golang\n",
      "objective-c\n"
     ]
    }
   ],
   "source": [
    "doc = nlp(\"I code in both python, go/golang as well as objective-c\")\n",
    "for match_id, start, end in matcher(doc):\n",
    "    print(doc[start: end])"
   ]
  },
  {
   "cell_type": "code",
   "execution_count": 55,
   "id": "17b7eea4",
   "metadata": {},
   "outputs": [
    {
     "name": "stdout",
     "output_type": "stream",
     "text": [
      "js\n",
      "ruby\n"
     ]
    }
   ],
   "source": [
    "doc = nlp(\"I've done some js and ruby and go programming\")\n",
    "for match_id, start, end in matcher(doc):\n",
    "    print(doc[start: end])"
   ]
  },
  {
   "cell_type": "code",
   "execution_count": 56,
   "id": "90ceef1f",
   "metadata": {},
   "outputs": [
    {
     "data": {
      "text/plain": [
       "[(I, 'PRON'),\n",
       " ('ve, 'AUX'),\n",
       " (done, 'VERB'),\n",
       " (some, 'DET'),\n",
       " (js, 'ADJ'),\n",
       " (and, 'CCONJ'),\n",
       " (ruby, 'PROPN'),\n",
       " (and, 'CCONJ'),\n",
       " (go, 'VERB'),\n",
       " (programming, 'NOUN')]"
      ]
     },
     "execution_count": 56,
     "metadata": {},
     "output_type": "execute_result"
    }
   ],
   "source": [
    "[(t, t.pos_) for t in doc]"
   ]
  },
  {
   "cell_type": "markdown",
   "id": "f6a52bff",
   "metadata": {},
   "source": [
    "## Benchmarking"
   ]
  },
  {
   "cell_type": "code",
   "execution_count": 57,
   "id": "3e31c0e5",
   "metadata": {},
   "outputs": [],
   "source": [
    "import pandas as pd\n",
    "\n",
    "df = (pd.read_csv(\"Questions.csv\", nrows = 1_000_000,\n",
    "                 encoding = 'ISO-8859-1', usecols = ['Title', 'Id']))"
   ]
  },
  {
   "cell_type": "code",
   "execution_count": 58,
   "id": "13aa0fc5",
   "metadata": {},
   "outputs": [],
   "source": [
    "titles = (_ for _ in df['Title'] if \"objective\" in _.lower())"
   ]
  },
  {
   "cell_type": "code",
   "execution_count": 59,
   "id": "bf10dc79",
   "metadata": {},
   "outputs": [
    {
     "name": "stdout",
     "output_type": "stream",
     "text": [
      "Having to set objectives for developers, even though objectives don't work\n",
      "How can i connect MySQL database with objective project?\n",
      "Downloading multiple files in iphone app(Objective c)\n",
      "Including Objective C++ Type in C++ Class Definition\n",
      "Storing UIImages with ObjectiveRecord and ObjectiveSync\n",
      "__OBJC__ equivalent for Objective-C++\n",
      "iPhone Device/Simulator memory oddities using Objective-C++\n",
      "How well is Objective-J documented? Is the documentation good enough to start using it seriously?\n"
     ]
    }
   ],
   "source": [
    "for i in range(200):\n",
    "    doc = nlp(next(titles))\n",
    "    if len(matcher(doc)) == 0:\n",
    "        print(doc)"
   ]
  },
  {
   "cell_type": "markdown",
   "id": "bf8ea3df",
   "metadata": {},
   "source": [
    "# 03 "
   ]
  },
  {
   "cell_type": "code",
   "execution_count": 60,
   "id": "27bc4874",
   "metadata": {},
   "outputs": [
    {
     "name": "stdout",
     "output_type": "stream",
     "text": [
      "How do I run Rake tasks within a Ruby script?\n",
      "How can I create Prototype Methods (like JavaScript) in C#.Net?\n",
      "Some kind of task manager for JavaScript in Firefox 3?\n",
      "Best practices for managing and deploying large JavaScript apps\n",
      "Create an encrypted ZIP file in Python\n",
      "Code to ask yes/no question in javascript\n",
      "Executing JavaScript from Flex: Is this javascript function dangerous?\n",
      "What Javascript rich text editor will not break the browser's spellcheck?\n",
      "How do I marshal a lambda (Proc) in Ruby?\n",
      "Ruby Performance\n"
     ]
    }
   ],
   "source": [
    "titles = (_ for _ in df['Title'])\n",
    "g = (d for d in nlp.pipe(titles) if len(matcher(d)) > 0)\n",
    "for i in range(10):\n",
    "    print(next(g))"
   ]
  },
  {
   "cell_type": "markdown",
   "id": "bcea3296",
   "metadata": {},
   "source": [
    "### Extending Jupyter"
   ]
  },
  {
   "cell_type": "code",
   "execution_count": 63,
   "id": "e76e58d4",
   "metadata": {},
   "outputs": [],
   "source": [
    "from IPython.display import HTML as html_print\n",
    "\n",
    "def style(s, bold = False):\n",
    "    blob = f\"<text>{s}<text>\"\n",
    "    if bold:\n",
    "        blob = f\"<b style='backgorund-color: #fff59d'>{blob}</b>\"\n",
    "    return blob\n",
    "\n",
    "def html_generator(g, n = 10):\n",
    "    blob = \"\"\n",
    "    for i in range(n):\n",
    "        doc = next(g)\n",
    "        \n",
    "        state = [[t, False] for t in doc]\n",
    "        for idx, start, end in matcher(doc):\n",
    "            for i in range(start, end):\n",
    "                state[i][1] = True\n",
    "        blob += style(' '.join([style(str(t[0]), bold = t[1]) for t in state]) + '<br>')\n",
    "    return blob"
   ]
  },
  {
   "cell_type": "code",
   "execution_count": 64,
   "id": "2ae581b5",
   "metadata": {},
   "outputs": [
    {
     "data": {
      "text/html": [
       "<text><text>How<text> <text>do<text> <text>I<text> <text>run<text> <text>Rake<text> <text>tasks<text> <text>within<text> <text>a<text> <b style='backgorund-color: #fff59d'><text>Ruby<text></b> <text>script<text> <text>?<text><br><text><text><text>How<text> <text>can<text> <text>I<text> <text>create<text> <text>Prototype<text> <text>Methods<text> <text>(<text> <text>like<text> <b style='backgorund-color: #fff59d'><text>JavaScript<text></b> <text>)<text> <text>in<text> <text>C#.Net<text> <text>?<text><br><text><text><text>Some<text> <text>kind<text> <text>of<text> <text>task<text> <text>manager<text> <text>for<text> <b style='backgorund-color: #fff59d'><text>JavaScript<text></b> <text>in<text> <text>Firefox<text> <text>3<text> <text>?<text><br><text><text><text>Best<text> <text>practices<text> <text>for<text> <text>managing<text> <text>and<text> <text>deploying<text> <text>large<text> <b style='backgorund-color: #fff59d'><text>JavaScript<text></b> <text>apps<text><br><text><text><text>Create<text> <text>an<text> <text>encrypted<text> <text>ZIP<text> <text>file<text> <text>in<text> <b style='backgorund-color: #fff59d'><text>Python<text></b><br><text><text><text>Code<text> <text>to<text> <text>ask<text> <text>yes<text> <text>/<text> <text>no<text> <text>question<text> <text>in<text> <b style='backgorund-color: #fff59d'><text>javascript<text></b><br><text><text><text>Executing<text> <b style='backgorund-color: #fff59d'><text>JavaScript<text></b> <text>from<text> <text>Flex<text> <text>:<text> <text>Is<text> <text>this<text> <b style='backgorund-color: #fff59d'><text>javascript<text></b> <text>function<text> <text>dangerous<text> <text>?<text><br><text><text><text>What<text> <b style='backgorund-color: #fff59d'><text>Javascript<text></b> <text>rich<text> <text>text<text> <text>editor<text> <text>will<text> <text>not<text> <text>break<text> <text>the<text> <text>browser<text> <text>'s<text> <text>spellcheck<text> <text>?<text><br><text><text><text>How<text> <text>do<text> <text>I<text> <text>marshal<text> <text>a<text> <text>lambda<text> <text>(<text> <text>Proc<text> <text>)<text> <text>in<text> <b style='backgorund-color: #fff59d'><text>Ruby<text></b> <text>?<text><br><text><text><b style='backgorund-color: #fff59d'><text>Ruby<text></b> <text>Performance<text><br><text>"
      ],
      "text/plain": [
       "<IPython.core.display.HTML object>"
      ]
     },
     "execution_count": 64,
     "metadata": {},
     "output_type": "execute_result"
    }
   ],
   "source": [
    "titles = (_ for _ in df['Title'])\n",
    "g = (d for d in nlp.pipe(titles) if len(matcher(d)) > 0)\n",
    "html_print(html_generator(g, n = 10))"
   ]
  },
  {
   "cell_type": "markdown",
   "id": "2b63e113",
   "metadata": {},
   "source": [
    "### Adding more languages"
   ]
  },
  {
   "cell_type": "code",
   "execution_count": 65,
   "id": "97a8c9bf",
   "metadata": {},
   "outputs": [],
   "source": [
    "import spacy \n",
    "from spacy.matcher import Matcher\n",
    "\n",
    "nlp = spacy.load(\"en_core_web_sm\")"
   ]
  },
  {
   "cell_type": "code",
   "execution_count": 66,
   "id": "e370a53b",
   "metadata": {},
   "outputs": [],
   "source": [
    "obj_c_pattern1 = [{'LOWER': 'objective'},\n",
    "                  {'IS_PUNCT': True, 'OP': '?'},\n",
    "                  {'LOWER': 'c'}]\n",
    "obj_c_pattern2 = [{'LOWER': 'objectivec'}]\n",
    "\n",
    "csharp_pattern1 = [{'LOWER': 'c'}, {'LOWER': '#'}]\n",
    "csharp_pattern2 = [{'LOWER': 'c'}, {'LOWER': 'sharp'}]\n",
    "csharp_pattern3 = [{'LOWER': 'c#'}]\n",
    "\n",
    "fsharp_pattern1 = [{'LOWER': 'f'}, {'LOWER': '#'}]\n",
    "fsharp_pattern2 = [{'LOWER': 'f'}, {'LOWER': 'sharp'}]\n",
    "fsharp_pattern3 = [{'LOWER': 'f#'}]\n",
    " \n",
    "dot_net_pattern = [{'LOWER': '.net'}]\n",
    "\n",
    "php_pattern = [{'LOWER': 'php'}]\n",
    "\n",
    "asp_net_pattern = [{'LOWER': {'IN': ['asp.net', 'asp']}}]\n",
    "\n",
    "python_pattern = [{'LOWER': 'python'}]\n",
    "\n",
    "lisp_pattern1  = [{'LOWER': 'lisp'}]\n",
    "lisp_pattern2  = [{'LOWER': 'common'}, {'LOWER': 'lisp'}]\n",
    "\n",
    "go_pattern1    = [{'LOWER': 'go', 'POS': {'NOT_IN': ['VERB']}}]\n",
    "go_pattern2    = [{'LOWER': 'golang'}]\n",
    "\n",
    "ruby_pattern   = [{'LOWER': 'ruby'}]\n",
    "\n",
    "sql_pattern    = [{'LOWER': 'sql'}]\n",
    "\n",
    "matlab_pattern = [{'LOWER': 'matlab'}]\n",
    "\n",
    "perl_pattern   = [{'LOWER': 'perl'}]\n",
    "\n",
    "html_pattern   = [{'LOWER': 'html'}]\n",
    "\n",
    "css_pattern   = [{'LOWER': 'css'}]\n",
    "\n",
    "js_pattern     = [{'LOWER': {'IN': ['js', 'javascript']}}]\n",
    "\n",
    "java_pattern   = [{'LOWER': 'java'}]\n",
    "\n",
    "c_pattern      = [{'LOWER': 'c'}]\n",
    "\n",
    "cpp_pattern    = [{'LOWER': 'c++'}]\n",
    "\n",
    "matcher = Matcher(nlp.vocab)\n",
    "matcher.add(\"OBJ_C_LANG\", [obj_c_pattern1, obj_c_pattern2])\n",
    "matcher.add(\"CSHARP_LANG\", [csharp_pattern1, csharp_pattern2, csharp_pattern3])\n",
    "matcher.add(\"FSHARP_LANG\", [fsharp_pattern1, fsharp_pattern2, fsharp_pattern3])\n",
    "matcher.add(\"DOT_NET_LANG\", [dot_net_pattern])\n",
    "matcher.add(\"PHP_LANG\", [php_pattern])\n",
    "matcher.add(\"ASP_NET_LANG\", [asp_net_pattern])\n",
    "matcher.add(\"PYTHON_LANG\", [python_pattern])\n",
    "matcher.add(\"LISP_LANG\", [lisp_pattern1, lisp_pattern2])\n",
    "matcher.add(\"GO_LANG\", [go_pattern1, go_pattern2])\n",
    "matcher.add(\"RUBY_LANG\", [ruby_pattern])\n",
    "matcher.add(\"SQL_LANG\", [sql_pattern])\n",
    "matcher.add(\"MATLAB_LANG\", [matlab_pattern])\n",
    "matcher.add(\"PERL_LANG\", [perl_pattern])\n",
    "matcher.add(\"HTML_LANG\", [html_pattern])\n",
    "matcher.add(\"CSS_LANG\", [css_pattern])\n",
    "matcher.add(\"JS_LANG\", [js_pattern])\n",
    "matcher.add(\"JAVA_LANG\", [java_pattern])\n",
    "matcher.add(\"C_LANG\", [c_pattern])\n",
    "matcher.add(\"CPP_LANG\", [cpp_pattern])"
   ]
  },
  {
   "cell_type": "markdown",
   "id": "a9fd02ac",
   "metadata": {},
   "source": [
    "## Actual labelling"
   ]
  },
  {
   "cell_type": "code",
   "execution_count": 67,
   "id": "2efeb6e8",
   "metadata": {},
   "outputs": [
    {
     "data": {
      "text/plain": [
       "647"
      ]
     },
     "execution_count": 67,
     "metadata": {},
     "output_type": "execute_result"
    }
   ],
   "source": [
    "titles = (_ for _ in df['Title'][:2000])\n",
    "sum(1 for d in nlp.pipe(titles) if len(matcher(d)) > 0)"
   ]
  },
  {
   "cell_type": "code",
   "execution_count": 68,
   "id": "5a4c1494",
   "metadata": {},
   "outputs": [
    {
     "data": {
      "text/html": [
       "<div>\n",
       "<style scoped>\n",
       "    .dataframe tbody tr th:only-of-type {\n",
       "        vertical-align: middle;\n",
       "    }\n",
       "\n",
       "    .dataframe tbody tr th {\n",
       "        vertical-align: top;\n",
       "    }\n",
       "\n",
       "    .dataframe thead th {\n",
       "        text-align: right;\n",
       "    }\n",
       "</style>\n",
       "<table border=\"1\" class=\"dataframe\">\n",
       "  <thead>\n",
       "    <tr style=\"text-align: right;\">\n",
       "      <th></th>\n",
       "      <th>Id</th>\n",
       "      <th>Title</th>\n",
       "    </tr>\n",
       "  </thead>\n",
       "  <tbody>\n",
       "    <tr>\n",
       "      <th>0</th>\n",
       "      <td>80</td>\n",
       "      <td>SQLStatement.execute() - multiple queries in o...</td>\n",
       "    </tr>\n",
       "    <tr>\n",
       "      <th>1</th>\n",
       "      <td>90</td>\n",
       "      <td>Good branching and merging tutorials for Torto...</td>\n",
       "    </tr>\n",
       "    <tr>\n",
       "      <th>2</th>\n",
       "      <td>120</td>\n",
       "      <td>ASP.NET Site Maps</td>\n",
       "    </tr>\n",
       "    <tr>\n",
       "      <th>3</th>\n",
       "      <td>180</td>\n",
       "      <td>Function for creating color wheels</td>\n",
       "    </tr>\n",
       "    <tr>\n",
       "      <th>4</th>\n",
       "      <td>260</td>\n",
       "      <td>Adding scripting functionality to .NET applica...</td>\n",
       "    </tr>\n",
       "  </tbody>\n",
       "</table>\n",
       "</div>"
      ],
      "text/plain": [
       "    Id                                              Title\n",
       "0   80  SQLStatement.execute() - multiple queries in o...\n",
       "1   90  Good branching and merging tutorials for Torto...\n",
       "2  120                                  ASP.NET Site Maps\n",
       "3  180                 Function for creating color wheels\n",
       "4  260  Adding scripting functionality to .NET applica..."
      ]
     },
     "execution_count": 68,
     "metadata": {},
     "output_type": "execute_result"
    }
   ],
   "source": [
    "df.head()"
   ]
  },
  {
   "cell_type": "code",
   "execution_count": null,
   "id": "4b95ffdf",
   "metadata": {},
   "outputs": [],
   "source": []
  }
 ],
 "metadata": {
  "kernelspec": {
   "display_name": "Python 3 (ipykernel)",
   "language": "python",
   "name": "python3"
  },
  "language_info": {
   "codemirror_mode": {
    "name": "ipython",
    "version": 3
   },
   "file_extension": ".py",
   "mimetype": "text/x-python",
   "name": "python",
   "nbconvert_exporter": "python",
   "pygments_lexer": "ipython3",
   "version": "3.11.3"
  }
 },
 "nbformat": 4,
 "nbformat_minor": 5
}
